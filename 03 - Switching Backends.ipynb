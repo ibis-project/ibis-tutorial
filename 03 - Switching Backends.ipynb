{
  "cells": [
    {
      "cell_type": "markdown",
      "metadata": {},
      "source": [
        "# Switching Backends\n",
        "\n",
        "One use case for Ibis's portable API is the ability to develop a query locally\n",
        "(using `duckdb`, for example) on a subset of the data, then rerun that same\n",
        "query on the full dataset (using `bigquery`, for example) without rewriting\n",
        "your code.\n",
        "\n",
        "In this notebook we'll develop some queries locally on a subset of a real world\n",
        "dataset, then rerun those same queries on the full remote dataset.\n",
        "\n",
        "## IMDB Dataset\n",
        "\n",
        "For this section, we'll use some of Ibis' built-in example datasets,\n",
        "specifically, some IMDB data.\n",
        "\n",
        "**Note**: the full data for both of these tables is available in\n",
        "`ibis.examples.imdb_title_ratings` and `ibis.examples.imdb_title_basics`, but\n",
        "we're not using those in-person to avoid everyone downloading the same 250mb\n",
        "file at once."
      ]
    },
    {
      "cell_type": "code",
      "metadata": {},
      "source": [
        "from pathlib import Path\n",
        "\n",
        "filenames = [\n",
        "    \"imdb_title_basics_sample_5.parquet\",\n",
        "    \"imdb_title_ratings.parquet\",\n",
        "]\n",
        "\n",
        "folder = Path(\"imdb_smol\")\n",
        "folder.mkdir(exist_ok=True)"
      ],
      "execution_count": null,
      "outputs": []
    },
    {
      "cell_type": "code",
      "metadata": {},
      "source": [
        "for filename in filenames:\n",
        "    path = folder / filename\n",
        "    if not path.exists():\n",
        "        import urllib.request\n",
        "\n",
        "        urllib.request.urlretrieve(\n",
        "            f\"https://storage.googleapis.com/ibis-tutorial-data/imdb/2024-03-22/{filename}\",\n",
        "            path,\n",
        "        )"
      ],
      "execution_count": null,
      "outputs": []
    },
    {
      "cell_type": "code",
      "metadata": {},
      "source": [
        "!ls imdb_smol/"
      ],
      "execution_count": null,
      "outputs": []
    },
    {
      "cell_type": "markdown",
      "metadata": {},
      "source": [
        "### Parquet loading\n",
        "\n",
        "In the previous examples we used a pre-existing DuckDB database, and some\n",
        "in-memory tables. Another common pattern is that you have a few parquet files\n",
        "you want to work with. We can load those in to an in-memory DuckDB connection.\n",
        "(Note that \"in-memory\" here just means ephemeral, DuckDB is still very happy to\n",
        "operate on as much data as your hard drive can hold)"
      ]
    },
    {
      "cell_type": "code",
      "metadata": {},
      "source": [
        "import ibis\n",
        "from ibis import _\n",
        "\n",
        "ibis.options.interactive = True"
      ],
      "execution_count": null,
      "outputs": []
    },
    {
      "cell_type": "code",
      "metadata": {},
      "source": [
        "con = ibis.duckdb.connect()"
      ],
      "execution_count": null,
      "outputs": []
    },
    {
      "cell_type": "code",
      "metadata": {},
      "source": [
        "basics = con.read_parquet(\n",
        "    \"imdb_smol/imdb_title_basics_sample_5.parquet\", table_name=\"imdb_title_basics\"\n",
        ")"
      ],
      "execution_count": null,
      "outputs": []
    },
    {
      "cell_type": "code",
      "metadata": {},
      "source": [
        "ratings = con.read_parquet(\n",
        "    \"imdb_smol/imdb_title_ratings.parquet\", table_name=\"imdb_title_ratings\"\n",
        ")"
      ],
      "execution_count": null,
      "outputs": []
    },
    {
      "cell_type": "markdown",
      "metadata": {},
      "source": [
        "The `read_parquet` method returns an Ibis table that points to the\n",
        "to-be-ingested `parquet` file. \n",
        "\n",
        "`read_parquet` also registers the table with DuckDB (or another backend), so\n",
        "you can also load the tables like we did for the `penguins` table in the\n",
        "previous notebook."
      ]
    },
    {
      "cell_type": "code",
      "metadata": {},
      "source": [
        "basics = con.tables.imdb_title_basics  # this cell is redundant, just here for demonstration"
      ],
      "execution_count": null,
      "outputs": []
    },
    {
      "cell_type": "code",
      "metadata": {},
      "source": [
        "ratings = con.tables.imdb_title_ratings  # this cell is redundant, just here for demonstration"
      ],
      "execution_count": null,
      "outputs": []
    },
    {
      "cell_type": "code",
      "metadata": {
        "scrolled": true
      },
      "source": [
        "basics"
      ],
      "execution_count": null,
      "outputs": []
    },
    {
      "cell_type": "markdown",
      "metadata": {},
      "source": [
        "## Exercises\n",
        "\n",
        "### Exercise 1\n",
        "\n",
        "Join `basics` with `ratings` on the `tconst` column.\n",
        "\n",
        "\n",
        "#### Solution"
      ]
    },
    {
      "cell_type": "code",
      "metadata": {
        "scrolled": true
      },
      "source": [
        "%load solutions/nb03_ex01.py"
      ],
      "execution_count": null,
      "outputs": []
    },
    {
      "cell_type": "markdown",
      "metadata": {},
      "source": [
        "### Exercise 2\n",
        "\n",
        "Join `basics` with `ratings` on `tconst`, and select out only the `titleType`,\n",
        "`primaryTitle`, `numVotes`, `averageRating`, and `isAdult`  columns.\n",
        "\n",
        "\n",
        "#### Solution"
      ]
    },
    {
      "cell_type": "code",
      "metadata": {},
      "source": [
        "%load solutions/nb03_ex02.py"
      ],
      "execution_count": null,
      "outputs": []
    },
    {
      "cell_type": "markdown",
      "metadata": {},
      "source": [
        "### Exercise 3\n",
        "\n",
        "Those `camelCase` column names aren't [PEP\n",
        "8](https://peps.python.org/pep-0008/) compliant, and feel a bit clunky to use.\n",
        "Modify the above to change them to `snake_case` (for example, rename\n",
        "`titleType` to `title_type`).\n",
        "\n",
        "There are two ways you might achieve this:\n",
        "\n",
        "- Using the `Table.rename` method\n",
        "- Or by modifying the `.select` used above to do the relabeling in one step.\n",
        "\n",
        "\n",
        "#### Solution"
      ]
    },
    {
      "cell_type": "code",
      "metadata": {},
      "source": [
        "%load solutions/nb03_ex03_rename.py"
      ],
      "execution_count": null,
      "outputs": []
    },
    {
      "cell_type": "code",
      "metadata": {},
      "source": [
        "%load solutions/nb03_ex03_select.py"
      ],
      "execution_count": null,
      "outputs": []
    },
    {
      "cell_type": "markdown",
      "metadata": {},
      "source": [
        "### Exercise 4\n",
        "\n",
        "Using the above joined table, compute the 10 non-adult movies with the highest\n",
        "average rating having received at least 100,000 votes.\n",
        "\n",
        "\n",
        "#### Solution"
      ]
    },
    {
      "cell_type": "code",
      "metadata": {},
      "source": [
        "%load solutions/nb03_ex04.py"
      ],
      "execution_count": null,
      "outputs": []
    },
    {
      "cell_type": "markdown",
      "metadata": {},
      "source": [
        "## Expression portability\n",
        "\n",
        "Let's turn off interactive mode for a moment."
      ]
    },
    {
      "cell_type": "code",
      "metadata": {},
      "source": [
        "ibis.options.interactive = False"
      ],
      "execution_count": null,
      "outputs": []
    },
    {
      "cell_type": "markdown",
      "metadata": {},
      "source": [
        "We've built up an Ibis expression that returns the top 10 highest rated films on\n",
        "IMDB for certain criteria.  The data we used is only a 5% sample, but the query\n",
        "should work no matter what size the data are.\n",
        "\n",
        "Now we're going to call a special `unbind` method."
      ]
    },
    {
      "cell_type": "code",
      "metadata": {},
      "source": [
        "expr = sol4.unbind()"
      ],
      "execution_count": null,
      "outputs": []
    },
    {
      "cell_type": "markdown",
      "metadata": {},
      "source": [
        "What does `unbind` do?  It takes an Ibis expression that was created using one\n",
        "backend (in our case, `DuckDB`) and generalizes it into an \"unbound\" expression.\n",
        "\n",
        "Let's look at the `repr` of the unbound expression (this will error if you have\n",
        "interactive mode on, that's why we turned it off)."
      ]
    },
    {
      "cell_type": "code",
      "metadata": {},
      "source": [
        "expr"
      ],
      "execution_count": null,
      "outputs": []
    },
    {
      "cell_type": "markdown",
      "metadata": {},
      "source": [
        "The only visible difference is that we see \"UnboundTable\" a bunch of times, and\n",
        "that's the point.  The _expression_ is independent of the backend that created\n",
        "it.\n",
        "\n",
        "So, if we had a _different_ backend connection, that had the full IMDB ratings\n",
        "data loaded into it, could we run our locally developed query against the\n",
        "\"production\" data?\n",
        "\n",
        "(With caveats that the table names and schema need to match).\n",
        "\n",
        "Let's find out!"
      ]
    },
    {
      "cell_type": "code",
      "metadata": {},
      "source": [
        "pg_con = ibis.postgres.connect()"
      ],
      "execution_count": null,
      "outputs": []
    },
    {
      "cell_type": "code",
      "metadata": {},
      "source": [
        "pg_con.list_tables()"
      ],
      "execution_count": null,
      "outputs": []
    },
    {
      "cell_type": "markdown",
      "metadata": {},
      "source": [
        "That seems promising.\n",
        "\n",
        "Now, we can't call `expr.to_pandas()` because the expression isn't _bound_ to a\n",
        "backend.  Ibis doesn't know (anymore) where to execute it. Instead, we can use\n",
        "the `to_pandas` (or similar) method on the backend connection object itself:"
      ]
    },
    {
      "cell_type": "code",
      "metadata": {},
      "source": [
        "pg_con.to_pandas(expr, limit=10)"
      ],
      "execution_count": null,
      "outputs": []
    }
  ],
  "metadata": {
    "kernelspec": {
      "name": "python3",
      "language": "python",
      "display_name": "Python 3 (ipykernel)"
    }
  },
  "nbformat": 4,
  "nbformat_minor": 4
}