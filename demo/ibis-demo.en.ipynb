{
  "cells": [
    {
      "cell_type": "markdown",
      "metadata": {},
      "source": [
        "# Ibis Dempo"
      ]
    },
    {
      "cell_type": "code",
      "metadata": {},
      "source": [
        "#| echo: false\n",
        "!curl -OLsS 'https://storage.googleapis.com/ibis-tutorial-data/imdb/2024-03-22/imdb_title_ratings.parquet'\n",
        "!curl -OLsS 'https://storage.googleapis.com/ibis-tutorial-data/imdb/2024-03-22/imdb_title_basics.parquet'\n",
        "!psql < create_imdb.sql\n",
        "!duckdb < load_imdb.sql"
      ],
      "execution_count": null,
      "outputs": []
    },
    {
      "cell_type": "markdown",
      "metadata": {},
      "source": [
        "First, we import Ibis:"
      ]
    },
    {
      "cell_type": "code",
      "metadata": {},
      "source": [
        "import ibis\n",
        "from ibis import *"
      ],
      "execution_count": null,
      "outputs": []
    },
    {
      "cell_type": "markdown",
      "metadata": {},
      "source": [
        "## Connect to DuckDB and create a table"
      ]
    },
    {
      "cell_type": "code",
      "metadata": {},
      "source": [
        "con = ibis.duckdb.connect()\n",
        "\n",
        "ratings = con.read_parquet(\"imdb_title_ratings.parquet\", table_name=\"imdb_title_ratings\")\n",
        "basics = con.read_parquet(\"imdb_title_basics.parquet\", table_name=\"imdb_title_basics\")"
      ],
      "execution_count": null,
      "outputs": []
    },
    {
      "cell_type": "markdown",
      "metadata": {},
      "source": [
        "We can list the names of the tables"
      ]
    },
    {
      "cell_type": "code",
      "metadata": {},
      "source": [
        "con.list_tables()"
      ],
      "execution_count": null,
      "outputs": []
    },
    {
      "cell_type": "markdown",
      "metadata": {},
      "source": [
        "And render an abstract version of the expresion withe the column's names and types:"
      ]
    },
    {
      "cell_type": "code",
      "metadata": {},
      "source": [
        "ratings"
      ],
      "execution_count": null,
      "outputs": []
    },
    {
      "cell_type": "code",
      "metadata": {},
      "source": [
        "basics"
      ],
      "execution_count": null,
      "outputs": []
    },
    {
      "cell_type": "markdown",
      "metadata": {},
      "source": [
        "Ibis works with multiple in-memory formats, including Pandas and PyArrow"
      ]
    },
    {
      "cell_type": "code",
      "metadata": {},
      "source": [
        "basics.to_pandas(limit=10)"
      ],
      "execution_count": null,
      "outputs": []
    },
    {
      "cell_type": "code",
      "metadata": {},
      "source": [
        "ratings.to_pyarrow(limit=10)"
      ],
      "execution_count": null,
      "outputs": []
    },
    {
      "cell_type": "markdown",
      "metadata": {},
      "source": [
        "And Polars, with the `to_polars()` method, if you have polars installed. \n"
      ]
    },
    {
      "cell_type": "code",
      "metadata": {},
      "source": [
        "ratings.to_polars(limit=10)"
      ],
      "execution_count": null,
      "outputs": []
    },
    {
      "cell_type": "markdown",
      "metadata": {},
      "source": [
        "## Columns with proper names, and interactive mode\n",
        "\n",
        "Sometimes, you have columns with dirty names, and you need to clean them. Ibis \n",
        "can help with that:"
      ]
    },
    {
      "cell_type": "code",
      "metadata": {},
      "source": [
        "ibis.options.interactive = True"
      ],
      "execution_count": null,
      "outputs": []
    },
    {
      "cell_type": "code",
      "metadata": {},
      "source": [
        "basics = basics.rename(\"snake_case\")"
      ],
      "execution_count": null,
      "outputs": []
    },
    {
      "cell_type": "code",
      "metadata": {},
      "source": [
        "ratings = ratings.rename(\"snake_case\")"
      ],
      "execution_count": null,
      "outputs": []
    },
    {
      "cell_type": "code",
      "metadata": {},
      "source": [
        "ratings"
      ],
      "execution_count": null,
      "outputs": []
    },
    {
      "cell_type": "code",
      "metadata": {},
      "source": [
        "basics"
      ],
      "execution_count": null,
      "outputs": []
    },
    {
      "cell_type": "markdown",
      "metadata": {},
      "source": [
        "## `ibis.to_sql()`\n",
        "\n",
        "When you need to see the SQL, we have the `to_sql()` function"
      ]
    },
    {
      "cell_type": "code",
      "metadata": {},
      "source": [
        "expr = ratings.average_rating.round().cast(\"float64\").name(\"round\")\n",
        "ibis.to_sql(expr)"
      ],
      "execution_count": null,
      "outputs": []
    },
    {
      "cell_type": "markdown",
      "metadata": {},
      "source": [
        "We can also provide a different dialect,"
      ]
    },
    {
      "cell_type": "code",
      "metadata": {},
      "source": [
        "ibis.to_sql(expr, dialect=\"postgres\")"
      ],
      "execution_count": null,
      "outputs": []
    },
    {
      "cell_type": "code",
      "metadata": {},
      "source": [
        "ibis.options.interactive = False"
      ],
      "execution_count": null,
      "outputs": []
    },
    {
      "cell_type": "markdown",
      "metadata": {},
      "source": [
        "## `con.sql()`\n",
        "\n",
        "We also have the `.sql()` method, which allows you to write raw sql, because \n",
        "sometimes that's what you need to do:"
      ]
    },
    {
      "cell_type": "code",
      "metadata": {},
      "source": [
        "con.sql(\"\"\"\n",
        "    SELECT\n",
        "    \"tconst\",\n",
        "    CAST(\"averageRating\" AS VARCHAR) AS \"average_rating\",\n",
        "    CAST(\"numVotes\" AS VARCHAR) AS \"num_votes\"\n",
        "    FROM \"imdb_title_ratings\"\n",
        "\"\"\")"
      ],
      "execution_count": null,
      "outputs": []
    },
    {
      "cell_type": "code",
      "metadata": {},
      "source": [
        "con.sql(\"\"\"\n",
        "    SELECT\n",
        "    \"tconst\",\n",
        "    CAST(\"averageRating\" AS VARCHAR) AS \"average_rating\",\n",
        "    CAST(\"numVotes\" AS VARCHAR) AS \"num_votes\"\n",
        "    FROM \"imdb_title_ratings\"\n",
        "\"\"\").to_pandas()"
      ],
      "execution_count": null,
      "outputs": []
    },
    {
      "cell_type": "code",
      "metadata": {},
      "source": [
        "ibis.options.interactive = True"
      ],
      "execution_count": null,
      "outputs": []
    },
    {
      "cell_type": "code",
      "metadata": {},
      "source": [
        "con.sql(\"\"\"\n",
        "    SELECT\n",
        "    \"tconst\",\n",
        "    CAST(\"averageRating\" AS VARCHAR) AS \"average_rating\",\n",
        "    CAST(\"numVotes\" AS VARCHAR) AS \"num_votes\"\n",
        "    FROM \"imdb_title_ratings\"\n",
        "\"\"\")"
      ],
      "execution_count": null,
      "outputs": []
    },
    {
      "cell_type": "markdown",
      "metadata": {},
      "source": [
        "## Other operations"
      ]
    },
    {
      "cell_type": "code",
      "metadata": {},
      "source": [
        "basics.columns"
      ],
      "execution_count": null,
      "outputs": []
    },
    {
      "cell_type": "markdown",
      "metadata": {},
      "source": [
        "To do a \"GROUP BY\" with `count()` we have the `value_counts()` method:"
      ]
    },
    {
      "cell_type": "code",
      "metadata": {},
      "source": [
        "basics.title_type.value_counts()"
      ],
      "execution_count": null,
      "outputs": []
    },
    {
      "cell_type": "markdown",
      "metadata": {},
      "source": [
        "For our final analysis, we will clean a few things.\n",
        "\n",
        "We will select only the titles with the \"movie\" type and discard the adult movies.\n",
        "\n",
        "To do this, we will use a list of predicates"
      ]
    },
    {
      "cell_type": "code",
      "metadata": {},
      "source": [
        "basics = (\n",
        "    basics\n",
        "    .filter([basics.title_type == \"movie\", basics.is_adult == 0])\n",
        "    .select(\"tconst\", \"primary_title\")\n",
        ")"
      ],
      "execution_count": null,
      "outputs": []
    },
    {
      "cell_type": "code",
      "metadata": {},
      "source": [
        "basics"
      ],
      "execution_count": null,
      "outputs": []
    },
    {
      "cell_type": "markdown",
      "metadata": {},
      "source": [
        "Then, we join the `basics` table and the `ratings` table using the `tconst` column, \n",
        "and we execute"
      ]
    },
    {
      "cell_type": "code",
      "metadata": {},
      "source": [
        "basics.join(ratings, \"tconst\").to_pandas(limit=10)"
      ],
      "execution_count": null,
      "outputs": []
    },
    {
      "cell_type": "markdown",
      "metadata": {},
      "source": [
        "We order by `average_rating`"
      ]
    },
    {
      "cell_type": "code",
      "metadata": {},
      "source": [
        "basics.join(ratings, \"tconst\").order_by(_.average_rating.desc())"
      ],
      "execution_count": null,
      "outputs": []
    },
    {
      "cell_type": "markdown",
      "metadata": {},
      "source": [
        "And filter the titles with more than one million votes"
      ]
    },
    {
      "cell_type": "code",
      "metadata": {},
      "source": [
        "(\n",
        "    basics.join(ratings, \"tconst\")\n",
        "    .order_by(_.average_rating.desc())\n",
        "    .filter(_.num_votes > 1e6)\n",
        ")"
      ],
      "execution_count": null,
      "outputs": []
    },
    {
      "cell_type": "markdown",
      "metadata": {},
      "source": [
        "## Table joins (`join`)\n",
        "\n",
        "Finally, here is the full expression to compute the ten best movies."
      ]
    },
    {
      "cell_type": "code",
      "metadata": {},
      "source": [
        "topfilms = (\n",
        "    basics.join(ratings, \"tconst\")\n",
        "    .order_by(_.average_rating.desc())\n",
        "    .filter(_.num_votes > 1e6)\n",
        ")"
      ],
      "execution_count": null,
      "outputs": []
    },
    {
      "cell_type": "code",
      "metadata": {},
      "source": [
        "ibis.options.interactive = False"
      ],
      "execution_count": null,
      "outputs": []
    },
    {
      "cell_type": "code",
      "metadata": {},
      "source": [
        "topfilms"
      ],
      "execution_count": null,
      "outputs": []
    },
    {
      "cell_type": "code",
      "metadata": {},
      "source": [
        "topfilms.to_pandas(limit=10)"
      ],
      "execution_count": null,
      "outputs": []
    },
    {
      "cell_type": "markdown",
      "metadata": {},
      "source": [
        "## Execute the same expression in Postgres!\n",
        "\n",
        "### Connect to Postgres with Ibis\n",
        "\n",
        "We already have the data in Postgres"
      ]
    },
    {
      "cell_type": "code",
      "metadata": {},
      "source": [
        "pgcon = ibis.postgres.connect()"
      ],
      "execution_count": null,
      "outputs": []
    },
    {
      "cell_type": "markdown",
      "metadata": {},
      "source": [
        "### Check that the tables exist"
      ]
    },
    {
      "cell_type": "code",
      "metadata": {},
      "source": [
        "pgcon.list_tables()"
      ],
      "execution_count": null,
      "outputs": []
    },
    {
      "cell_type": "markdown",
      "metadata": {},
      "source": [
        "Execute the same expresion in Postgres:"
      ]
    },
    {
      "cell_type": "code",
      "metadata": {},
      "source": [
        "pgcon.to_pandas(topfilms)"
      ],
      "execution_count": null,
      "outputs": []
    },
    {
      "cell_type": "markdown",
      "metadata": {},
      "source": [
        "¡That's it, that's Ibis!\n",
        "\n",
        "Ibis has 20+ backends, like Snowflake, DuckDB (what we saw here), and more."
      ]
    }
  ],
  "metadata": {
    "kernelspec": {
      "name": "python3",
      "language": "python",
      "display_name": "Python 3 (ipykernel)",
      "path": "/Users/naty/mambaforge/envs/ibis-dev/share/jupyter/kernels/python3"
    }
  },
  "nbformat": 4,
  "nbformat_minor": 4
}