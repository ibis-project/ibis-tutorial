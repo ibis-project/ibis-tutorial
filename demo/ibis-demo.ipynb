{
 "cells": [
  {
   "cell_type": "code",
   "execution_count": 1,
   "id": "002799da-bf57-43c6-99ae-51b1e7095b0a",
   "metadata": {},
   "outputs": [],
   "source": [
    "import ibis\n",
    "from ibis import *"
   ]
  },
  {
   "cell_type": "markdown",
   "id": "1a978b4c-de4a-46c9-ad11-9924c97befb6",
   "metadata": {},
   "source": [
    "## Get a DuckDB connection"
   ]
  },
  {
   "cell_type": "code",
   "execution_count": 2,
   "id": "e85511c6-27ca-4015-9572-5641c91c61b9",
   "metadata": {},
   "outputs": [],
   "source": [
    "con = ibis.duckdb.connect()"
   ]
  },
  {
   "cell_type": "markdown",
   "id": "f42c9328-0fdc-4cb6-bc87-b346c317e8e8",
   "metadata": {},
   "source": [
    "## Get some data into tables"
   ]
  },
  {
   "cell_type": "code",
   "execution_count": 3,
   "id": "bdf25352-8432-4f23-bd88-3a65921f1a73",
   "metadata": {},
   "outputs": [],
   "source": [
    "ratings = con.read_parquet(\"data/imdb_title_ratings.parquet\", table_name=\"ratings\")\n",
    "basics = con.read_parquet(\"data/imdb_title_basics.parquet\", table_name=\"basics\")"
   ]
  },
  {
   "cell_type": "code",
   "execution_count": 4,
   "id": "bc2e102b-65c6-45ad-b52d-27dba9e2fbbf",
   "metadata": {},
   "outputs": [
    {
     "data": {
      "text/plain": [
       "['basics', 'ratings']"
      ]
     },
     "execution_count": 4,
     "metadata": {},
     "output_type": "execute_result"
    }
   ],
   "source": [
    "con.list_tables()"
   ]
  },
  {
   "cell_type": "code",
   "execution_count": 5,
   "id": "80af6cb3-79ba-428b-b4eb-7610ac891ea9",
   "metadata": {},
   "outputs": [
    {
     "data": {
      "text/html": [
       "<pre style=\"white-space:pre;overflow-x:auto;line-height:normal;font-family:Menlo,'DejaVu Sans Mono',consolas,'Courier New',monospace\">DatabaseTable: ratings\n",
       "  tconst        string\n",
       "  averageRating string\n",
       "  numVotes      string\n",
       "</pre>\n"
      ],
      "text/plain": [
       "DatabaseTable: ratings\n",
       "  tconst        string\n",
       "  averageRating string\n",
       "  numVotes      string"
      ]
     },
     "execution_count": 5,
     "metadata": {},
     "output_type": "execute_result"
    }
   ],
   "source": [
    "ratings"
   ]
  },
  {
   "cell_type": "code",
   "execution_count": 6,
   "id": "1b5dccc5-441b-40bb-b54c-e6ef94e046e6",
   "metadata": {},
   "outputs": [
    {
     "data": {
      "text/html": [
       "<pre style=\"white-space:pre;overflow-x:auto;line-height:normal;font-family:Menlo,'DejaVu Sans Mono',consolas,'Courier New',monospace\">DatabaseTable: basics\n",
       "  tconst         string\n",
       "  titleType      string\n",
       "  primaryTitle   string\n",
       "  originalTitle  string\n",
       "  isAdult        int64\n",
       "  startYear      int64\n",
       "  endYear        string\n",
       "  runtimeMinutes int64\n",
       "  genres         string\n",
       "</pre>\n"
      ],
      "text/plain": [
       "DatabaseTable: basics\n",
       "  tconst         string\n",
       "  titleType      string\n",
       "  primaryTitle   string\n",
       "  originalTitle  string\n",
       "  isAdult        int64\n",
       "  startYear      int64\n",
       "  endYear        string\n",
       "  runtimeMinutes int64\n",
       "  genres         string"
      ]
     },
     "execution_count": 6,
     "metadata": {},
     "output_type": "execute_result"
    }
   ],
   "source": [
    "basics"
   ]
  },
  {
   "cell_type": "code",
   "execution_count": 7,
   "id": "202db2d0-326b-4ab0-8255-fe1b5325a993",
   "metadata": {},
   "outputs": [
    {
     "data": {
      "text/html": [
       "<div>\n",
       "<style scoped>\n",
       "    .dataframe tbody tr th:only-of-type {\n",
       "        vertical-align: middle;\n",
       "    }\n",
       "\n",
       "    .dataframe tbody tr th {\n",
       "        vertical-align: top;\n",
       "    }\n",
       "\n",
       "    .dataframe thead th {\n",
       "        text-align: right;\n",
       "    }\n",
       "</style>\n",
       "<table border=\"1\" class=\"dataframe\">\n",
       "  <thead>\n",
       "    <tr style=\"text-align: right;\">\n",
       "      <th></th>\n",
       "      <th>tconst</th>\n",
       "      <th>averageRating</th>\n",
       "      <th>numVotes</th>\n",
       "    </tr>\n",
       "  </thead>\n",
       "  <tbody>\n",
       "    <tr>\n",
       "      <th>0</th>\n",
       "      <td>tt0000001</td>\n",
       "      <td>5.7</td>\n",
       "      <td>2036</td>\n",
       "    </tr>\n",
       "    <tr>\n",
       "      <th>1</th>\n",
       "      <td>tt0000002</td>\n",
       "      <td>5.7</td>\n",
       "      <td>272</td>\n",
       "    </tr>\n",
       "    <tr>\n",
       "      <th>2</th>\n",
       "      <td>tt0000003</td>\n",
       "      <td>6.5</td>\n",
       "      <td>1985</td>\n",
       "    </tr>\n",
       "    <tr>\n",
       "      <th>3</th>\n",
       "      <td>tt0000004</td>\n",
       "      <td>5.4</td>\n",
       "      <td>178</td>\n",
       "    </tr>\n",
       "    <tr>\n",
       "      <th>4</th>\n",
       "      <td>tt0000005</td>\n",
       "      <td>6.2</td>\n",
       "      <td>2745</td>\n",
       "    </tr>\n",
       "    <tr>\n",
       "      <th>5</th>\n",
       "      <td>tt0000006</td>\n",
       "      <td>5.0</td>\n",
       "      <td>183</td>\n",
       "    </tr>\n",
       "    <tr>\n",
       "      <th>6</th>\n",
       "      <td>tt0000007</td>\n",
       "      <td>5.4</td>\n",
       "      <td>852</td>\n",
       "    </tr>\n",
       "    <tr>\n",
       "      <th>7</th>\n",
       "      <td>tt0000008</td>\n",
       "      <td>5.4</td>\n",
       "      <td>2181</td>\n",
       "    </tr>\n",
       "    <tr>\n",
       "      <th>8</th>\n",
       "      <td>tt0000009</td>\n",
       "      <td>5.3</td>\n",
       "      <td>209</td>\n",
       "    </tr>\n",
       "    <tr>\n",
       "      <th>9</th>\n",
       "      <td>tt0000010</td>\n",
       "      <td>6.8</td>\n",
       "      <td>7506</td>\n",
       "    </tr>\n",
       "  </tbody>\n",
       "</table>\n",
       "</div>"
      ],
      "text/plain": [
       "      tconst averageRating numVotes\n",
       "0  tt0000001           5.7     2036\n",
       "1  tt0000002           5.7      272\n",
       "2  tt0000003           6.5     1985\n",
       "3  tt0000004           5.4      178\n",
       "4  tt0000005           6.2     2745\n",
       "5  tt0000006           5.0      183\n",
       "6  tt0000007           5.4      852\n",
       "7  tt0000008           5.4     2181\n",
       "8  tt0000009           5.3      209\n",
       "9  tt0000010           6.8     7506"
      ]
     },
     "execution_count": 7,
     "metadata": {},
     "output_type": "execute_result"
    }
   ],
   "source": [
    "ratings.execute(limit=10)"
   ]
  },
  {
   "cell_type": "code",
   "execution_count": 8,
   "id": "55b06df5-763c-4726-9a79-33450b6afe46",
   "metadata": {},
   "outputs": [
    {
     "data": {
      "text/html": [
       "<div>\n",
       "<style scoped>\n",
       "    .dataframe tbody tr th:only-of-type {\n",
       "        vertical-align: middle;\n",
       "    }\n",
       "\n",
       "    .dataframe tbody tr th {\n",
       "        vertical-align: top;\n",
       "    }\n",
       "\n",
       "    .dataframe thead th {\n",
       "        text-align: right;\n",
       "    }\n",
       "</style>\n",
       "<table border=\"1\" class=\"dataframe\">\n",
       "  <thead>\n",
       "    <tr style=\"text-align: right;\">\n",
       "      <th></th>\n",
       "      <th>tconst</th>\n",
       "      <th>titleType</th>\n",
       "      <th>primaryTitle</th>\n",
       "      <th>originalTitle</th>\n",
       "      <th>isAdult</th>\n",
       "      <th>startYear</th>\n",
       "      <th>endYear</th>\n",
       "      <th>runtimeMinutes</th>\n",
       "      <th>genres</th>\n",
       "    </tr>\n",
       "  </thead>\n",
       "  <tbody>\n",
       "    <tr>\n",
       "      <th>0</th>\n",
       "      <td>tt0000001</td>\n",
       "      <td>short</td>\n",
       "      <td>Carmencita</td>\n",
       "      <td>Carmencita</td>\n",
       "      <td>0</td>\n",
       "      <td>1894</td>\n",
       "      <td>None</td>\n",
       "      <td>1</td>\n",
       "      <td>Documentary,Short</td>\n",
       "    </tr>\n",
       "    <tr>\n",
       "      <th>1</th>\n",
       "      <td>tt0000002</td>\n",
       "      <td>short</td>\n",
       "      <td>Le clown et ses chiens</td>\n",
       "      <td>Le clown et ses chiens</td>\n",
       "      <td>0</td>\n",
       "      <td>1892</td>\n",
       "      <td>None</td>\n",
       "      <td>5</td>\n",
       "      <td>Animation,Short</td>\n",
       "    </tr>\n",
       "    <tr>\n",
       "      <th>2</th>\n",
       "      <td>tt0000003</td>\n",
       "      <td>short</td>\n",
       "      <td>Pauvre Pierrot</td>\n",
       "      <td>Pauvre Pierrot</td>\n",
       "      <td>0</td>\n",
       "      <td>1892</td>\n",
       "      <td>None</td>\n",
       "      <td>4</td>\n",
       "      <td>Animation,Comedy,Romance</td>\n",
       "    </tr>\n",
       "    <tr>\n",
       "      <th>3</th>\n",
       "      <td>tt0000004</td>\n",
       "      <td>short</td>\n",
       "      <td>Un bon bock</td>\n",
       "      <td>Un bon bock</td>\n",
       "      <td>0</td>\n",
       "      <td>1892</td>\n",
       "      <td>None</td>\n",
       "      <td>12</td>\n",
       "      <td>Animation,Short</td>\n",
       "    </tr>\n",
       "    <tr>\n",
       "      <th>4</th>\n",
       "      <td>tt0000005</td>\n",
       "      <td>short</td>\n",
       "      <td>Blacksmith Scene</td>\n",
       "      <td>Blacksmith Scene</td>\n",
       "      <td>0</td>\n",
       "      <td>1893</td>\n",
       "      <td>None</td>\n",
       "      <td>1</td>\n",
       "      <td>Comedy,Short</td>\n",
       "    </tr>\n",
       "    <tr>\n",
       "      <th>5</th>\n",
       "      <td>tt0000006</td>\n",
       "      <td>short</td>\n",
       "      <td>Chinese Opium Den</td>\n",
       "      <td>Chinese Opium Den</td>\n",
       "      <td>0</td>\n",
       "      <td>1894</td>\n",
       "      <td>None</td>\n",
       "      <td>1</td>\n",
       "      <td>Short</td>\n",
       "    </tr>\n",
       "    <tr>\n",
       "      <th>6</th>\n",
       "      <td>tt0000007</td>\n",
       "      <td>short</td>\n",
       "      <td>Corbett and Courtney Before the Kinetograph</td>\n",
       "      <td>Corbett and Courtney Before the Kinetograph</td>\n",
       "      <td>0</td>\n",
       "      <td>1894</td>\n",
       "      <td>None</td>\n",
       "      <td>1</td>\n",
       "      <td>Short,Sport</td>\n",
       "    </tr>\n",
       "    <tr>\n",
       "      <th>7</th>\n",
       "      <td>tt0000008</td>\n",
       "      <td>short</td>\n",
       "      <td>Edison Kinetoscopic Record of a Sneeze</td>\n",
       "      <td>Edison Kinetoscopic Record of a Sneeze</td>\n",
       "      <td>0</td>\n",
       "      <td>1894</td>\n",
       "      <td>None</td>\n",
       "      <td>1</td>\n",
       "      <td>Documentary,Short</td>\n",
       "    </tr>\n",
       "    <tr>\n",
       "      <th>8</th>\n",
       "      <td>tt0000009</td>\n",
       "      <td>movie</td>\n",
       "      <td>Miss Jerry</td>\n",
       "      <td>Miss Jerry</td>\n",
       "      <td>0</td>\n",
       "      <td>1894</td>\n",
       "      <td>None</td>\n",
       "      <td>45</td>\n",
       "      <td>Romance</td>\n",
       "    </tr>\n",
       "    <tr>\n",
       "      <th>9</th>\n",
       "      <td>tt0000010</td>\n",
       "      <td>short</td>\n",
       "      <td>Leaving the Factory</td>\n",
       "      <td>La sortie de l'usine Lumière à Lyon</td>\n",
       "      <td>0</td>\n",
       "      <td>1895</td>\n",
       "      <td>None</td>\n",
       "      <td>1</td>\n",
       "      <td>Documentary,Short</td>\n",
       "    </tr>\n",
       "  </tbody>\n",
       "</table>\n",
       "</div>"
      ],
      "text/plain": [
       "      tconst titleType                                 primaryTitle  \\\n",
       "0  tt0000001     short                                   Carmencita   \n",
       "1  tt0000002     short                       Le clown et ses chiens   \n",
       "2  tt0000003     short                               Pauvre Pierrot   \n",
       "3  tt0000004     short                                  Un bon bock   \n",
       "4  tt0000005     short                             Blacksmith Scene   \n",
       "5  tt0000006     short                            Chinese Opium Den   \n",
       "6  tt0000007     short  Corbett and Courtney Before the Kinetograph   \n",
       "7  tt0000008     short       Edison Kinetoscopic Record of a Sneeze   \n",
       "8  tt0000009     movie                                   Miss Jerry   \n",
       "9  tt0000010     short                          Leaving the Factory   \n",
       "\n",
       "                                 originalTitle  isAdult  startYear endYear  \\\n",
       "0                                   Carmencita        0       1894    None   \n",
       "1                       Le clown et ses chiens        0       1892    None   \n",
       "2                               Pauvre Pierrot        0       1892    None   \n",
       "3                                  Un bon bock        0       1892    None   \n",
       "4                             Blacksmith Scene        0       1893    None   \n",
       "5                            Chinese Opium Den        0       1894    None   \n",
       "6  Corbett and Courtney Before the Kinetograph        0       1894    None   \n",
       "7       Edison Kinetoscopic Record of a Sneeze        0       1894    None   \n",
       "8                                   Miss Jerry        0       1894    None   \n",
       "9          La sortie de l'usine Lumière à Lyon        0       1895    None   \n",
       "\n",
       "   runtimeMinutes                    genres  \n",
       "0               1         Documentary,Short  \n",
       "1               5           Animation,Short  \n",
       "2               4  Animation,Comedy,Romance  \n",
       "3              12           Animation,Short  \n",
       "4               1              Comedy,Short  \n",
       "5               1                     Short  \n",
       "6               1               Short,Sport  \n",
       "7               1         Documentary,Short  \n",
       "8              45                   Romance  \n",
       "9               1         Documentary,Short  "
      ]
     },
     "execution_count": 8,
     "metadata": {},
     "output_type": "execute_result"
    }
   ],
   "source": [
    "basics.to_pandas(limit=10)"
   ]
  },
  {
   "cell_type": "code",
   "execution_count": 9,
   "id": "e480c13f-46e9-4d31-8ef4-66840113cd80",
   "metadata": {},
   "outputs": [
    {
     "data": {
      "text/plain": [
       "pyarrow.Table\n",
       "tconst: string\n",
       "averageRating: string\n",
       "numVotes: string\n",
       "----\n",
       "tconst: [[\"tt0000001\",\"tt0000002\",\"tt0000003\",\"tt0000004\",\"tt0000005\",\"tt0000006\",\"tt0000007\",\"tt0000008\",\"tt0000009\",\"tt0000010\"]]\n",
       "averageRating: [[\"5.7\",\"5.7\",\"6.5\",\"5.4\",\"6.2\",\"5.0\",\"5.4\",\"5.4\",\"5.3\",\"6.8\"]]\n",
       "numVotes: [[\"2036\",\"272\",\"1985\",\"178\",\"2745\",\"183\",\"852\",\"2181\",\"209\",\"7506\"]]"
      ]
     },
     "execution_count": 9,
     "metadata": {},
     "output_type": "execute_result"
    }
   ],
   "source": [
    "ratings.to_pyarrow(limit=10)"
   ]
  },
  {
   "cell_type": "code",
   "execution_count": 10,
   "id": "0b6230f7-e381-45cf-a999-147edeb2b3d5",
   "metadata": {},
   "outputs": [],
   "source": [
    "#to show this we will need to install polars \n",
    "#basics.to_polars()"
   ]
  },
  {
   "cell_type": "markdown",
   "id": "e3a6edb9-5f35-4c7a-9d9c-a6025d659684",
   "metadata": {},
   "source": [
    "## Properly named columns and interactive mode"
   ]
  },
  {
   "cell_type": "code",
   "execution_count": 11,
   "id": "7d3159f5-ca62-4f82-9413-fa5fb90f6b73",
   "metadata": {},
   "outputs": [],
   "source": [
    "ibis.options.interactive = True"
   ]
  },
  {
   "cell_type": "code",
   "execution_count": 12,
   "id": "eacc97f0-c075-444b-9b0b-f6861280c555",
   "metadata": {},
   "outputs": [],
   "source": [
    "basics = basics.rename(\"snake_case\")"
   ]
  },
  {
   "cell_type": "code",
   "execution_count": 13,
   "id": "6e7c6a11-1b2a-4cc4-aeb2-e979db24f4be",
   "metadata": {},
   "outputs": [],
   "source": [
    "ratings = ratings.rename(\"snake_case\")"
   ]
  },
  {
   "cell_type": "code",
   "execution_count": 14,
   "id": "2e8f5fda-c8ef-49b6-9d73-1df4d057ea6d",
   "metadata": {},
   "outputs": [
    {
     "data": {
      "text/html": [
       "<pre style=\"white-space:pre;overflow-x:auto;line-height:normal;font-family:Menlo,'DejaVu Sans Mono',consolas,'Courier New',monospace\">┏━━━━━━━━━━━┳━━━━━━━━━━━━━━━━┳━━━━━━━━━━━┓\n",
       "┃<span style=\"font-weight: bold\"> tconst    </span>┃<span style=\"font-weight: bold\"> average_rating </span>┃<span style=\"font-weight: bold\"> num_votes </span>┃\n",
       "┡━━━━━━━━━━━╇━━━━━━━━━━━━━━━━╇━━━━━━━━━━━┩\n",
       "│ <span style=\"color: #7f7f7f; text-decoration-color: #7f7f7f\">string</span>    │ <span style=\"color: #7f7f7f; text-decoration-color: #7f7f7f\">string</span>         │ <span style=\"color: #7f7f7f; text-decoration-color: #7f7f7f\">string</span>    │\n",
       "├───────────┼────────────────┼───────────┤\n",
       "│ <span style=\"color: #008000; text-decoration-color: #008000\">tt0000001</span> │ <span style=\"color: #008000; text-decoration-color: #008000\">5.7           </span> │ <span style=\"color: #008000; text-decoration-color: #008000\">2036     </span> │\n",
       "│ <span style=\"color: #008000; text-decoration-color: #008000\">tt0000002</span> │ <span style=\"color: #008000; text-decoration-color: #008000\">5.7           </span> │ <span style=\"color: #008000; text-decoration-color: #008000\">272      </span> │\n",
       "│ <span style=\"color: #008000; text-decoration-color: #008000\">tt0000003</span> │ <span style=\"color: #008000; text-decoration-color: #008000\">6.5           </span> │ <span style=\"color: #008000; text-decoration-color: #008000\">1985     </span> │\n",
       "│ <span style=\"color: #008000; text-decoration-color: #008000\">tt0000004</span> │ <span style=\"color: #008000; text-decoration-color: #008000\">5.4           </span> │ <span style=\"color: #008000; text-decoration-color: #008000\">178      </span> │\n",
       "│ <span style=\"color: #008000; text-decoration-color: #008000\">tt0000005</span> │ <span style=\"color: #008000; text-decoration-color: #008000\">6.2           </span> │ <span style=\"color: #008000; text-decoration-color: #008000\">2745     </span> │\n",
       "│ <span style=\"color: #008000; text-decoration-color: #008000\">tt0000006</span> │ <span style=\"color: #008000; text-decoration-color: #008000\">5.0           </span> │ <span style=\"color: #008000; text-decoration-color: #008000\">183      </span> │\n",
       "│ <span style=\"color: #008000; text-decoration-color: #008000\">tt0000007</span> │ <span style=\"color: #008000; text-decoration-color: #008000\">5.4           </span> │ <span style=\"color: #008000; text-decoration-color: #008000\">852      </span> │\n",
       "│ <span style=\"color: #008000; text-decoration-color: #008000\">tt0000008</span> │ <span style=\"color: #008000; text-decoration-color: #008000\">5.4           </span> │ <span style=\"color: #008000; text-decoration-color: #008000\">2181     </span> │\n",
       "│ <span style=\"color: #008000; text-decoration-color: #008000\">tt0000009</span> │ <span style=\"color: #008000; text-decoration-color: #008000\">5.3           </span> │ <span style=\"color: #008000; text-decoration-color: #008000\">209      </span> │\n",
       "│ <span style=\"color: #008000; text-decoration-color: #008000\">tt0000010</span> │ <span style=\"color: #008000; text-decoration-color: #008000\">6.8           </span> │ <span style=\"color: #008000; text-decoration-color: #008000\">7506     </span> │\n",
       "│ <span style=\"color: #7f7f7f; text-decoration-color: #7f7f7f\">…</span>         │ <span style=\"color: #7f7f7f; text-decoration-color: #7f7f7f\">…</span>              │ <span style=\"color: #7f7f7f; text-decoration-color: #7f7f7f\">…</span>         │\n",
       "└───────────┴────────────────┴───────────┘\n",
       "</pre>\n"
      ],
      "text/plain": [
       "┏━━━━━━━━━━━┳━━━━━━━━━━━━━━━━┳━━━━━━━━━━━┓\n",
       "┃\u001b[1m \u001b[0m\u001b[1mtconst\u001b[0m\u001b[1m   \u001b[0m\u001b[1m \u001b[0m┃\u001b[1m \u001b[0m\u001b[1maverage_rating\u001b[0m\u001b[1m \u001b[0m┃\u001b[1m \u001b[0m\u001b[1mnum_votes\u001b[0m\u001b[1m \u001b[0m┃\n",
       "┡━━━━━━━━━━━╇━━━━━━━━━━━━━━━━╇━━━━━━━━━━━┩\n",
       "│ \u001b[2mstring\u001b[0m    │ \u001b[2mstring\u001b[0m         │ \u001b[2mstring\u001b[0m    │\n",
       "├───────────┼────────────────┼───────────┤\n",
       "│ \u001b[32mtt0000001\u001b[0m │ \u001b[32m5.7           \u001b[0m │ \u001b[32m2036     \u001b[0m │\n",
       "│ \u001b[32mtt0000002\u001b[0m │ \u001b[32m5.7           \u001b[0m │ \u001b[32m272      \u001b[0m │\n",
       "│ \u001b[32mtt0000003\u001b[0m │ \u001b[32m6.5           \u001b[0m │ \u001b[32m1985     \u001b[0m │\n",
       "│ \u001b[32mtt0000004\u001b[0m │ \u001b[32m5.4           \u001b[0m │ \u001b[32m178      \u001b[0m │\n",
       "│ \u001b[32mtt0000005\u001b[0m │ \u001b[32m6.2           \u001b[0m │ \u001b[32m2745     \u001b[0m │\n",
       "│ \u001b[32mtt0000006\u001b[0m │ \u001b[32m5.0           \u001b[0m │ \u001b[32m183      \u001b[0m │\n",
       "│ \u001b[32mtt0000007\u001b[0m │ \u001b[32m5.4           \u001b[0m │ \u001b[32m852      \u001b[0m │\n",
       "│ \u001b[32mtt0000008\u001b[0m │ \u001b[32m5.4           \u001b[0m │ \u001b[32m2181     \u001b[0m │\n",
       "│ \u001b[32mtt0000009\u001b[0m │ \u001b[32m5.3           \u001b[0m │ \u001b[32m209      \u001b[0m │\n",
       "│ \u001b[32mtt0000010\u001b[0m │ \u001b[32m6.8           \u001b[0m │ \u001b[32m7506     \u001b[0m │\n",
       "│ \u001b[2m…\u001b[0m         │ \u001b[2m…\u001b[0m              │ \u001b[2m…\u001b[0m         │\n",
       "└───────────┴────────────────┴───────────┘"
      ]
     },
     "execution_count": 14,
     "metadata": {},
     "output_type": "execute_result"
    }
   ],
   "source": [
    "ratings"
   ]
  },
  {
   "cell_type": "code",
   "execution_count": 15,
   "id": "9d681b5d-1719-4cf0-aaff-09f35e281ccf",
   "metadata": {},
   "outputs": [
    {
     "data": {
      "text/html": [
       "<pre style=\"white-space:pre;overflow-x:auto;line-height:normal;font-family:Menlo,'DejaVu Sans Mono',consolas,'Courier New',monospace\">┏━━━━━━━━━━━┳━━━━━━━━━━━━┳━━━━━━━━━━━━━━━━━━━━━━━━━━━━━━━━━━━━━━━━━━━━━┳━━━━━━━━━━━━━━━━━━━━━━━━━━━━━━━━━━━━━━━━━━━━━┳━━━━━━━━━━┳━━━━━━━━━━━━┳━━━━━━━━━━┳━━━━━━━━━━━━━━━━━┳━━━━━━━━━━━━━━━━━━━━━━━━━━┓\n",
       "┃<span style=\"font-weight: bold\"> tconst    </span>┃<span style=\"font-weight: bold\"> title_type </span>┃<span style=\"font-weight: bold\"> primary_title                               </span>┃<span style=\"font-weight: bold\"> original_title                              </span>┃<span style=\"font-weight: bold\"> is_adult </span>┃<span style=\"font-weight: bold\"> start_year </span>┃<span style=\"font-weight: bold\"> end_year </span>┃<span style=\"font-weight: bold\"> runtime_minutes </span>┃<span style=\"font-weight: bold\"> genres                   </span>┃\n",
       "┡━━━━━━━━━━━╇━━━━━━━━━━━━╇━━━━━━━━━━━━━━━━━━━━━━━━━━━━━━━━━━━━━━━━━━━━━╇━━━━━━━━━━━━━━━━━━━━━━━━━━━━━━━━━━━━━━━━━━━━━╇━━━━━━━━━━╇━━━━━━━━━━━━╇━━━━━━━━━━╇━━━━━━━━━━━━━━━━━╇━━━━━━━━━━━━━━━━━━━━━━━━━━┩\n",
       "│ <span style=\"color: #7f7f7f; text-decoration-color: #7f7f7f\">string</span>    │ <span style=\"color: #7f7f7f; text-decoration-color: #7f7f7f\">string</span>     │ <span style=\"color: #7f7f7f; text-decoration-color: #7f7f7f\">string</span>                                      │ <span style=\"color: #7f7f7f; text-decoration-color: #7f7f7f\">string</span>                                      │ <span style=\"color: #7f7f7f; text-decoration-color: #7f7f7f\">int64</span>    │ <span style=\"color: #7f7f7f; text-decoration-color: #7f7f7f\">int64</span>      │ <span style=\"color: #7f7f7f; text-decoration-color: #7f7f7f\">string</span>   │ <span style=\"color: #7f7f7f; text-decoration-color: #7f7f7f\">int64</span>           │ <span style=\"color: #7f7f7f; text-decoration-color: #7f7f7f\">string</span>                   │\n",
       "├───────────┼────────────┼─────────────────────────────────────────────┼─────────────────────────────────────────────┼──────────┼────────────┼──────────┼─────────────────┼──────────────────────────┤\n",
       "│ <span style=\"color: #008000; text-decoration-color: #008000\">tt0000001</span> │ <span style=\"color: #008000; text-decoration-color: #008000\">short     </span> │ <span style=\"color: #008000; text-decoration-color: #008000\">Carmencita                                 </span> │ <span style=\"color: #008000; text-decoration-color: #008000\">Carmencita                                 </span> │        <span style=\"color: #008080; text-decoration-color: #008080; font-weight: bold\">0</span> │       <span style=\"color: #008080; text-decoration-color: #008080; font-weight: bold\">1894</span> │ <span style=\"color: #7f7f7f; text-decoration-color: #7f7f7f\">NULL</span>     │               <span style=\"color: #008080; text-decoration-color: #008080; font-weight: bold\">1</span> │ <span style=\"color: #008000; text-decoration-color: #008000\">Documentary,Short       </span> │\n",
       "│ <span style=\"color: #008000; text-decoration-color: #008000\">tt0000002</span> │ <span style=\"color: #008000; text-decoration-color: #008000\">short     </span> │ <span style=\"color: #008000; text-decoration-color: #008000\">Le clown et ses chiens                     </span> │ <span style=\"color: #008000; text-decoration-color: #008000\">Le clown et ses chiens                     </span> │        <span style=\"color: #008080; text-decoration-color: #008080; font-weight: bold\">0</span> │       <span style=\"color: #008080; text-decoration-color: #008080; font-weight: bold\">1892</span> │ <span style=\"color: #7f7f7f; text-decoration-color: #7f7f7f\">NULL</span>     │               <span style=\"color: #008080; text-decoration-color: #008080; font-weight: bold\">5</span> │ <span style=\"color: #008000; text-decoration-color: #008000\">Animation,Short         </span> │\n",
       "│ <span style=\"color: #008000; text-decoration-color: #008000\">tt0000003</span> │ <span style=\"color: #008000; text-decoration-color: #008000\">short     </span> │ <span style=\"color: #008000; text-decoration-color: #008000\">Pauvre Pierrot                             </span> │ <span style=\"color: #008000; text-decoration-color: #008000\">Pauvre Pierrot                             </span> │        <span style=\"color: #008080; text-decoration-color: #008080; font-weight: bold\">0</span> │       <span style=\"color: #008080; text-decoration-color: #008080; font-weight: bold\">1892</span> │ <span style=\"color: #7f7f7f; text-decoration-color: #7f7f7f\">NULL</span>     │               <span style=\"color: #008080; text-decoration-color: #008080; font-weight: bold\">4</span> │ <span style=\"color: #008000; text-decoration-color: #008000\">Animation,Comedy,Romance</span> │\n",
       "│ <span style=\"color: #008000; text-decoration-color: #008000\">tt0000004</span> │ <span style=\"color: #008000; text-decoration-color: #008000\">short     </span> │ <span style=\"color: #008000; text-decoration-color: #008000\">Un bon bock                                </span> │ <span style=\"color: #008000; text-decoration-color: #008000\">Un bon bock                                </span> │        <span style=\"color: #008080; text-decoration-color: #008080; font-weight: bold\">0</span> │       <span style=\"color: #008080; text-decoration-color: #008080; font-weight: bold\">1892</span> │ <span style=\"color: #7f7f7f; text-decoration-color: #7f7f7f\">NULL</span>     │              <span style=\"color: #008080; text-decoration-color: #008080; font-weight: bold\">12</span> │ <span style=\"color: #008000; text-decoration-color: #008000\">Animation,Short         </span> │\n",
       "│ <span style=\"color: #008000; text-decoration-color: #008000\">tt0000005</span> │ <span style=\"color: #008000; text-decoration-color: #008000\">short     </span> │ <span style=\"color: #008000; text-decoration-color: #008000\">Blacksmith Scene                           </span> │ <span style=\"color: #008000; text-decoration-color: #008000\">Blacksmith Scene                           </span> │        <span style=\"color: #008080; text-decoration-color: #008080; font-weight: bold\">0</span> │       <span style=\"color: #008080; text-decoration-color: #008080; font-weight: bold\">1893</span> │ <span style=\"color: #7f7f7f; text-decoration-color: #7f7f7f\">NULL</span>     │               <span style=\"color: #008080; text-decoration-color: #008080; font-weight: bold\">1</span> │ <span style=\"color: #008000; text-decoration-color: #008000\">Comedy,Short            </span> │\n",
       "│ <span style=\"color: #008000; text-decoration-color: #008000\">tt0000006</span> │ <span style=\"color: #008000; text-decoration-color: #008000\">short     </span> │ <span style=\"color: #008000; text-decoration-color: #008000\">Chinese Opium Den                          </span> │ <span style=\"color: #008000; text-decoration-color: #008000\">Chinese Opium Den                          </span> │        <span style=\"color: #008080; text-decoration-color: #008080; font-weight: bold\">0</span> │       <span style=\"color: #008080; text-decoration-color: #008080; font-weight: bold\">1894</span> │ <span style=\"color: #7f7f7f; text-decoration-color: #7f7f7f\">NULL</span>     │               <span style=\"color: #008080; text-decoration-color: #008080; font-weight: bold\">1</span> │ <span style=\"color: #008000; text-decoration-color: #008000\">Short                   </span> │\n",
       "│ <span style=\"color: #008000; text-decoration-color: #008000\">tt0000007</span> │ <span style=\"color: #008000; text-decoration-color: #008000\">short     </span> │ <span style=\"color: #008000; text-decoration-color: #008000\">Corbett and Courtney Before the Kinetograph</span> │ <span style=\"color: #008000; text-decoration-color: #008000\">Corbett and Courtney Before the Kinetograph</span> │        <span style=\"color: #008080; text-decoration-color: #008080; font-weight: bold\">0</span> │       <span style=\"color: #008080; text-decoration-color: #008080; font-weight: bold\">1894</span> │ <span style=\"color: #7f7f7f; text-decoration-color: #7f7f7f\">NULL</span>     │               <span style=\"color: #008080; text-decoration-color: #008080; font-weight: bold\">1</span> │ <span style=\"color: #008000; text-decoration-color: #008000\">Short,Sport             </span> │\n",
       "│ <span style=\"color: #008000; text-decoration-color: #008000\">tt0000008</span> │ <span style=\"color: #008000; text-decoration-color: #008000\">short     </span> │ <span style=\"color: #008000; text-decoration-color: #008000\">Edison Kinetoscopic Record of a Sneeze     </span> │ <span style=\"color: #008000; text-decoration-color: #008000\">Edison Kinetoscopic Record of a Sneeze     </span> │        <span style=\"color: #008080; text-decoration-color: #008080; font-weight: bold\">0</span> │       <span style=\"color: #008080; text-decoration-color: #008080; font-weight: bold\">1894</span> │ <span style=\"color: #7f7f7f; text-decoration-color: #7f7f7f\">NULL</span>     │               <span style=\"color: #008080; text-decoration-color: #008080; font-weight: bold\">1</span> │ <span style=\"color: #008000; text-decoration-color: #008000\">Documentary,Short       </span> │\n",
       "│ <span style=\"color: #008000; text-decoration-color: #008000\">tt0000009</span> │ <span style=\"color: #008000; text-decoration-color: #008000\">movie     </span> │ <span style=\"color: #008000; text-decoration-color: #008000\">Miss Jerry                                 </span> │ <span style=\"color: #008000; text-decoration-color: #008000\">Miss Jerry                                 </span> │        <span style=\"color: #008080; text-decoration-color: #008080; font-weight: bold\">0</span> │       <span style=\"color: #008080; text-decoration-color: #008080; font-weight: bold\">1894</span> │ <span style=\"color: #7f7f7f; text-decoration-color: #7f7f7f\">NULL</span>     │              <span style=\"color: #008080; text-decoration-color: #008080; font-weight: bold\">45</span> │ <span style=\"color: #008000; text-decoration-color: #008000\">Romance                 </span> │\n",
       "│ <span style=\"color: #008000; text-decoration-color: #008000\">tt0000010</span> │ <span style=\"color: #008000; text-decoration-color: #008000\">short     </span> │ <span style=\"color: #008000; text-decoration-color: #008000\">Leaving the Factory                        </span> │ <span style=\"color: #008000; text-decoration-color: #008000\">La sortie de l'usine Lumière à Lyon        </span> │        <span style=\"color: #008080; text-decoration-color: #008080; font-weight: bold\">0</span> │       <span style=\"color: #008080; text-decoration-color: #008080; font-weight: bold\">1895</span> │ <span style=\"color: #7f7f7f; text-decoration-color: #7f7f7f\">NULL</span>     │               <span style=\"color: #008080; text-decoration-color: #008080; font-weight: bold\">1</span> │ <span style=\"color: #008000; text-decoration-color: #008000\">Documentary,Short       </span> │\n",
       "│ <span style=\"color: #7f7f7f; text-decoration-color: #7f7f7f\">…</span>         │ <span style=\"color: #7f7f7f; text-decoration-color: #7f7f7f\">…</span>          │ <span style=\"color: #7f7f7f; text-decoration-color: #7f7f7f\">…</span>                                           │ <span style=\"color: #7f7f7f; text-decoration-color: #7f7f7f\">…</span>                                           │        <span style=\"color: #7f7f7f; text-decoration-color: #7f7f7f\">…</span> │          <span style=\"color: #7f7f7f; text-decoration-color: #7f7f7f\">…</span> │ <span style=\"color: #7f7f7f; text-decoration-color: #7f7f7f\">…</span>        │               <span style=\"color: #7f7f7f; text-decoration-color: #7f7f7f\">…</span> │ <span style=\"color: #7f7f7f; text-decoration-color: #7f7f7f\">…</span>                        │\n",
       "└───────────┴────────────┴─────────────────────────────────────────────┴─────────────────────────────────────────────┴──────────┴────────────┴──────────┴─────────────────┴──────────────────────────┘\n",
       "</pre>\n"
      ],
      "text/plain": [
       "┏━━━━━━━━━━━┳━━━━━━━━━━━━┳━━━━━━━━━━━━━━━━━━━━━━━━━━━━━━━━━━━━━━━━━━━━━┳━━━━━━━━━━━━━━━━━━━━━━━━━━━━━━━━━━━━━━━━━━━━━┳━━━━━━━━━━┳━━━━━━━━━━━━┳━━━━━━━━━━┳━━━━━━━━━━━━━━━━━┳━━━━━━━━━━━━━━━━━━━━━━━━━━┓\n",
       "┃\u001b[1m \u001b[0m\u001b[1mtconst\u001b[0m\u001b[1m   \u001b[0m\u001b[1m \u001b[0m┃\u001b[1m \u001b[0m\u001b[1mtitle_type\u001b[0m\u001b[1m \u001b[0m┃\u001b[1m \u001b[0m\u001b[1mprimary_title\u001b[0m\u001b[1m                              \u001b[0m\u001b[1m \u001b[0m┃\u001b[1m \u001b[0m\u001b[1moriginal_title\u001b[0m\u001b[1m                             \u001b[0m\u001b[1m \u001b[0m┃\u001b[1m \u001b[0m\u001b[1mis_adult\u001b[0m\u001b[1m \u001b[0m┃\u001b[1m \u001b[0m\u001b[1mstart_year\u001b[0m\u001b[1m \u001b[0m┃\u001b[1m \u001b[0m\u001b[1mend_year\u001b[0m\u001b[1m \u001b[0m┃\u001b[1m \u001b[0m\u001b[1mruntime_minutes\u001b[0m\u001b[1m \u001b[0m┃\u001b[1m \u001b[0m\u001b[1mgenres\u001b[0m\u001b[1m                  \u001b[0m\u001b[1m \u001b[0m┃\n",
       "┡━━━━━━━━━━━╇━━━━━━━━━━━━╇━━━━━━━━━━━━━━━━━━━━━━━━━━━━━━━━━━━━━━━━━━━━━╇━━━━━━━━━━━━━━━━━━━━━━━━━━━━━━━━━━━━━━━━━━━━━╇━━━━━━━━━━╇━━━━━━━━━━━━╇━━━━━━━━━━╇━━━━━━━━━━━━━━━━━╇━━━━━━━━━━━━━━━━━━━━━━━━━━┩\n",
       "│ \u001b[2mstring\u001b[0m    │ \u001b[2mstring\u001b[0m     │ \u001b[2mstring\u001b[0m                                      │ \u001b[2mstring\u001b[0m                                      │ \u001b[2mint64\u001b[0m    │ \u001b[2mint64\u001b[0m      │ \u001b[2mstring\u001b[0m   │ \u001b[2mint64\u001b[0m           │ \u001b[2mstring\u001b[0m                   │\n",
       "├───────────┼────────────┼─────────────────────────────────────────────┼─────────────────────────────────────────────┼──────────┼────────────┼──────────┼─────────────────┼──────────────────────────┤\n",
       "│ \u001b[32mtt0000001\u001b[0m │ \u001b[32mshort     \u001b[0m │ \u001b[32mCarmencita                                 \u001b[0m │ \u001b[32mCarmencita                                 \u001b[0m │        \u001b[1;36m0\u001b[0m │       \u001b[1;36m1894\u001b[0m │ \u001b[2mNULL\u001b[0m     │               \u001b[1;36m1\u001b[0m │ \u001b[32mDocumentary,Short       \u001b[0m │\n",
       "│ \u001b[32mtt0000002\u001b[0m │ \u001b[32mshort     \u001b[0m │ \u001b[32mLe clown et ses chiens                     \u001b[0m │ \u001b[32mLe clown et ses chiens                     \u001b[0m │        \u001b[1;36m0\u001b[0m │       \u001b[1;36m1892\u001b[0m │ \u001b[2mNULL\u001b[0m     │               \u001b[1;36m5\u001b[0m │ \u001b[32mAnimation,Short         \u001b[0m │\n",
       "│ \u001b[32mtt0000003\u001b[0m │ \u001b[32mshort     \u001b[0m │ \u001b[32mPauvre Pierrot                             \u001b[0m │ \u001b[32mPauvre Pierrot                             \u001b[0m │        \u001b[1;36m0\u001b[0m │       \u001b[1;36m1892\u001b[0m │ \u001b[2mNULL\u001b[0m     │               \u001b[1;36m4\u001b[0m │ \u001b[32mAnimation,Comedy,Romance\u001b[0m │\n",
       "│ \u001b[32mtt0000004\u001b[0m │ \u001b[32mshort     \u001b[0m │ \u001b[32mUn bon bock                                \u001b[0m │ \u001b[32mUn bon bock                                \u001b[0m │        \u001b[1;36m0\u001b[0m │       \u001b[1;36m1892\u001b[0m │ \u001b[2mNULL\u001b[0m     │              \u001b[1;36m12\u001b[0m │ \u001b[32mAnimation,Short         \u001b[0m │\n",
       "│ \u001b[32mtt0000005\u001b[0m │ \u001b[32mshort     \u001b[0m │ \u001b[32mBlacksmith Scene                           \u001b[0m │ \u001b[32mBlacksmith Scene                           \u001b[0m │        \u001b[1;36m0\u001b[0m │       \u001b[1;36m1893\u001b[0m │ \u001b[2mNULL\u001b[0m     │               \u001b[1;36m1\u001b[0m │ \u001b[32mComedy,Short            \u001b[0m │\n",
       "│ \u001b[32mtt0000006\u001b[0m │ \u001b[32mshort     \u001b[0m │ \u001b[32mChinese Opium Den                          \u001b[0m │ \u001b[32mChinese Opium Den                          \u001b[0m │        \u001b[1;36m0\u001b[0m │       \u001b[1;36m1894\u001b[0m │ \u001b[2mNULL\u001b[0m     │               \u001b[1;36m1\u001b[0m │ \u001b[32mShort                   \u001b[0m │\n",
       "│ \u001b[32mtt0000007\u001b[0m │ \u001b[32mshort     \u001b[0m │ \u001b[32mCorbett and Courtney Before the Kinetograph\u001b[0m │ \u001b[32mCorbett and Courtney Before the Kinetograph\u001b[0m │        \u001b[1;36m0\u001b[0m │       \u001b[1;36m1894\u001b[0m │ \u001b[2mNULL\u001b[0m     │               \u001b[1;36m1\u001b[0m │ \u001b[32mShort,Sport             \u001b[0m │\n",
       "│ \u001b[32mtt0000008\u001b[0m │ \u001b[32mshort     \u001b[0m │ \u001b[32mEdison Kinetoscopic Record of a Sneeze     \u001b[0m │ \u001b[32mEdison Kinetoscopic Record of a Sneeze     \u001b[0m │        \u001b[1;36m0\u001b[0m │       \u001b[1;36m1894\u001b[0m │ \u001b[2mNULL\u001b[0m     │               \u001b[1;36m1\u001b[0m │ \u001b[32mDocumentary,Short       \u001b[0m │\n",
       "│ \u001b[32mtt0000009\u001b[0m │ \u001b[32mmovie     \u001b[0m │ \u001b[32mMiss Jerry                                 \u001b[0m │ \u001b[32mMiss Jerry                                 \u001b[0m │        \u001b[1;36m0\u001b[0m │       \u001b[1;36m1894\u001b[0m │ \u001b[2mNULL\u001b[0m     │              \u001b[1;36m45\u001b[0m │ \u001b[32mRomance                 \u001b[0m │\n",
       "│ \u001b[32mtt0000010\u001b[0m │ \u001b[32mshort     \u001b[0m │ \u001b[32mLeaving the Factory                        \u001b[0m │ \u001b[32mLa sortie de l'usine Lumière à Lyon        \u001b[0m │        \u001b[1;36m0\u001b[0m │       \u001b[1;36m1895\u001b[0m │ \u001b[2mNULL\u001b[0m     │               \u001b[1;36m1\u001b[0m │ \u001b[32mDocumentary,Short       \u001b[0m │\n",
       "│ \u001b[2m…\u001b[0m         │ \u001b[2m…\u001b[0m          │ \u001b[2m…\u001b[0m                                           │ \u001b[2m…\u001b[0m                                           │        \u001b[2m…\u001b[0m │          \u001b[2m…\u001b[0m │ \u001b[2m…\u001b[0m        │               \u001b[2m…\u001b[0m │ \u001b[2m…\u001b[0m                        │\n",
       "└───────────┴────────────┴─────────────────────────────────────────────┴─────────────────────────────────────────────┴──────────┴────────────┴──────────┴─────────────────┴──────────────────────────┘"
      ]
     },
     "execution_count": 15,
     "metadata": {},
     "output_type": "execute_result"
    }
   ],
   "source": [
    "basics"
   ]
  },
  {
   "cell_type": "markdown",
   "id": "c64e7efe-b51d-41a2-896b-d00de501486f",
   "metadata": {},
   "source": [
    "## Casting"
   ]
  },
  {
   "cell_type": "code",
   "execution_count": 16,
   "id": "955f4806-13ef-4bdc-b3d2-92403b3ed12b",
   "metadata": {},
   "outputs": [
    {
     "data": {
      "text/html": [
       "<pre style=\"white-space:pre;overflow-x:auto;line-height:normal;font-family:Menlo,'DejaVu Sans Mono',consolas,'Courier New',monospace\">┏━━━━━━━━━━━━┓\n",
       "┃<span style=\"font-weight: bold\"> avg_rating </span>┃\n",
       "┡━━━━━━━━━━━━┩\n",
       "│ <span style=\"color: #7f7f7f; text-decoration-color: #7f7f7f\">float64</span>    │\n",
       "├────────────┤\n",
       "│        <span style=\"color: #008080; text-decoration-color: #008080; font-weight: bold\">5.7</span> │\n",
       "│        <span style=\"color: #008080; text-decoration-color: #008080; font-weight: bold\">5.7</span> │\n",
       "│        <span style=\"color: #008080; text-decoration-color: #008080; font-weight: bold\">6.5</span> │\n",
       "│        <span style=\"color: #008080; text-decoration-color: #008080; font-weight: bold\">5.4</span> │\n",
       "│        <span style=\"color: #008080; text-decoration-color: #008080; font-weight: bold\">6.2</span> │\n",
       "│        <span style=\"color: #008080; text-decoration-color: #008080; font-weight: bold\">5.0</span> │\n",
       "│        <span style=\"color: #008080; text-decoration-color: #008080; font-weight: bold\">5.4</span> │\n",
       "│        <span style=\"color: #008080; text-decoration-color: #008080; font-weight: bold\">5.4</span> │\n",
       "│        <span style=\"color: #008080; text-decoration-color: #008080; font-weight: bold\">5.3</span> │\n",
       "│        <span style=\"color: #008080; text-decoration-color: #008080; font-weight: bold\">6.8</span> │\n",
       "│          <span style=\"color: #7f7f7f; text-decoration-color: #7f7f7f\">…</span> │\n",
       "└────────────┘\n",
       "</pre>\n"
      ],
      "text/plain": [
       "┏━━━━━━━━━━━━┓\n",
       "┃\u001b[1m \u001b[0m\u001b[1mavg_rating\u001b[0m\u001b[1m \u001b[0m┃\n",
       "┡━━━━━━━━━━━━┩\n",
       "│ \u001b[2mfloat64\u001b[0m    │\n",
       "├────────────┤\n",
       "│        \u001b[1;36m5.7\u001b[0m │\n",
       "│        \u001b[1;36m5.7\u001b[0m │\n",
       "│        \u001b[1;36m6.5\u001b[0m │\n",
       "│        \u001b[1;36m5.4\u001b[0m │\n",
       "│        \u001b[1;36m6.2\u001b[0m │\n",
       "│        \u001b[1;36m5.0\u001b[0m │\n",
       "│        \u001b[1;36m5.4\u001b[0m │\n",
       "│        \u001b[1;36m5.4\u001b[0m │\n",
       "│        \u001b[1;36m5.3\u001b[0m │\n",
       "│        \u001b[1;36m6.8\u001b[0m │\n",
       "│          \u001b[2m…\u001b[0m │\n",
       "└────────────┘"
      ]
     },
     "execution_count": 16,
     "metadata": {},
     "output_type": "execute_result"
    }
   ],
   "source": [
    "ratings.select(avg_rating=ratings.average_rating.cast(\"float\"))"
   ]
  },
  {
   "cell_type": "code",
   "execution_count": 17,
   "id": "141e9e99-efec-4a7b-8b51-8d98333a1bec",
   "metadata": {},
   "outputs": [
    {
     "data": {
      "text/html": [
       "<pre style=\"white-space:pre;overflow-x:auto;line-height:normal;font-family:Menlo,'DejaVu Sans Mono',consolas,'Courier New',monospace\">┏━━━━━━━━━━━━┳━━━━━━━━━━━┓\n",
       "┃<span style=\"font-weight: bold\"> avg_rating </span>┃<span style=\"font-weight: bold\"> num_votes </span>┃\n",
       "┡━━━━━━━━━━━━╇━━━━━━━━━━━┩\n",
       "│ <span style=\"color: #7f7f7f; text-decoration-color: #7f7f7f\">float64</span>    │ <span style=\"color: #7f7f7f; text-decoration-color: #7f7f7f\">int64</span>     │\n",
       "├────────────┼───────────┤\n",
       "│        <span style=\"color: #008080; text-decoration-color: #008080; font-weight: bold\">5.7</span> │      <span style=\"color: #008080; text-decoration-color: #008080; font-weight: bold\">2036</span> │\n",
       "│        <span style=\"color: #008080; text-decoration-color: #008080; font-weight: bold\">5.7</span> │       <span style=\"color: #008080; text-decoration-color: #008080; font-weight: bold\">272</span> │\n",
       "│        <span style=\"color: #008080; text-decoration-color: #008080; font-weight: bold\">6.5</span> │      <span style=\"color: #008080; text-decoration-color: #008080; font-weight: bold\">1985</span> │\n",
       "│        <span style=\"color: #008080; text-decoration-color: #008080; font-weight: bold\">5.4</span> │       <span style=\"color: #008080; text-decoration-color: #008080; font-weight: bold\">178</span> │\n",
       "│        <span style=\"color: #008080; text-decoration-color: #008080; font-weight: bold\">6.2</span> │      <span style=\"color: #008080; text-decoration-color: #008080; font-weight: bold\">2745</span> │\n",
       "│        <span style=\"color: #008080; text-decoration-color: #008080; font-weight: bold\">5.0</span> │       <span style=\"color: #008080; text-decoration-color: #008080; font-weight: bold\">183</span> │\n",
       "│        <span style=\"color: #008080; text-decoration-color: #008080; font-weight: bold\">5.4</span> │       <span style=\"color: #008080; text-decoration-color: #008080; font-weight: bold\">852</span> │\n",
       "│        <span style=\"color: #008080; text-decoration-color: #008080; font-weight: bold\">5.4</span> │      <span style=\"color: #008080; text-decoration-color: #008080; font-weight: bold\">2181</span> │\n",
       "│        <span style=\"color: #008080; text-decoration-color: #008080; font-weight: bold\">5.3</span> │       <span style=\"color: #008080; text-decoration-color: #008080; font-weight: bold\">209</span> │\n",
       "│        <span style=\"color: #008080; text-decoration-color: #008080; font-weight: bold\">6.8</span> │      <span style=\"color: #008080; text-decoration-color: #008080; font-weight: bold\">7506</span> │\n",
       "│          <span style=\"color: #7f7f7f; text-decoration-color: #7f7f7f\">…</span> │         <span style=\"color: #7f7f7f; text-decoration-color: #7f7f7f\">…</span> │\n",
       "└────────────┴───────────┘\n",
       "</pre>\n"
      ],
      "text/plain": [
       "┏━━━━━━━━━━━━┳━━━━━━━━━━━┓\n",
       "┃\u001b[1m \u001b[0m\u001b[1mavg_rating\u001b[0m\u001b[1m \u001b[0m┃\u001b[1m \u001b[0m\u001b[1mnum_votes\u001b[0m\u001b[1m \u001b[0m┃\n",
       "┡━━━━━━━━━━━━╇━━━━━━━━━━━┩\n",
       "│ \u001b[2mfloat64\u001b[0m    │ \u001b[2mint64\u001b[0m     │\n",
       "├────────────┼───────────┤\n",
       "│        \u001b[1;36m5.7\u001b[0m │      \u001b[1;36m2036\u001b[0m │\n",
       "│        \u001b[1;36m5.7\u001b[0m │       \u001b[1;36m272\u001b[0m │\n",
       "│        \u001b[1;36m6.5\u001b[0m │      \u001b[1;36m1985\u001b[0m │\n",
       "│        \u001b[1;36m5.4\u001b[0m │       \u001b[1;36m178\u001b[0m │\n",
       "│        \u001b[1;36m6.2\u001b[0m │      \u001b[1;36m2745\u001b[0m │\n",
       "│        \u001b[1;36m5.0\u001b[0m │       \u001b[1;36m183\u001b[0m │\n",
       "│        \u001b[1;36m5.4\u001b[0m │       \u001b[1;36m852\u001b[0m │\n",
       "│        \u001b[1;36m5.4\u001b[0m │      \u001b[1;36m2181\u001b[0m │\n",
       "│        \u001b[1;36m5.3\u001b[0m │       \u001b[1;36m209\u001b[0m │\n",
       "│        \u001b[1;36m6.8\u001b[0m │      \u001b[1;36m7506\u001b[0m │\n",
       "│          \u001b[2m…\u001b[0m │         \u001b[2m…\u001b[0m │\n",
       "└────────────┴───────────┘"
      ]
     },
     "execution_count": 17,
     "metadata": {},
     "output_type": "execute_result"
    }
   ],
   "source": [
    "ratings.select(\n",
    "    avg_rating=ratings.average_rating.cast(\"float\"),\n",
    "    num_votes=ratings.num_votes.cast(\"int\"),\n",
    ")"
   ]
  },
  {
   "cell_type": "code",
   "execution_count": 18,
   "id": "cc6c1acd-7533-4b34-9cc2-23bee7368e49",
   "metadata": {},
   "outputs": [],
   "source": [
    "ratings = ratings.select(\n",
    "    ratings.tconst,\n",
    "    avg_rating=ratings.average_rating.cast(\"float\"),\n",
    "    num_votes=ratings.num_votes.cast(\"int\"),\n",
    ")"
   ]
  },
  {
   "cell_type": "markdown",
   "id": "97f09a6a-7599-40fc-955b-25aeaaca8a39",
   "metadata": {},
   "source": [
    "## `to_sql()`"
   ]
  },
  {
   "cell_type": "code",
   "execution_count": 19,
   "id": "e84a17d7-a448-484a-835a-e4f322d5a8d7",
   "metadata": {},
   "outputs": [
    {
     "data": {
      "text/markdown": [
       "```sql\n",
       "SELECT\n",
       "  \"t0\".\"tconst\",\n",
       "  CAST(\"t0\".\"averageRating\" AS DOUBLE) AS \"avg_rating\",\n",
       "  CAST(\"t0\".\"numVotes\" AS BIGINT) AS \"num_votes\"\n",
       "FROM \"ratings\" AS \"t0\"\n",
       "```"
      ],
      "text/plain": [
       "\u001b[34mSELECT\u001b[39;49;00m\u001b[37m\u001b[39;49;00m\n",
       "\u001b[37m  \u001b[39;49;00m\u001b[33m\"t0\"\u001b[39;49;00m.\u001b[33m\"tconst\"\u001b[39;49;00m,\u001b[37m\u001b[39;49;00m\n",
       "\u001b[37m  \u001b[39;49;00m\u001b[34mCAST\u001b[39;49;00m(\u001b[33m\"t0\"\u001b[39;49;00m.\u001b[33m\"averageRating\"\u001b[39;49;00m\u001b[37m \u001b[39;49;00m\u001b[34mAS\u001b[39;49;00m\u001b[37m \u001b[39;49;00mDOUBLE)\u001b[37m \u001b[39;49;00m\u001b[34mAS\u001b[39;49;00m\u001b[37m \u001b[39;49;00m\u001b[33m\"avg_rating\"\u001b[39;49;00m,\u001b[37m\u001b[39;49;00m\n",
       "\u001b[37m  \u001b[39;49;00m\u001b[34mCAST\u001b[39;49;00m(\u001b[33m\"t0\"\u001b[39;49;00m.\u001b[33m\"numVotes\"\u001b[39;49;00m\u001b[37m \u001b[39;49;00m\u001b[34mAS\u001b[39;49;00m\u001b[37m \u001b[39;49;00m\u001b[36mBIGINT\u001b[39;49;00m)\u001b[37m \u001b[39;49;00m\u001b[34mAS\u001b[39;49;00m\u001b[37m \u001b[39;49;00m\u001b[33m\"num_votes\"\u001b[39;49;00m\u001b[37m\u001b[39;49;00m\n",
       "\u001b[34mFROM\u001b[39;49;00m\u001b[37m \u001b[39;49;00m\u001b[33m\"ratings\"\u001b[39;49;00m\u001b[37m \u001b[39;49;00m\u001b[34mAS\u001b[39;49;00m\u001b[37m \u001b[39;49;00m\u001b[33m\"t0\"\u001b[39;49;00m\u001b[37m\u001b[39;49;00m"
      ]
     },
     "execution_count": 19,
     "metadata": {},
     "output_type": "execute_result"
    }
   ],
   "source": [
    "ibis.to_sql(ratings)"
   ]
  },
  {
   "cell_type": "code",
   "execution_count": 20,
   "id": "1961584b-906a-4dad-bd73-9f20a42c5365",
   "metadata": {},
   "outputs": [
    {
     "data": {
      "text/markdown": [
       "```sql\n",
       "SELECT\n",
       "  \"t0\".\"tconst\",\n",
       "  CAST(\"t0\".\"averageRating\" AS REAL) AS \"avg_rating\",\n",
       "  CAST(\"t0\".\"numVotes\" AS INTEGER) AS \"num_votes\"\n",
       "FROM \"ratings\" AS \"t0\"\n",
       "```"
      ],
      "text/plain": [
       "\u001b[34mSELECT\u001b[39;49;00m\u001b[37m\u001b[39;49;00m\n",
       "\u001b[37m  \u001b[39;49;00m\u001b[33m\"t0\"\u001b[39;49;00m.\u001b[33m\"tconst\"\u001b[39;49;00m,\u001b[37m\u001b[39;49;00m\n",
       "\u001b[37m  \u001b[39;49;00m\u001b[34mCAST\u001b[39;49;00m(\u001b[33m\"t0\"\u001b[39;49;00m.\u001b[33m\"averageRating\"\u001b[39;49;00m\u001b[37m \u001b[39;49;00m\u001b[34mAS\u001b[39;49;00m\u001b[37m \u001b[39;49;00m\u001b[36mREAL\u001b[39;49;00m)\u001b[37m \u001b[39;49;00m\u001b[34mAS\u001b[39;49;00m\u001b[37m \u001b[39;49;00m\u001b[33m\"avg_rating\"\u001b[39;49;00m,\u001b[37m\u001b[39;49;00m\n",
       "\u001b[37m  \u001b[39;49;00m\u001b[34mCAST\u001b[39;49;00m(\u001b[33m\"t0\"\u001b[39;49;00m.\u001b[33m\"numVotes\"\u001b[39;49;00m\u001b[37m \u001b[39;49;00m\u001b[34mAS\u001b[39;49;00m\u001b[37m \u001b[39;49;00m\u001b[36mINTEGER\u001b[39;49;00m)\u001b[37m \u001b[39;49;00m\u001b[34mAS\u001b[39;49;00m\u001b[37m \u001b[39;49;00m\u001b[33m\"num_votes\"\u001b[39;49;00m\u001b[37m\u001b[39;49;00m\n",
       "\u001b[34mFROM\u001b[39;49;00m\u001b[37m \u001b[39;49;00m\u001b[33m\"ratings\"\u001b[39;49;00m\u001b[37m \u001b[39;49;00m\u001b[34mAS\u001b[39;49;00m\u001b[37m \u001b[39;49;00m\u001b[33m\"t0\"\u001b[39;49;00m\u001b[37m\u001b[39;49;00m"
      ]
     },
     "execution_count": 20,
     "metadata": {},
     "output_type": "execute_result"
    }
   ],
   "source": [
    "ibis.to_sql(ratings, dialect=\"sqlite\") # this will show different types in casting when casting makes sense"
   ]
  },
  {
   "cell_type": "code",
   "execution_count": 21,
   "id": "2b6bfd83-c585-4f87-b7fd-431b7ed22454",
   "metadata": {},
   "outputs": [],
   "source": [
    "ibis.options.interactive = False"
   ]
  },
  {
   "cell_type": "markdown",
   "id": "a8d9b3f8-84de-46f8-9044-d4955f18b02e",
   "metadata": {},
   "source": [
    "## `.sql`"
   ]
  },
  {
   "cell_type": "code",
   "execution_count": 22,
   "id": "d585d04e-6448-4f2e-868e-fc0b84954d93",
   "metadata": {},
   "outputs": [
    {
     "data": {
      "text/html": [
       "<pre style=\"white-space:pre;overflow-x:auto;line-height:normal;font-family:Menlo,'DejaVu Sans Mono',consolas,'Courier New',monospace\">SQLQueryResult\n",
       "  query:\n",
       "    SELECT \"t0\".\"tconst\", CAST(\"t0\".\"averageRating\" AS VARCHAR) AS \"avg_rating\", …\n",
       "  schema:\n",
       "    tconst     string\n",
       "    avg_rating string\n",
       "    num_votes  string\n",
       "</pre>\n"
      ],
      "text/plain": [
       "SQLQueryResult\n",
       "  query:\n",
       "    SELECT \"t0\".\"tconst\", CAST(\"t0\".\"averageRating\" AS VARCHAR) AS \"avg_rating\", …\n",
       "  schema:\n",
       "    tconst     string\n",
       "    avg_rating string\n",
       "    num_votes  string"
      ]
     },
     "execution_count": 22,
     "metadata": {},
     "output_type": "execute_result"
    }
   ],
   "source": [
    "con.sql(\"\"\"\n",
    "        SELECT\n",
    "        \"t0\".\"tconst\",\n",
    "        CAST(\"t0\".\"averageRating\" AS VARCHAR) AS \"avg_rating\",\n",
    "        CAST(\"t0\".\"numVotes\" AS VARCHAR) AS \"num_votes\"\n",
    "        FROM \"ratings\" AS \"t0\"\n",
    "    \"\"\")"
   ]
  },
  {
   "cell_type": "code",
   "execution_count": 23,
   "id": "45b2ab2b-07bf-4ce8-a95d-553f443e90f8",
   "metadata": {},
   "outputs": [
    {
     "data": {
      "text/html": [
       "<div>\n",
       "<style scoped>\n",
       "    .dataframe tbody tr th:only-of-type {\n",
       "        vertical-align: middle;\n",
       "    }\n",
       "\n",
       "    .dataframe tbody tr th {\n",
       "        vertical-align: top;\n",
       "    }\n",
       "\n",
       "    .dataframe thead th {\n",
       "        text-align: right;\n",
       "    }\n",
       "</style>\n",
       "<table border=\"1\" class=\"dataframe\">\n",
       "  <thead>\n",
       "    <tr style=\"text-align: right;\">\n",
       "      <th></th>\n",
       "      <th>tconst</th>\n",
       "      <th>avg_rating</th>\n",
       "      <th>num_votes</th>\n",
       "    </tr>\n",
       "  </thead>\n",
       "  <tbody>\n",
       "    <tr>\n",
       "      <th>0</th>\n",
       "      <td>tt0000001</td>\n",
       "      <td>5.7</td>\n",
       "      <td>2036</td>\n",
       "    </tr>\n",
       "    <tr>\n",
       "      <th>1</th>\n",
       "      <td>tt0000002</td>\n",
       "      <td>5.7</td>\n",
       "      <td>272</td>\n",
       "    </tr>\n",
       "    <tr>\n",
       "      <th>2</th>\n",
       "      <td>tt0000003</td>\n",
       "      <td>6.5</td>\n",
       "      <td>1985</td>\n",
       "    </tr>\n",
       "    <tr>\n",
       "      <th>3</th>\n",
       "      <td>tt0000004</td>\n",
       "      <td>5.4</td>\n",
       "      <td>178</td>\n",
       "    </tr>\n",
       "    <tr>\n",
       "      <th>4</th>\n",
       "      <td>tt0000005</td>\n",
       "      <td>6.2</td>\n",
       "      <td>2745</td>\n",
       "    </tr>\n",
       "    <tr>\n",
       "      <th>...</th>\n",
       "      <td>...</td>\n",
       "      <td>...</td>\n",
       "      <td>...</td>\n",
       "    </tr>\n",
       "    <tr>\n",
       "      <th>1416615</th>\n",
       "      <td>tt9916730</td>\n",
       "      <td>7.0</td>\n",
       "      <td>12</td>\n",
       "    </tr>\n",
       "    <tr>\n",
       "      <th>1416616</th>\n",
       "      <td>tt9916766</td>\n",
       "      <td>7.1</td>\n",
       "      <td>23</td>\n",
       "    </tr>\n",
       "    <tr>\n",
       "      <th>1416617</th>\n",
       "      <td>tt9916778</td>\n",
       "      <td>7.2</td>\n",
       "      <td>36</td>\n",
       "    </tr>\n",
       "    <tr>\n",
       "      <th>1416618</th>\n",
       "      <td>tt9916840</td>\n",
       "      <td>6.7</td>\n",
       "      <td>8</td>\n",
       "    </tr>\n",
       "    <tr>\n",
       "      <th>1416619</th>\n",
       "      <td>tt9916880</td>\n",
       "      <td>8.2</td>\n",
       "      <td>6</td>\n",
       "    </tr>\n",
       "  </tbody>\n",
       "</table>\n",
       "<p>1416620 rows × 3 columns</p>\n",
       "</div>"
      ],
      "text/plain": [
       "            tconst avg_rating num_votes\n",
       "0        tt0000001        5.7      2036\n",
       "1        tt0000002        5.7       272\n",
       "2        tt0000003        6.5      1985\n",
       "3        tt0000004        5.4       178\n",
       "4        tt0000005        6.2      2745\n",
       "...            ...        ...       ...\n",
       "1416615  tt9916730        7.0        12\n",
       "1416616  tt9916766        7.1        23\n",
       "1416617  tt9916778        7.2        36\n",
       "1416618  tt9916840        6.7         8\n",
       "1416619  tt9916880        8.2         6\n",
       "\n",
       "[1416620 rows x 3 columns]"
      ]
     },
     "execution_count": 23,
     "metadata": {},
     "output_type": "execute_result"
    }
   ],
   "source": [
    "con.sql(\"\"\"\n",
    "        SELECT\n",
    "        \"t0\".\"tconst\",\n",
    "        CAST(\"t0\".\"averageRating\" AS VARCHAR) AS \"avg_rating\",\n",
    "        CAST(\"t0\".\"numVotes\" AS VARCHAR) AS \"num_votes\"\n",
    "        FROM \"ratings\" AS \"t0\"\n",
    "    \"\"\").execute()"
   ]
  },
  {
   "cell_type": "code",
   "execution_count": 24,
   "id": "b9affc17-e0d0-46e0-b465-d0520a9e424d",
   "metadata": {},
   "outputs": [],
   "source": [
    "ibis.options.interactive = True"
   ]
  },
  {
   "cell_type": "code",
   "execution_count": 25,
   "id": "14a2684c-61da-4795-b77e-5371565f01f4",
   "metadata": {},
   "outputs": [
    {
     "data": {
      "text/html": [
       "<pre style=\"white-space:pre;overflow-x:auto;line-height:normal;font-family:Menlo,'DejaVu Sans Mono',consolas,'Courier New',monospace\">┏━━━━━━━━━━━┳━━━━━━━━━━━━┳━━━━━━━━━━━┓\n",
       "┃<span style=\"font-weight: bold\"> tconst    </span>┃<span style=\"font-weight: bold\"> avg_rating </span>┃<span style=\"font-weight: bold\"> num_votes </span>┃\n",
       "┡━━━━━━━━━━━╇━━━━━━━━━━━━╇━━━━━━━━━━━┩\n",
       "│ <span style=\"color: #7f7f7f; text-decoration-color: #7f7f7f\">string</span>    │ <span style=\"color: #7f7f7f; text-decoration-color: #7f7f7f\">string</span>     │ <span style=\"color: #7f7f7f; text-decoration-color: #7f7f7f\">string</span>    │\n",
       "├───────────┼────────────┼───────────┤\n",
       "│ <span style=\"color: #008000; text-decoration-color: #008000\">tt0000001</span> │ <span style=\"color: #008000; text-decoration-color: #008000\">5.7       </span> │ <span style=\"color: #008000; text-decoration-color: #008000\">2036     </span> │\n",
       "│ <span style=\"color: #008000; text-decoration-color: #008000\">tt0000002</span> │ <span style=\"color: #008000; text-decoration-color: #008000\">5.7       </span> │ <span style=\"color: #008000; text-decoration-color: #008000\">272      </span> │\n",
       "│ <span style=\"color: #008000; text-decoration-color: #008000\">tt0000003</span> │ <span style=\"color: #008000; text-decoration-color: #008000\">6.5       </span> │ <span style=\"color: #008000; text-decoration-color: #008000\">1985     </span> │\n",
       "│ <span style=\"color: #008000; text-decoration-color: #008000\">tt0000004</span> │ <span style=\"color: #008000; text-decoration-color: #008000\">5.4       </span> │ <span style=\"color: #008000; text-decoration-color: #008000\">178      </span> │\n",
       "│ <span style=\"color: #008000; text-decoration-color: #008000\">tt0000005</span> │ <span style=\"color: #008000; text-decoration-color: #008000\">6.2       </span> │ <span style=\"color: #008000; text-decoration-color: #008000\">2745     </span> │\n",
       "│ <span style=\"color: #008000; text-decoration-color: #008000\">tt0000006</span> │ <span style=\"color: #008000; text-decoration-color: #008000\">5.0       </span> │ <span style=\"color: #008000; text-decoration-color: #008000\">183      </span> │\n",
       "│ <span style=\"color: #008000; text-decoration-color: #008000\">tt0000007</span> │ <span style=\"color: #008000; text-decoration-color: #008000\">5.4       </span> │ <span style=\"color: #008000; text-decoration-color: #008000\">852      </span> │\n",
       "│ <span style=\"color: #008000; text-decoration-color: #008000\">tt0000008</span> │ <span style=\"color: #008000; text-decoration-color: #008000\">5.4       </span> │ <span style=\"color: #008000; text-decoration-color: #008000\">2181     </span> │\n",
       "│ <span style=\"color: #008000; text-decoration-color: #008000\">tt0000009</span> │ <span style=\"color: #008000; text-decoration-color: #008000\">5.3       </span> │ <span style=\"color: #008000; text-decoration-color: #008000\">209      </span> │\n",
       "│ <span style=\"color: #008000; text-decoration-color: #008000\">tt0000010</span> │ <span style=\"color: #008000; text-decoration-color: #008000\">6.8       </span> │ <span style=\"color: #008000; text-decoration-color: #008000\">7506     </span> │\n",
       "│ <span style=\"color: #7f7f7f; text-decoration-color: #7f7f7f\">…</span>         │ <span style=\"color: #7f7f7f; text-decoration-color: #7f7f7f\">…</span>          │ <span style=\"color: #7f7f7f; text-decoration-color: #7f7f7f\">…</span>         │\n",
       "└───────────┴────────────┴───────────┘\n",
       "</pre>\n"
      ],
      "text/plain": [
       "┏━━━━━━━━━━━┳━━━━━━━━━━━━┳━━━━━━━━━━━┓\n",
       "┃\u001b[1m \u001b[0m\u001b[1mtconst\u001b[0m\u001b[1m   \u001b[0m\u001b[1m \u001b[0m┃\u001b[1m \u001b[0m\u001b[1mavg_rating\u001b[0m\u001b[1m \u001b[0m┃\u001b[1m \u001b[0m\u001b[1mnum_votes\u001b[0m\u001b[1m \u001b[0m┃\n",
       "┡━━━━━━━━━━━╇━━━━━━━━━━━━╇━━━━━━━━━━━┩\n",
       "│ \u001b[2mstring\u001b[0m    │ \u001b[2mstring\u001b[0m     │ \u001b[2mstring\u001b[0m    │\n",
       "├───────────┼────────────┼───────────┤\n",
       "│ \u001b[32mtt0000001\u001b[0m │ \u001b[32m5.7       \u001b[0m │ \u001b[32m2036     \u001b[0m │\n",
       "│ \u001b[32mtt0000002\u001b[0m │ \u001b[32m5.7       \u001b[0m │ \u001b[32m272      \u001b[0m │\n",
       "│ \u001b[32mtt0000003\u001b[0m │ \u001b[32m6.5       \u001b[0m │ \u001b[32m1985     \u001b[0m │\n",
       "│ \u001b[32mtt0000004\u001b[0m │ \u001b[32m5.4       \u001b[0m │ \u001b[32m178      \u001b[0m │\n",
       "│ \u001b[32mtt0000005\u001b[0m │ \u001b[32m6.2       \u001b[0m │ \u001b[32m2745     \u001b[0m │\n",
       "│ \u001b[32mtt0000006\u001b[0m │ \u001b[32m5.0       \u001b[0m │ \u001b[32m183      \u001b[0m │\n",
       "│ \u001b[32mtt0000007\u001b[0m │ \u001b[32m5.4       \u001b[0m │ \u001b[32m852      \u001b[0m │\n",
       "│ \u001b[32mtt0000008\u001b[0m │ \u001b[32m5.4       \u001b[0m │ \u001b[32m2181     \u001b[0m │\n",
       "│ \u001b[32mtt0000009\u001b[0m │ \u001b[32m5.3       \u001b[0m │ \u001b[32m209      \u001b[0m │\n",
       "│ \u001b[32mtt0000010\u001b[0m │ \u001b[32m6.8       \u001b[0m │ \u001b[32m7506     \u001b[0m │\n",
       "│ \u001b[2m…\u001b[0m         │ \u001b[2m…\u001b[0m          │ \u001b[2m…\u001b[0m         │\n",
       "└───────────┴────────────┴───────────┘"
      ]
     },
     "execution_count": 25,
     "metadata": {},
     "output_type": "execute_result"
    }
   ],
   "source": [
    "con.sql(\"\"\"\n",
    "        SELECT\n",
    "        \"t0\".\"tconst\",\n",
    "        CAST(\"t0\".\"averageRating\" AS VARCHAR) AS \"avg_rating\",\n",
    "        CAST(\"t0\".\"numVotes\" AS VARCHAR) AS \"num_votes\"\n",
    "        FROM \"ratings\" AS \"t0\"\n",
    "    \"\"\")"
   ]
  },
  {
   "cell_type": "markdown",
   "id": "3c2d06ee-1354-46aa-9a2c-8ddf5002e82b",
   "metadata": {},
   "source": [
    "## Other basic operations"
   ]
  },
  {
   "cell_type": "code",
   "execution_count": 26,
   "id": "3653bb23-6a2b-4a85-b80b-b55ed5099379",
   "metadata": {},
   "outputs": [
    {
     "data": {
      "text/plain": [
       "['tconst',\n",
       " 'title_type',\n",
       " 'primary_title',\n",
       " 'original_title',\n",
       " 'is_adult',\n",
       " 'start_year',\n",
       " 'end_year',\n",
       " 'runtime_minutes',\n",
       " 'genres']"
      ]
     },
     "execution_count": 26,
     "metadata": {},
     "output_type": "execute_result"
    }
   ],
   "source": [
    "basics.columns"
   ]
  },
  {
   "cell_type": "code",
   "execution_count": 27,
   "id": "e6c43ec1-9fd5-41e2-bc59-2fb6720ec39e",
   "metadata": {},
   "outputs": [
    {
     "data": {
      "text/html": [
       "<pre style=\"white-space:pre;overflow-x:auto;line-height:normal;font-family:Menlo,'DejaVu Sans Mono',consolas,'Courier New',monospace\">┏━━━━━━━━━━━━━━┳━━━━━━━━━━━━━━━━━━┓\n",
       "┃<span style=\"font-weight: bold\"> title_type   </span>┃<span style=\"font-weight: bold\"> title_type_count </span>┃\n",
       "┡━━━━━━━━━━━━━━╇━━━━━━━━━━━━━━━━━━┩\n",
       "│ <span style=\"color: #7f7f7f; text-decoration-color: #7f7f7f\">string</span>       │ <span style=\"color: #7f7f7f; text-decoration-color: #7f7f7f\">int64</span>            │\n",
       "├──────────────┼──────────────────┤\n",
       "│ <span style=\"color: #008000; text-decoration-color: #008000\">tvEpisode   </span> │          <span style=\"color: #008080; text-decoration-color: #008080; font-weight: bold\">8231889</span> │\n",
       "│ <span style=\"color: #008000; text-decoration-color: #008000\">tvMiniSeries</span> │            <span style=\"color: #008080; text-decoration-color: #008080; font-weight: bold\">54858</span> │\n",
       "│ <span style=\"color: #008000; text-decoration-color: #008000\">video       </span> │           <span style=\"color: #008080; text-decoration-color: #008080; font-weight: bold\">292676</span> │\n",
       "│ <span style=\"color: #008000; text-decoration-color: #008000\">tvShort     </span> │            <span style=\"color: #008080; text-decoration-color: #008080; font-weight: bold\">10479</span> │\n",
       "│ <span style=\"color: #008000; text-decoration-color: #008000\">tvSeries    </span> │           <span style=\"color: #008080; text-decoration-color: #008080; font-weight: bold\">266416</span> │\n",
       "│ <span style=\"color: #008000; text-decoration-color: #008000\">movie       </span> │           <span style=\"color: #008080; text-decoration-color: #008080; font-weight: bold\">708603</span> │\n",
       "│ <span style=\"color: #008000; text-decoration-color: #008000\">tvPilot     </span> │                <span style=\"color: #008080; text-decoration-color: #008080; font-weight: bold\">1</span> │\n",
       "│ <span style=\"color: #008000; text-decoration-color: #008000\">short       </span> │          <span style=\"color: #008080; text-decoration-color: #008080; font-weight: bold\">1015738</span> │\n",
       "│ <span style=\"color: #008000; text-decoration-color: #008000\">tvSpecial   </span> │            <span style=\"color: #008080; text-decoration-color: #008080; font-weight: bold\">47344</span> │\n",
       "│ <span style=\"color: #008000; text-decoration-color: #008000\">tvMovie     </span> │           <span style=\"color: #008080; text-decoration-color: #008080; font-weight: bold\">148285</span> │\n",
       "│ <span style=\"color: #7f7f7f; text-decoration-color: #7f7f7f\">…</span>            │                <span style=\"color: #7f7f7f; text-decoration-color: #7f7f7f\">…</span> │\n",
       "└──────────────┴──────────────────┘\n",
       "</pre>\n"
      ],
      "text/plain": [
       "┏━━━━━━━━━━━━━━┳━━━━━━━━━━━━━━━━━━┓\n",
       "┃\u001b[1m \u001b[0m\u001b[1mtitle_type\u001b[0m\u001b[1m  \u001b[0m\u001b[1m \u001b[0m┃\u001b[1m \u001b[0m\u001b[1mtitle_type_count\u001b[0m\u001b[1m \u001b[0m┃\n",
       "┡━━━━━━━━━━━━━━╇━━━━━━━━━━━━━━━━━━┩\n",
       "│ \u001b[2mstring\u001b[0m       │ \u001b[2mint64\u001b[0m            │\n",
       "├──────────────┼──────────────────┤\n",
       "│ \u001b[32mtvEpisode   \u001b[0m │          \u001b[1;36m8231889\u001b[0m │\n",
       "│ \u001b[32mtvMiniSeries\u001b[0m │            \u001b[1;36m54858\u001b[0m │\n",
       "│ \u001b[32mvideo       \u001b[0m │           \u001b[1;36m292676\u001b[0m │\n",
       "│ \u001b[32mtvShort     \u001b[0m │            \u001b[1;36m10479\u001b[0m │\n",
       "│ \u001b[32mtvSeries    \u001b[0m │           \u001b[1;36m266416\u001b[0m │\n",
       "│ \u001b[32mmovie       \u001b[0m │           \u001b[1;36m708603\u001b[0m │\n",
       "│ \u001b[32mtvPilot     \u001b[0m │                \u001b[1;36m1\u001b[0m │\n",
       "│ \u001b[32mshort       \u001b[0m │          \u001b[1;36m1015738\u001b[0m │\n",
       "│ \u001b[32mtvSpecial   \u001b[0m │            \u001b[1;36m47344\u001b[0m │\n",
       "│ \u001b[32mtvMovie     \u001b[0m │           \u001b[1;36m148285\u001b[0m │\n",
       "│ \u001b[2m…\u001b[0m            │                \u001b[2m…\u001b[0m │\n",
       "└──────────────┴──────────────────┘"
      ]
     },
     "execution_count": 27,
     "metadata": {},
     "output_type": "execute_result"
    }
   ],
   "source": [
    "basics.title_type.value_counts()"
   ]
  },
  {
   "cell_type": "code",
   "execution_count": 28,
   "id": "dd6b35ea-9ff8-4165-9ee5-d3cea5d2b6b8",
   "metadata": {},
   "outputs": [
    {
     "data": {
      "text/html": [
       "<pre style=\"white-space:pre;overflow-x:auto;line-height:normal;font-family:Menlo,'DejaVu Sans Mono',consolas,'Courier New',monospace\">┏━━━━━━━━━━┳━━━━━━━━━━━━━━━━┓\n",
       "┃<span style=\"font-weight: bold\"> is_adult </span>┃<span style=\"font-weight: bold\"> is_adult_count </span>┃\n",
       "┡━━━━━━━━━━╇━━━━━━━━━━━━━━━━┩\n",
       "│ <span style=\"color: #7f7f7f; text-decoration-color: #7f7f7f\">int64</span>    │ <span style=\"color: #7f7f7f; text-decoration-color: #7f7f7f\">int64</span>          │\n",
       "├──────────┼────────────────┤\n",
       "│        <span style=\"color: #008080; text-decoration-color: #008080; font-weight: bold\">0</span> │       <span style=\"color: #008080; text-decoration-color: #008080; font-weight: bold\">10473443</span> │\n",
       "│        <span style=\"color: #008080; text-decoration-color: #008080; font-weight: bold\">1</span> │         <span style=\"color: #008080; text-decoration-color: #008080; font-weight: bold\">341266</span> │\n",
       "└──────────┴────────────────┘\n",
       "</pre>\n"
      ],
      "text/plain": [
       "┏━━━━━━━━━━┳━━━━━━━━━━━━━━━━┓\n",
       "┃\u001b[1m \u001b[0m\u001b[1mis_adult\u001b[0m\u001b[1m \u001b[0m┃\u001b[1m \u001b[0m\u001b[1mis_adult_count\u001b[0m\u001b[1m \u001b[0m┃\n",
       "┡━━━━━━━━━━╇━━━━━━━━━━━━━━━━┩\n",
       "│ \u001b[2mint64\u001b[0m    │ \u001b[2mint64\u001b[0m          │\n",
       "├──────────┼────────────────┤\n",
       "│        \u001b[1;36m0\u001b[0m │       \u001b[1;36m10473443\u001b[0m │\n",
       "│        \u001b[1;36m1\u001b[0m │         \u001b[1;36m341266\u001b[0m │\n",
       "└──────────┴────────────────┘"
      ]
     },
     "execution_count": 28,
     "metadata": {},
     "output_type": "execute_result"
    }
   ],
   "source": [
    "basics.is_adult.value_counts()"
   ]
  },
  {
   "cell_type": "code",
   "execution_count": 29,
   "id": "be8d7ae4-c5a6-42bd-953b-7f189f7d43ec",
   "metadata": {},
   "outputs": [],
   "source": [
    "basics = basics.filter([basics.title_type == \"movie\", basics.is_adult == 0]).select(\"tconst\", \n",
    "                                                                                    \"primary_title\", \n",
    "                                                                                    )\n"
   ]
  },
  {
   "cell_type": "code",
   "execution_count": 30,
   "id": "227327fd-798c-459b-b92b-9ee678b73f4d",
   "metadata": {},
   "outputs": [
    {
     "data": {
      "text/html": [
       "<pre style=\"white-space:pre;overflow-x:auto;line-height:normal;font-family:Menlo,'DejaVu Sans Mono',consolas,'Courier New',monospace\">┏━━━━━━━━━━━┳━━━━━━━━━━━━━━━━━━━━━━━━━━━━━━━━┓\n",
       "┃<span style=\"font-weight: bold\"> tconst    </span>┃<span style=\"font-weight: bold\"> primary_title                  </span>┃\n",
       "┡━━━━━━━━━━━╇━━━━━━━━━━━━━━━━━━━━━━━━━━━━━━━━┩\n",
       "│ <span style=\"color: #7f7f7f; text-decoration-color: #7f7f7f\">string</span>    │ <span style=\"color: #7f7f7f; text-decoration-color: #7f7f7f\">string</span>                         │\n",
       "├───────────┼────────────────────────────────┤\n",
       "│ <span style=\"color: #008000; text-decoration-color: #008000\">tt0000009</span> │ <span style=\"color: #008000; text-decoration-color: #008000\">Miss Jerry                    </span> │\n",
       "│ <span style=\"color: #008000; text-decoration-color: #008000\">tt0000147</span> │ <span style=\"color: #008000; text-decoration-color: #008000\">The Corbett-Fitzsimmons Fight </span> │\n",
       "│ <span style=\"color: #008000; text-decoration-color: #008000\">tt0000502</span> │ <span style=\"color: #008000; text-decoration-color: #008000\">Bohemios                      </span> │\n",
       "│ <span style=\"color: #008000; text-decoration-color: #008000\">tt0000574</span> │ <span style=\"color: #008000; text-decoration-color: #008000\">The Story of the Kelly Gang   </span> │\n",
       "│ <span style=\"color: #008000; text-decoration-color: #008000\">tt0000591</span> │ <span style=\"color: #008000; text-decoration-color: #008000\">The Prodigal Son              </span> │\n",
       "│ <span style=\"color: #008000; text-decoration-color: #008000\">tt0000615</span> │ <span style=\"color: #008000; text-decoration-color: #008000\">Robbery Under Arms            </span> │\n",
       "│ <span style=\"color: #008000; text-decoration-color: #008000\">tt0000630</span> │ <span style=\"color: #008000; text-decoration-color: #008000\">Hamlet                        </span> │\n",
       "│ <span style=\"color: #008000; text-decoration-color: #008000\">tt0000675</span> │ <span style=\"color: #008000; text-decoration-color: #008000\">Don Quijote                   </span> │\n",
       "│ <span style=\"color: #008000; text-decoration-color: #008000\">tt0000679</span> │ <span style=\"color: #008000; text-decoration-color: #008000\">The Fairylogue and Radio-Plays</span> │\n",
       "│ <span style=\"color: #008000; text-decoration-color: #008000\">tt0000838</span> │ <span style=\"color: #008000; text-decoration-color: #008000\">A Cultura do Cacau            </span> │\n",
       "│ <span style=\"color: #7f7f7f; text-decoration-color: #7f7f7f\">…</span>         │ <span style=\"color: #7f7f7f; text-decoration-color: #7f7f7f\">…</span>                              │\n",
       "└───────────┴────────────────────────────────┘\n",
       "</pre>\n"
      ],
      "text/plain": [
       "┏━━━━━━━━━━━┳━━━━━━━━━━━━━━━━━━━━━━━━━━━━━━━━┓\n",
       "┃\u001b[1m \u001b[0m\u001b[1mtconst\u001b[0m\u001b[1m   \u001b[0m\u001b[1m \u001b[0m┃\u001b[1m \u001b[0m\u001b[1mprimary_title\u001b[0m\u001b[1m                 \u001b[0m\u001b[1m \u001b[0m┃\n",
       "┡━━━━━━━━━━━╇━━━━━━━━━━━━━━━━━━━━━━━━━━━━━━━━┩\n",
       "│ \u001b[2mstring\u001b[0m    │ \u001b[2mstring\u001b[0m                         │\n",
       "├───────────┼────────────────────────────────┤\n",
       "│ \u001b[32mtt0000009\u001b[0m │ \u001b[32mMiss Jerry                    \u001b[0m │\n",
       "│ \u001b[32mtt0000147\u001b[0m │ \u001b[32mThe Corbett-Fitzsimmons Fight \u001b[0m │\n",
       "│ \u001b[32mtt0000502\u001b[0m │ \u001b[32mBohemios                      \u001b[0m │\n",
       "│ \u001b[32mtt0000574\u001b[0m │ \u001b[32mThe Story of the Kelly Gang   \u001b[0m │\n",
       "│ \u001b[32mtt0000591\u001b[0m │ \u001b[32mThe Prodigal Son              \u001b[0m │\n",
       "│ \u001b[32mtt0000615\u001b[0m │ \u001b[32mRobbery Under Arms            \u001b[0m │\n",
       "│ \u001b[32mtt0000630\u001b[0m │ \u001b[32mHamlet                        \u001b[0m │\n",
       "│ \u001b[32mtt0000675\u001b[0m │ \u001b[32mDon Quijote                   \u001b[0m │\n",
       "│ \u001b[32mtt0000679\u001b[0m │ \u001b[32mThe Fairylogue and Radio-Plays\u001b[0m │\n",
       "│ \u001b[32mtt0000838\u001b[0m │ \u001b[32mA Cultura do Cacau            \u001b[0m │\n",
       "│ \u001b[2m…\u001b[0m         │ \u001b[2m…\u001b[0m                              │\n",
       "└───────────┴────────────────────────────────┘"
      ]
     },
     "execution_count": 30,
     "metadata": {},
     "output_type": "execute_result"
    }
   ],
   "source": [
    "basics"
   ]
  },
  {
   "cell_type": "code",
   "execution_count": 31,
   "id": "f080e860-f0be-47d9-8897-59c185670860",
   "metadata": {},
   "outputs": [
    {
     "data": {
      "text/html": [
       "<div>\n",
       "<style scoped>\n",
       "    .dataframe tbody tr th:only-of-type {\n",
       "        vertical-align: middle;\n",
       "    }\n",
       "\n",
       "    .dataframe tbody tr th {\n",
       "        vertical-align: top;\n",
       "    }\n",
       "\n",
       "    .dataframe thead th {\n",
       "        text-align: right;\n",
       "    }\n",
       "</style>\n",
       "<table border=\"1\" class=\"dataframe\">\n",
       "  <thead>\n",
       "    <tr style=\"text-align: right;\">\n",
       "      <th></th>\n",
       "      <th>tconst</th>\n",
       "      <th>primary_title</th>\n",
       "      <th>avg_rating</th>\n",
       "      <th>num_votes</th>\n",
       "    </tr>\n",
       "  </thead>\n",
       "  <tbody>\n",
       "    <tr>\n",
       "      <th>0</th>\n",
       "      <td>tt0378071</td>\n",
       "      <td>Hum Tere Ashiq Hain</td>\n",
       "      <td>6.3</td>\n",
       "      <td>32</td>\n",
       "    </tr>\n",
       "    <tr>\n",
       "      <th>1</th>\n",
       "      <td>tt0378072</td>\n",
       "      <td>Hum Tum</td>\n",
       "      <td>7.0</td>\n",
       "      <td>15065</td>\n",
       "    </tr>\n",
       "    <tr>\n",
       "      <th>2</th>\n",
       "      <td>tt0378078</td>\n",
       "      <td>Once Upon a Time in the Battlefield</td>\n",
       "      <td>5.7</td>\n",
       "      <td>302</td>\n",
       "    </tr>\n",
       "    <tr>\n",
       "      <th>3</th>\n",
       "      <td>tt0378088</td>\n",
       "      <td>Impakto</td>\n",
       "      <td>6.0</td>\n",
       "      <td>37</td>\n",
       "    </tr>\n",
       "    <tr>\n",
       "      <th>4</th>\n",
       "      <td>tt0378109</td>\n",
       "      <td>Into the Blue</td>\n",
       "      <td>5.9</td>\n",
       "      <td>79351</td>\n",
       "    </tr>\n",
       "    <tr>\n",
       "      <th>5</th>\n",
       "      <td>tt0378117</td>\n",
       "      <td>Istokwa</td>\n",
       "      <td>7.0</td>\n",
       "      <td>7</td>\n",
       "    </tr>\n",
       "    <tr>\n",
       "      <th>6</th>\n",
       "      <td>tt0378118</td>\n",
       "      <td>Ivar</td>\n",
       "      <td>4.6</td>\n",
       "      <td>71</td>\n",
       "    </tr>\n",
       "    <tr>\n",
       "      <th>7</th>\n",
       "      <td>tt0378120</td>\n",
       "      <td>Jabidah Massacre</td>\n",
       "      <td>7.8</td>\n",
       "      <td>8</td>\n",
       "    </tr>\n",
       "    <tr>\n",
       "      <th>8</th>\n",
       "      <td>tt0378124</td>\n",
       "      <td>Jawani Ke Gunah</td>\n",
       "      <td>5.7</td>\n",
       "      <td>13</td>\n",
       "    </tr>\n",
       "    <tr>\n",
       "      <th>9</th>\n",
       "      <td>tt0378147</td>\n",
       "      <td>El nüremberg argentino</td>\n",
       "      <td>6.9</td>\n",
       "      <td>23</td>\n",
       "    </tr>\n",
       "  </tbody>\n",
       "</table>\n",
       "</div>"
      ],
      "text/plain": [
       "      tconst                        primary_title  avg_rating  num_votes\n",
       "0  tt0378071                  Hum Tere Ashiq Hain         6.3         32\n",
       "1  tt0378072                              Hum Tum         7.0      15065\n",
       "2  tt0378078  Once Upon a Time in the Battlefield         5.7        302\n",
       "3  tt0378088                              Impakto         6.0         37\n",
       "4  tt0378109                        Into the Blue         5.9      79351\n",
       "5  tt0378117                              Istokwa         7.0          7\n",
       "6  tt0378118                                 Ivar         4.6         71\n",
       "7  tt0378120                     Jabidah Massacre         7.8          8\n",
       "8  tt0378124                      Jawani Ke Gunah         5.7         13\n",
       "9  tt0378147               El nüremberg argentino         6.9         23"
      ]
     },
     "execution_count": 31,
     "metadata": {},
     "output_type": "execute_result"
    }
   ],
   "source": [
    "basics.join(ratings, \"tconst\").execute(limit=10)"
   ]
  },
  {
   "cell_type": "code",
   "execution_count": 32,
   "id": "87d36074-9c72-4865-a862-f89dc8deaad0",
   "metadata": {},
   "outputs": [
    {
     "data": {
      "text/html": [
       "<pre style=\"white-space:pre;overflow-x:auto;line-height:normal;font-family:Menlo,'DejaVu Sans Mono',consolas,'Courier New',monospace\">┏━━━━━━━━━━━━┳━━━━━━━━━━━━━━━━━━━━━━━━━━━━━━━━━━━━━┳━━━━━━━━━━━━┳━━━━━━━━━━━┓\n",
       "┃<span style=\"font-weight: bold\"> tconst     </span>┃<span style=\"font-weight: bold\"> primary_title                       </span>┃<span style=\"font-weight: bold\"> avg_rating </span>┃<span style=\"font-weight: bold\"> num_votes </span>┃\n",
       "┡━━━━━━━━━━━━╇━━━━━━━━━━━━━━━━━━━━━━━━━━━━━━━━━━━━━╇━━━━━━━━━━━━╇━━━━━━━━━━━┩\n",
       "│ <span style=\"color: #7f7f7f; text-decoration-color: #7f7f7f\">string</span>     │ <span style=\"color: #7f7f7f; text-decoration-color: #7f7f7f\">string</span>                              │ <span style=\"color: #7f7f7f; text-decoration-color: #7f7f7f\">float64</span>    │ <span style=\"color: #7f7f7f; text-decoration-color: #7f7f7f\">int64</span>     │\n",
       "├────────────┼─────────────────────────────────────┼────────────┼───────────┤\n",
       "│ <span style=\"color: #008000; text-decoration-color: #008000\">tt10692472</span> │ <span style=\"color: #008000; text-decoration-color: #008000\">No Tears Behind The Camera         </span> │       <span style=\"color: #008080; text-decoration-color: #008080; font-weight: bold\">10.0</span> │         <span style=\"color: #008080; text-decoration-color: #008080; font-weight: bold\">6</span> │\n",
       "│ <span style=\"color: #008000; text-decoration-color: #008000\">tt13458442</span> │ <span style=\"color: #008000; text-decoration-color: #008000\">Vegan on a Jet Plane: Bali         </span> │       <span style=\"color: #008080; text-decoration-color: #008080; font-weight: bold\">10.0</span> │        <span style=\"color: #008080; text-decoration-color: #008080; font-weight: bold\">14</span> │\n",
       "│ <span style=\"color: #008000; text-decoration-color: #008000\">tt16281982</span> │ <span style=\"color: #008000; text-decoration-color: #008000\">A Story for Winter                 </span> │       <span style=\"color: #008080; text-decoration-color: #008080; font-weight: bold\">10.0</span> │         <span style=\"color: #008080; text-decoration-color: #008080; font-weight: bold\">6</span> │\n",
       "│ <span style=\"color: #008000; text-decoration-color: #008000\">tt22046656</span> │ <span style=\"color: #008000; text-decoration-color: #008000\">Wild Gift                          </span> │       <span style=\"color: #008080; text-decoration-color: #008080; font-weight: bold\">10.0</span> │         <span style=\"color: #008080; text-decoration-color: #008080; font-weight: bold\">8</span> │\n",
       "│ <span style=\"color: #008000; text-decoration-color: #008000\">tt22175036</span> │ <span style=\"color: #008000; text-decoration-color: #008000\">Relentless Ride                    </span> │       <span style=\"color: #008080; text-decoration-color: #008080; font-weight: bold\">10.0</span> │        <span style=\"color: #008080; text-decoration-color: #008080; font-weight: bold\">11</span> │\n",
       "│ <span style=\"color: #008000; text-decoration-color: #008000\">tt29259789</span> │ <span style=\"color: #008000; text-decoration-color: #008000\">Sisters &amp; The Shrink 4             </span> │       <span style=\"color: #008080; text-decoration-color: #008080; font-weight: bold\">10.0</span> │         <span style=\"color: #008080; text-decoration-color: #008080; font-weight: bold\">7</span> │\n",
       "│ <span style=\"color: #008000; text-decoration-color: #008000\">tt4810228 </span> │ <span style=\"color: #008000; text-decoration-color: #008000\">Happygram                          </span> │       <span style=\"color: #008080; text-decoration-color: #008080; font-weight: bold\">10.0</span> │         <span style=\"color: #008080; text-decoration-color: #008080; font-weight: bold\">7</span> │\n",
       "│ <span style=\"color: #008000; text-decoration-color: #008000\">tt7205466 </span> │ <span style=\"color: #008000; text-decoration-color: #008000\">Light                              </span> │       <span style=\"color: #008080; text-decoration-color: #008080; font-weight: bold\">10.0</span> │         <span style=\"color: #008080; text-decoration-color: #008080; font-weight: bold\">5</span> │\n",
       "│ <span style=\"color: #008000; text-decoration-color: #008000\">tt27412257</span> │ <span style=\"color: #008000; text-decoration-color: #008000\">When You Become Me                 </span> │       <span style=\"color: #008080; text-decoration-color: #008080; font-weight: bold\">10.0</span> │         <span style=\"color: #008080; text-decoration-color: #008080; font-weight: bold\">7</span> │\n",
       "│ <span style=\"color: #008000; text-decoration-color: #008000\">tt27430155</span> │ <span style=\"color: #008000; text-decoration-color: #008000\">Giuseppe Garibaldi eroe leggendario</span> │       <span style=\"color: #008080; text-decoration-color: #008080; font-weight: bold\">10.0</span> │        <span style=\"color: #008080; text-decoration-color: #008080; font-weight: bold\">11</span> │\n",
       "│ <span style=\"color: #7f7f7f; text-decoration-color: #7f7f7f\">…</span>          │ <span style=\"color: #7f7f7f; text-decoration-color: #7f7f7f\">…</span>                                   │          <span style=\"color: #7f7f7f; text-decoration-color: #7f7f7f\">…</span> │         <span style=\"color: #7f7f7f; text-decoration-color: #7f7f7f\">…</span> │\n",
       "└────────────┴─────────────────────────────────────┴────────────┴───────────┘\n",
       "</pre>\n"
      ],
      "text/plain": [
       "┏━━━━━━━━━━━━┳━━━━━━━━━━━━━━━━━━━━━━━━━━━━━━━━━━━━━┳━━━━━━━━━━━━┳━━━━━━━━━━━┓\n",
       "┃\u001b[1m \u001b[0m\u001b[1mtconst\u001b[0m\u001b[1m    \u001b[0m\u001b[1m \u001b[0m┃\u001b[1m \u001b[0m\u001b[1mprimary_title\u001b[0m\u001b[1m                      \u001b[0m\u001b[1m \u001b[0m┃\u001b[1m \u001b[0m\u001b[1mavg_rating\u001b[0m\u001b[1m \u001b[0m┃\u001b[1m \u001b[0m\u001b[1mnum_votes\u001b[0m\u001b[1m \u001b[0m┃\n",
       "┡━━━━━━━━━━━━╇━━━━━━━━━━━━━━━━━━━━━━━━━━━━━━━━━━━━━╇━━━━━━━━━━━━╇━━━━━━━━━━━┩\n",
       "│ \u001b[2mstring\u001b[0m     │ \u001b[2mstring\u001b[0m                              │ \u001b[2mfloat64\u001b[0m    │ \u001b[2mint64\u001b[0m     │\n",
       "├────────────┼─────────────────────────────────────┼────────────┼───────────┤\n",
       "│ \u001b[32mtt10692472\u001b[0m │ \u001b[32mNo Tears Behind The Camera         \u001b[0m │       \u001b[1;36m10.0\u001b[0m │         \u001b[1;36m6\u001b[0m │\n",
       "│ \u001b[32mtt13458442\u001b[0m │ \u001b[32mVegan on a Jet Plane: Bali         \u001b[0m │       \u001b[1;36m10.0\u001b[0m │        \u001b[1;36m14\u001b[0m │\n",
       "│ \u001b[32mtt16281982\u001b[0m │ \u001b[32mA Story for Winter                 \u001b[0m │       \u001b[1;36m10.0\u001b[0m │         \u001b[1;36m6\u001b[0m │\n",
       "│ \u001b[32mtt22046656\u001b[0m │ \u001b[32mWild Gift                          \u001b[0m │       \u001b[1;36m10.0\u001b[0m │         \u001b[1;36m8\u001b[0m │\n",
       "│ \u001b[32mtt22175036\u001b[0m │ \u001b[32mRelentless Ride                    \u001b[0m │       \u001b[1;36m10.0\u001b[0m │        \u001b[1;36m11\u001b[0m │\n",
       "│ \u001b[32mtt29259789\u001b[0m │ \u001b[32mSisters & The Shrink 4             \u001b[0m │       \u001b[1;36m10.0\u001b[0m │         \u001b[1;36m7\u001b[0m │\n",
       "│ \u001b[32mtt4810228 \u001b[0m │ \u001b[32mHappygram                          \u001b[0m │       \u001b[1;36m10.0\u001b[0m │         \u001b[1;36m7\u001b[0m │\n",
       "│ \u001b[32mtt7205466 \u001b[0m │ \u001b[32mLight                              \u001b[0m │       \u001b[1;36m10.0\u001b[0m │         \u001b[1;36m5\u001b[0m │\n",
       "│ \u001b[32mtt27412257\u001b[0m │ \u001b[32mWhen You Become Me                 \u001b[0m │       \u001b[1;36m10.0\u001b[0m │         \u001b[1;36m7\u001b[0m │\n",
       "│ \u001b[32mtt27430155\u001b[0m │ \u001b[32mGiuseppe Garibaldi eroe leggendario\u001b[0m │       \u001b[1;36m10.0\u001b[0m │        \u001b[1;36m11\u001b[0m │\n",
       "│ \u001b[2m…\u001b[0m          │ \u001b[2m…\u001b[0m                                   │          \u001b[2m…\u001b[0m │         \u001b[2m…\u001b[0m │\n",
       "└────────────┴─────────────────────────────────────┴────────────┴───────────┘"
      ]
     },
     "execution_count": 32,
     "metadata": {},
     "output_type": "execute_result"
    }
   ],
   "source": [
    "basics.join(ratings, \"tconst\").order_by(_.avg_rating.desc())"
   ]
  },
  {
   "cell_type": "code",
   "execution_count": 33,
   "id": "5a6f77f4-4f2e-4354-831c-d2faccdeaba3",
   "metadata": {},
   "outputs": [
    {
     "data": {
      "text/html": [
       "<pre style=\"white-space:pre;overflow-x:auto;line-height:normal;font-family:Menlo,'DejaVu Sans Mono',consolas,'Courier New',monospace\">┏━━━━━━━━━━━┳━━━━━━━━━━━━━━━━━━━━━━━━━━━━━━━━━━━━━━━━━━━━━━━━━━━┳━━━━━━━━━━━━┳━━━━━━━━━━━┓\n",
       "┃<span style=\"font-weight: bold\"> tconst    </span>┃<span style=\"font-weight: bold\"> primary_title                                     </span>┃<span style=\"font-weight: bold\"> avg_rating </span>┃<span style=\"font-weight: bold\"> num_votes </span>┃\n",
       "┡━━━━━━━━━━━╇━━━━━━━━━━━━━━━━━━━━━━━━━━━━━━━━━━━━━━━━━━━━━━━━━━━╇━━━━━━━━━━━━╇━━━━━━━━━━━┩\n",
       "│ <span style=\"color: #7f7f7f; text-decoration-color: #7f7f7f\">string</span>    │ <span style=\"color: #7f7f7f; text-decoration-color: #7f7f7f\">string</span>                                            │ <span style=\"color: #7f7f7f; text-decoration-color: #7f7f7f\">float64</span>    │ <span style=\"color: #7f7f7f; text-decoration-color: #7f7f7f\">int64</span>     │\n",
       "├───────────┼───────────────────────────────────────────────────┼────────────┼───────────┤\n",
       "│ <span style=\"color: #008000; text-decoration-color: #008000\">tt0111161</span> │ <span style=\"color: #008000; text-decoration-color: #008000\">The Shawshank Redemption                         </span> │        <span style=\"color: #008080; text-decoration-color: #008080; font-weight: bold\">9.3</span> │   <span style=\"color: #008080; text-decoration-color: #008080; font-weight: bold\">2873242</span> │\n",
       "│ <span style=\"color: #008000; text-decoration-color: #008000\">tt0068646</span> │ <span style=\"color: #008000; text-decoration-color: #008000\">The Godfather                                    </span> │        <span style=\"color: #008080; text-decoration-color: #008080; font-weight: bold\">9.2</span> │   <span style=\"color: #008080; text-decoration-color: #008080; font-weight: bold\">2001286</span> │\n",
       "│ <span style=\"color: #008000; text-decoration-color: #008000\">tt0071562</span> │ <span style=\"color: #008000; text-decoration-color: #008000\">The Godfather Part II                            </span> │        <span style=\"color: #008080; text-decoration-color: #008080; font-weight: bold\">9.0</span> │   <span style=\"color: #008080; text-decoration-color: #008080; font-weight: bold\">1357703</span> │\n",
       "│ <span style=\"color: #008000; text-decoration-color: #008000\">tt0108052</span> │ <span style=\"color: #008000; text-decoration-color: #008000\">Schindler's List                                 </span> │        <span style=\"color: #008080; text-decoration-color: #008080; font-weight: bold\">9.0</span> │   <span style=\"color: #008080; text-decoration-color: #008080; font-weight: bold\">1443212</span> │\n",
       "│ <span style=\"color: #008000; text-decoration-color: #008000\">tt0167260</span> │ <span style=\"color: #008000; text-decoration-color: #008000\">The Lord of the Rings: The Return of the King    </span> │        <span style=\"color: #008080; text-decoration-color: #008080; font-weight: bold\">9.0</span> │   <span style=\"color: #008080; text-decoration-color: #008080; font-weight: bold\">1968792</span> │\n",
       "│ <span style=\"color: #008000; text-decoration-color: #008000\">tt0468569</span> │ <span style=\"color: #008000; text-decoration-color: #008000\">The Dark Knight                                  </span> │        <span style=\"color: #008080; text-decoration-color: #008080; font-weight: bold\">9.0</span> │   <span style=\"color: #008080; text-decoration-color: #008080; font-weight: bold\">2855626</span> │\n",
       "│ <span style=\"color: #008000; text-decoration-color: #008000\">tt0110912</span> │ <span style=\"color: #008000; text-decoration-color: #008000\">Pulp Fiction                                     </span> │        <span style=\"color: #008080; text-decoration-color: #008080; font-weight: bold\">8.9</span> │   <span style=\"color: #008080; text-decoration-color: #008080; font-weight: bold\">2207397</span> │\n",
       "│ <span style=\"color: #008000; text-decoration-color: #008000\">tt0120737</span> │ <span style=\"color: #008000; text-decoration-color: #008000\">The Lord of the Rings: The Fellowship of the Ring</span> │        <span style=\"color: #008080; text-decoration-color: #008080; font-weight: bold\">8.9</span> │   <span style=\"color: #008080; text-decoration-color: #008080; font-weight: bold\">1996832</span> │\n",
       "│ <span style=\"color: #008000; text-decoration-color: #008000\">tt0109830</span> │ <span style=\"color: #008000; text-decoration-color: #008000\">Forrest Gump                                     </span> │        <span style=\"color: #008080; text-decoration-color: #008080; font-weight: bold\">8.8</span> │   <span style=\"color: #008080; text-decoration-color: #008080; font-weight: bold\">2243918</span> │\n",
       "│ <span style=\"color: #008000; text-decoration-color: #008000\">tt1375666</span> │ <span style=\"color: #008000; text-decoration-color: #008000\">Inception                                        </span> │        <span style=\"color: #008080; text-decoration-color: #008080; font-weight: bold\">8.8</span> │   <span style=\"color: #008080; text-decoration-color: #008080; font-weight: bold\">2536542</span> │\n",
       "│ <span style=\"color: #7f7f7f; text-decoration-color: #7f7f7f\">…</span>         │ <span style=\"color: #7f7f7f; text-decoration-color: #7f7f7f\">…</span>                                                 │          <span style=\"color: #7f7f7f; text-decoration-color: #7f7f7f\">…</span> │         <span style=\"color: #7f7f7f; text-decoration-color: #7f7f7f\">…</span> │\n",
       "└───────────┴───────────────────────────────────────────────────┴────────────┴───────────┘\n",
       "</pre>\n"
      ],
      "text/plain": [
       "┏━━━━━━━━━━━┳━━━━━━━━━━━━━━━━━━━━━━━━━━━━━━━━━━━━━━━━━━━━━━━━━━━┳━━━━━━━━━━━━┳━━━━━━━━━━━┓\n",
       "┃\u001b[1m \u001b[0m\u001b[1mtconst\u001b[0m\u001b[1m   \u001b[0m\u001b[1m \u001b[0m┃\u001b[1m \u001b[0m\u001b[1mprimary_title\u001b[0m\u001b[1m                                    \u001b[0m\u001b[1m \u001b[0m┃\u001b[1m \u001b[0m\u001b[1mavg_rating\u001b[0m\u001b[1m \u001b[0m┃\u001b[1m \u001b[0m\u001b[1mnum_votes\u001b[0m\u001b[1m \u001b[0m┃\n",
       "┡━━━━━━━━━━━╇━━━━━━━━━━━━━━━━━━━━━━━━━━━━━━━━━━━━━━━━━━━━━━━━━━━╇━━━━━━━━━━━━╇━━━━━━━━━━━┩\n",
       "│ \u001b[2mstring\u001b[0m    │ \u001b[2mstring\u001b[0m                                            │ \u001b[2mfloat64\u001b[0m    │ \u001b[2mint64\u001b[0m     │\n",
       "├───────────┼───────────────────────────────────────────────────┼────────────┼───────────┤\n",
       "│ \u001b[32mtt0111161\u001b[0m │ \u001b[32mThe Shawshank Redemption                         \u001b[0m │        \u001b[1;36m9.3\u001b[0m │   \u001b[1;36m2873242\u001b[0m │\n",
       "│ \u001b[32mtt0068646\u001b[0m │ \u001b[32mThe Godfather                                    \u001b[0m │        \u001b[1;36m9.2\u001b[0m │   \u001b[1;36m2001286\u001b[0m │\n",
       "│ \u001b[32mtt0071562\u001b[0m │ \u001b[32mThe Godfather Part II                            \u001b[0m │        \u001b[1;36m9.0\u001b[0m │   \u001b[1;36m1357703\u001b[0m │\n",
       "│ \u001b[32mtt0108052\u001b[0m │ \u001b[32mSchindler's List                                 \u001b[0m │        \u001b[1;36m9.0\u001b[0m │   \u001b[1;36m1443212\u001b[0m │\n",
       "│ \u001b[32mtt0167260\u001b[0m │ \u001b[32mThe Lord of the Rings: The Return of the King    \u001b[0m │        \u001b[1;36m9.0\u001b[0m │   \u001b[1;36m1968792\u001b[0m │\n",
       "│ \u001b[32mtt0468569\u001b[0m │ \u001b[32mThe Dark Knight                                  \u001b[0m │        \u001b[1;36m9.0\u001b[0m │   \u001b[1;36m2855626\u001b[0m │\n",
       "│ \u001b[32mtt0110912\u001b[0m │ \u001b[32mPulp Fiction                                     \u001b[0m │        \u001b[1;36m8.9\u001b[0m │   \u001b[1;36m2207397\u001b[0m │\n",
       "│ \u001b[32mtt0120737\u001b[0m │ \u001b[32mThe Lord of the Rings: The Fellowship of the Ring\u001b[0m │        \u001b[1;36m8.9\u001b[0m │   \u001b[1;36m1996832\u001b[0m │\n",
       "│ \u001b[32mtt0109830\u001b[0m │ \u001b[32mForrest Gump                                     \u001b[0m │        \u001b[1;36m8.8\u001b[0m │   \u001b[1;36m2243918\u001b[0m │\n",
       "│ \u001b[32mtt1375666\u001b[0m │ \u001b[32mInception                                        \u001b[0m │        \u001b[1;36m8.8\u001b[0m │   \u001b[1;36m2536542\u001b[0m │\n",
       "│ \u001b[2m…\u001b[0m         │ \u001b[2m…\u001b[0m                                                 │          \u001b[2m…\u001b[0m │         \u001b[2m…\u001b[0m │\n",
       "└───────────┴───────────────────────────────────────────────────┴────────────┴───────────┘"
      ]
     },
     "execution_count": 33,
     "metadata": {},
     "output_type": "execute_result"
    }
   ],
   "source": [
    "basics.join(ratings, \"tconst\").order_by(_.avg_rating.desc()).filter(_.num_votes > 1e6)"
   ]
  },
  {
   "cell_type": "markdown",
   "id": "f25680c1-cb46-4fb4-a0bf-e9a3833853f1",
   "metadata": {},
   "source": [
    "## `join` tables"
   ]
  },
  {
   "cell_type": "code",
   "execution_count": 34,
   "id": "a5848a18-3626-413b-bc57-093fbc62abea",
   "metadata": {},
   "outputs": [],
   "source": [
    "topfilms = basics.join(ratings, \"tconst\").order_by(_.avg_rating.desc()).filter(_.num_votes > 1e6)"
   ]
  },
  {
   "cell_type": "code",
   "execution_count": 35,
   "id": "8570b9c9-7bc8-4afb-9d2f-c719f1937e97",
   "metadata": {},
   "outputs": [],
   "source": [
    "ibis.options.interactive = False"
   ]
  },
  {
   "cell_type": "code",
   "execution_count": 36,
   "id": "0168370f-56f5-4dfd-9f46-f1b234ac32a8",
   "metadata": {},
   "outputs": [
    {
     "data": {
      "text/html": [
       "<pre style=\"white-space:pre;overflow-x:auto;line-height:normal;font-family:Menlo,'DejaVu Sans Mono',consolas,'Courier New',monospace\">r0 := DatabaseTable: basics\n",
       "  tconst         string\n",
       "  titleType      string\n",
       "  primaryTitle   string\n",
       "  originalTitle  string\n",
       "  isAdult        int64\n",
       "  startYear      int64\n",
       "  endYear        string\n",
       "  runtimeMinutes int64\n",
       "  genres         string\n",
       "\n",
       "r1 := DatabaseTable: ratings\n",
       "  tconst        string\n",
       "  averageRating string\n",
       "  numVotes      string\n",
       "\n",
       "r2 := Project[r0]\n",
       "  tconst:          r0.tconst\n",
       "  title_type:      r0.titleType\n",
       "  primary_title:   r0.primaryTitle\n",
       "  original_title:  r0.originalTitle\n",
       "  is_adult:        r0.isAdult\n",
       "  start_year:      r0.startYear\n",
       "  end_year:        r0.endYear\n",
       "  runtime_minutes: r0.runtimeMinutes\n",
       "  genres:          r0.genres\n",
       "\n",
       "r3 := Project[r1]\n",
       "  tconst:         r1.tconst\n",
       "  average_rating: r1.averageRating\n",
       "  num_votes:      r1.numVotes\n",
       "\n",
       "r4 := Filter[r2]\n",
       "  r2.title_type == 'movie'\n",
       "  r2.is_adult == 0\n",
       "\n",
       "r5 := Project[r3]\n",
       "  tconst:     r3.tconst\n",
       "  avg_rating: Cast(r3.average_rating, to=float64)\n",
       "  num_votes:  Cast(r3.num_votes, to=int64)\n",
       "\n",
       "r6 := Project[r4]\n",
       "  tconst:        r4.tconst\n",
       "  primary_title: r4.primary_title\n",
       "\n",
       "r7 := JoinChain[r6]\n",
       "  JoinLink[inner, r5]\n",
       "    r6.tconst == r5.tconst\n",
       "  values:\n",
       "    tconst:        r6.tconst\n",
       "    primary_title: r6.primary_title\n",
       "    avg_rating:    r5.avg_rating\n",
       "    num_votes:     r5.num_votes\n",
       "\n",
       "r8 := Sort[r7]\n",
       "  desc r7.avg_rating\n",
       "\n",
       "Filter[r8]\n",
       "  r8.num_votes &gt; 1000000.0\n",
       "</pre>\n"
      ],
      "text/plain": [
       "r0 := DatabaseTable: basics\n",
       "  tconst         string\n",
       "  titleType      string\n",
       "  primaryTitle   string\n",
       "  originalTitle  string\n",
       "  isAdult        int64\n",
       "  startYear      int64\n",
       "  endYear        string\n",
       "  runtimeMinutes int64\n",
       "  genres         string\n",
       "\n",
       "r1 := DatabaseTable: ratings\n",
       "  tconst        string\n",
       "  averageRating string\n",
       "  numVotes      string\n",
       "\n",
       "r2 := Project[r0]\n",
       "  tconst:          r0.tconst\n",
       "  title_type:      r0.titleType\n",
       "  primary_title:   r0.primaryTitle\n",
       "  original_title:  r0.originalTitle\n",
       "  is_adult:        r0.isAdult\n",
       "  start_year:      r0.startYear\n",
       "  end_year:        r0.endYear\n",
       "  runtime_minutes: r0.runtimeMinutes\n",
       "  genres:          r0.genres\n",
       "\n",
       "r3 := Project[r1]\n",
       "  tconst:         r1.tconst\n",
       "  average_rating: r1.averageRating\n",
       "  num_votes:      r1.numVotes\n",
       "\n",
       "r4 := Filter[r2]\n",
       "  r2.title_type == 'movie'\n",
       "  r2.is_adult == 0\n",
       "\n",
       "r5 := Project[r3]\n",
       "  tconst:     r3.tconst\n",
       "  avg_rating: Cast(r3.average_rating, to=float64)\n",
       "  num_votes:  Cast(r3.num_votes, to=int64)\n",
       "\n",
       "r6 := Project[r4]\n",
       "  tconst:        r4.tconst\n",
       "  primary_title: r4.primary_title\n",
       "\n",
       "r7 := JoinChain[r6]\n",
       "  JoinLink[inner, r5]\n",
       "    r6.tconst == r5.tconst\n",
       "  values:\n",
       "    tconst:        r6.tconst\n",
       "    primary_title: r6.primary_title\n",
       "    avg_rating:    r5.avg_rating\n",
       "    num_votes:     r5.num_votes\n",
       "\n",
       "r8 := Sort[r7]\n",
       "  desc r7.avg_rating\n",
       "\n",
       "Filter[r8]\n",
       "  r8.num_votes > 1000000.0"
      ]
     },
     "execution_count": 36,
     "metadata": {},
     "output_type": "execute_result"
    }
   ],
   "source": [
    "topfilms"
   ]
  },
  {
   "cell_type": "code",
   "execution_count": 37,
   "id": "ec0cf932-5cd1-4388-afa4-d12d84b5d15e",
   "metadata": {},
   "outputs": [
    {
     "data": {
      "text/html": [
       "<div>\n",
       "<style scoped>\n",
       "    .dataframe tbody tr th:only-of-type {\n",
       "        vertical-align: middle;\n",
       "    }\n",
       "\n",
       "    .dataframe tbody tr th {\n",
       "        vertical-align: top;\n",
       "    }\n",
       "\n",
       "    .dataframe thead th {\n",
       "        text-align: right;\n",
       "    }\n",
       "</style>\n",
       "<table border=\"1\" class=\"dataframe\">\n",
       "  <thead>\n",
       "    <tr style=\"text-align: right;\">\n",
       "      <th></th>\n",
       "      <th>tconst</th>\n",
       "      <th>primary_title</th>\n",
       "      <th>avg_rating</th>\n",
       "      <th>num_votes</th>\n",
       "    </tr>\n",
       "  </thead>\n",
       "  <tbody>\n",
       "    <tr>\n",
       "      <th>0</th>\n",
       "      <td>tt0111161</td>\n",
       "      <td>The Shawshank Redemption</td>\n",
       "      <td>9.3</td>\n",
       "      <td>2873242</td>\n",
       "    </tr>\n",
       "    <tr>\n",
       "      <th>1</th>\n",
       "      <td>tt0068646</td>\n",
       "      <td>The Godfather</td>\n",
       "      <td>9.2</td>\n",
       "      <td>2001286</td>\n",
       "    </tr>\n",
       "    <tr>\n",
       "      <th>2</th>\n",
       "      <td>tt0071562</td>\n",
       "      <td>The Godfather Part II</td>\n",
       "      <td>9.0</td>\n",
       "      <td>1357703</td>\n",
       "    </tr>\n",
       "    <tr>\n",
       "      <th>3</th>\n",
       "      <td>tt0108052</td>\n",
       "      <td>Schindler's List</td>\n",
       "      <td>9.0</td>\n",
       "      <td>1443212</td>\n",
       "    </tr>\n",
       "    <tr>\n",
       "      <th>4</th>\n",
       "      <td>tt0468569</td>\n",
       "      <td>The Dark Knight</td>\n",
       "      <td>9.0</td>\n",
       "      <td>2855626</td>\n",
       "    </tr>\n",
       "    <tr>\n",
       "      <th>5</th>\n",
       "      <td>tt0167260</td>\n",
       "      <td>The Lord of the Rings: The Return of the King</td>\n",
       "      <td>9.0</td>\n",
       "      <td>1968792</td>\n",
       "    </tr>\n",
       "    <tr>\n",
       "      <th>6</th>\n",
       "      <td>tt0110912</td>\n",
       "      <td>Pulp Fiction</td>\n",
       "      <td>8.9</td>\n",
       "      <td>2207397</td>\n",
       "    </tr>\n",
       "    <tr>\n",
       "      <th>7</th>\n",
       "      <td>tt0120737</td>\n",
       "      <td>The Lord of the Rings: The Fellowship of the Ring</td>\n",
       "      <td>8.9</td>\n",
       "      <td>1996832</td>\n",
       "    </tr>\n",
       "    <tr>\n",
       "      <th>8</th>\n",
       "      <td>tt0109830</td>\n",
       "      <td>Forrest Gump</td>\n",
       "      <td>8.8</td>\n",
       "      <td>2243918</td>\n",
       "    </tr>\n",
       "    <tr>\n",
       "      <th>9</th>\n",
       "      <td>tt1375666</td>\n",
       "      <td>Inception</td>\n",
       "      <td>8.8</td>\n",
       "      <td>2536542</td>\n",
       "    </tr>\n",
       "  </tbody>\n",
       "</table>\n",
       "</div>"
      ],
      "text/plain": [
       "      tconst                                      primary_title  avg_rating  \\\n",
       "0  tt0111161                           The Shawshank Redemption         9.3   \n",
       "1  tt0068646                                      The Godfather         9.2   \n",
       "2  tt0071562                              The Godfather Part II         9.0   \n",
       "3  tt0108052                                   Schindler's List         9.0   \n",
       "4  tt0468569                                    The Dark Knight         9.0   \n",
       "5  tt0167260      The Lord of the Rings: The Return of the King         9.0   \n",
       "6  tt0110912                                       Pulp Fiction         8.9   \n",
       "7  tt0120737  The Lord of the Rings: The Fellowship of the Ring         8.9   \n",
       "8  tt0109830                                       Forrest Gump         8.8   \n",
       "9  tt1375666                                          Inception         8.8   \n",
       "\n",
       "   num_votes  \n",
       "0    2873242  \n",
       "1    2001286  \n",
       "2    1357703  \n",
       "3    1443212  \n",
       "4    2855626  \n",
       "5    1968792  \n",
       "6    2207397  \n",
       "7    1996832  \n",
       "8    2243918  \n",
       "9    2536542  "
      ]
     },
     "execution_count": 37,
     "metadata": {},
     "output_type": "execute_result"
    }
   ],
   "source": [
    "topfilms.execute(limit=10)"
   ]
  },
  {
   "cell_type": "markdown",
   "id": "a16fe6d6-af46-4d53-a533-03bd3fa117cf",
   "metadata": {},
   "source": [
    "## UDFs"
   ]
  },
  {
   "cell_type": "code",
   "execution_count": 38,
   "id": "5c5f7a3d-f8c2-4dcb-978d-c5c3d31f7edd",
   "metadata": {},
   "outputs": [],
   "source": [
    "@ibis.udf.scalar.builtin\n",
    "def jaccard(s1: str, s2: str) -> float:\n",
    "    ..."
   ]
  },
  {
   "cell_type": "code",
   "execution_count": 39,
   "id": "fe034502-d8a8-4f24-883a-2bde36b6fd48",
   "metadata": {},
   "outputs": [],
   "source": [
    "expr = jaccard(topfilms.primary_title, \"The Godmother\")"
   ]
  },
  {
   "cell_type": "code",
   "execution_count": 40,
   "id": "f0d92c99-e37b-47b3-a34d-628bee3ad8c2",
   "metadata": {},
   "outputs": [
    {
     "data": {
      "text/plain": [
       "0    0.421053\n",
       "1    0.750000\n",
       "2    0.400000\n",
       "3    0.352941\n",
       "4    0.642857\n",
       "5    0.333333\n",
       "6    0.166667\n",
       "7    0.363636\n",
       "8    0.176471\n",
       "9    0.421053\n",
       "Name: jaccard_0(primary_title, 'The Godmother'), dtype: float64"
      ]
     },
     "execution_count": 40,
     "metadata": {},
     "output_type": "execute_result"
    }
   ],
   "source": [
    "expr.execute(limit=10)"
   ]
  },
  {
   "cell_type": "code",
   "execution_count": 41,
   "id": "1ae13dd2-3747-431a-9bcd-14f013962139",
   "metadata": {},
   "outputs": [
    {
     "data": {
      "text/markdown": [
       "```sql\n",
       "SELECT\n",
       "  JACCARD(\"t6\".\"primary_title\", 'The Godmother') AS \"jaccard_0(primary_title, 'The Godmother')\"\n",
       "FROM (\n",
       "  SELECT\n",
       "    \"t4\".\"tconst\",\n",
       "    \"t4\".\"primary_title\",\n",
       "    \"t5\".\"avg_rating\",\n",
       "    \"t5\".\"num_votes\"\n",
       "  FROM (\n",
       "    SELECT\n",
       "      \"t0\".\"tconst\",\n",
       "      \"t0\".\"primaryTitle\" AS \"primary_title\"\n",
       "    FROM \"basics\" AS \"t0\"\n",
       "    WHERE\n",
       "      \"t0\".\"titleType\" = 'movie' AND \"t0\".\"isAdult\" = CAST(0 AS TINYINT)\n",
       "  ) AS \"t4\"\n",
       "  INNER JOIN (\n",
       "    SELECT\n",
       "      \"t1\".\"tconst\",\n",
       "      CAST(\"t1\".\"averageRating\" AS DOUBLE) AS \"avg_rating\",\n",
       "      CAST(\"t1\".\"numVotes\" AS BIGINT) AS \"num_votes\"\n",
       "    FROM \"ratings\" AS \"t1\"\n",
       "  ) AS \"t5\"\n",
       "    ON \"t4\".\"tconst\" = \"t5\".\"tconst\"\n",
       ") AS \"t6\"\n",
       "WHERE\n",
       "  \"t6\".\"num_votes\" > CAST(1000000.0 AS DOUBLE)\n",
       "ORDER BY\n",
       "  \"t6\".\"avg_rating\" DESC\n",
       "```"
      ],
      "text/plain": [
       "\u001b[34mSELECT\u001b[39;49;00m\u001b[37m\u001b[39;49;00m\n",
       "\u001b[37m  \u001b[39;49;00mJACCARD(\u001b[33m\"t6\"\u001b[39;49;00m.\u001b[33m\"primary_title\"\u001b[39;49;00m,\u001b[37m \u001b[39;49;00m\u001b[33m'The Godmother'\u001b[39;49;00m)\u001b[37m \u001b[39;49;00m\u001b[34mAS\u001b[39;49;00m\u001b[37m \u001b[39;49;00m\u001b[33m\"jaccard_0(primary_title, 'The Godmother')\"\u001b[39;49;00m\u001b[37m\u001b[39;49;00m\n",
       "\u001b[34mFROM\u001b[39;49;00m\u001b[37m \u001b[39;49;00m(\u001b[37m\u001b[39;49;00m\n",
       "\u001b[37m  \u001b[39;49;00m\u001b[34mSELECT\u001b[39;49;00m\u001b[37m\u001b[39;49;00m\n",
       "\u001b[37m    \u001b[39;49;00m\u001b[33m\"t4\"\u001b[39;49;00m.\u001b[33m\"tconst\"\u001b[39;49;00m,\u001b[37m\u001b[39;49;00m\n",
       "\u001b[37m    \u001b[39;49;00m\u001b[33m\"t4\"\u001b[39;49;00m.\u001b[33m\"primary_title\"\u001b[39;49;00m,\u001b[37m\u001b[39;49;00m\n",
       "\u001b[37m    \u001b[39;49;00m\u001b[33m\"t5\"\u001b[39;49;00m.\u001b[33m\"avg_rating\"\u001b[39;49;00m,\u001b[37m\u001b[39;49;00m\n",
       "\u001b[37m    \u001b[39;49;00m\u001b[33m\"t5\"\u001b[39;49;00m.\u001b[33m\"num_votes\"\u001b[39;49;00m\u001b[37m\u001b[39;49;00m\n",
       "\u001b[37m  \u001b[39;49;00m\u001b[34mFROM\u001b[39;49;00m\u001b[37m \u001b[39;49;00m(\u001b[37m\u001b[39;49;00m\n",
       "\u001b[37m    \u001b[39;49;00m\u001b[34mSELECT\u001b[39;49;00m\u001b[37m\u001b[39;49;00m\n",
       "\u001b[37m      \u001b[39;49;00m\u001b[33m\"t0\"\u001b[39;49;00m.\u001b[33m\"tconst\"\u001b[39;49;00m,\u001b[37m\u001b[39;49;00m\n",
       "\u001b[37m      \u001b[39;49;00m\u001b[33m\"t0\"\u001b[39;49;00m.\u001b[33m\"primaryTitle\"\u001b[39;49;00m\u001b[37m \u001b[39;49;00m\u001b[34mAS\u001b[39;49;00m\u001b[37m \u001b[39;49;00m\u001b[33m\"primary_title\"\u001b[39;49;00m\u001b[37m\u001b[39;49;00m\n",
       "\u001b[37m    \u001b[39;49;00m\u001b[34mFROM\u001b[39;49;00m\u001b[37m \u001b[39;49;00m\u001b[33m\"basics\"\u001b[39;49;00m\u001b[37m \u001b[39;49;00m\u001b[34mAS\u001b[39;49;00m\u001b[37m \u001b[39;49;00m\u001b[33m\"t0\"\u001b[39;49;00m\u001b[37m\u001b[39;49;00m\n",
       "\u001b[37m    \u001b[39;49;00m\u001b[34mWHERE\u001b[39;49;00m\u001b[37m\u001b[39;49;00m\n",
       "\u001b[37m      \u001b[39;49;00m\u001b[33m\"t0\"\u001b[39;49;00m.\u001b[33m\"titleType\"\u001b[39;49;00m\u001b[37m \u001b[39;49;00m=\u001b[37m \u001b[39;49;00m\u001b[33m'movie'\u001b[39;49;00m\u001b[37m \u001b[39;49;00m\u001b[34mAND\u001b[39;49;00m\u001b[37m \u001b[39;49;00m\u001b[33m\"t0\"\u001b[39;49;00m.\u001b[33m\"isAdult\"\u001b[39;49;00m\u001b[37m \u001b[39;49;00m=\u001b[37m \u001b[39;49;00m\u001b[34mCAST\u001b[39;49;00m(\u001b[34m0\u001b[39;49;00m\u001b[37m \u001b[39;49;00m\u001b[34mAS\u001b[39;49;00m\u001b[37m \u001b[39;49;00mTINYINT)\u001b[37m\u001b[39;49;00m\n",
       "\u001b[37m  \u001b[39;49;00m)\u001b[37m \u001b[39;49;00m\u001b[34mAS\u001b[39;49;00m\u001b[37m \u001b[39;49;00m\u001b[33m\"t4\"\u001b[39;49;00m\u001b[37m\u001b[39;49;00m\n",
       "\u001b[37m  \u001b[39;49;00m\u001b[34mINNER\u001b[39;49;00m\u001b[37m \u001b[39;49;00m\u001b[34mJOIN\u001b[39;49;00m\u001b[37m \u001b[39;49;00m(\u001b[37m\u001b[39;49;00m\n",
       "\u001b[37m    \u001b[39;49;00m\u001b[34mSELECT\u001b[39;49;00m\u001b[37m\u001b[39;49;00m\n",
       "\u001b[37m      \u001b[39;49;00m\u001b[33m\"t1\"\u001b[39;49;00m.\u001b[33m\"tconst\"\u001b[39;49;00m,\u001b[37m\u001b[39;49;00m\n",
       "\u001b[37m      \u001b[39;49;00m\u001b[34mCAST\u001b[39;49;00m(\u001b[33m\"t1\"\u001b[39;49;00m.\u001b[33m\"averageRating\"\u001b[39;49;00m\u001b[37m \u001b[39;49;00m\u001b[34mAS\u001b[39;49;00m\u001b[37m \u001b[39;49;00mDOUBLE)\u001b[37m \u001b[39;49;00m\u001b[34mAS\u001b[39;49;00m\u001b[37m \u001b[39;49;00m\u001b[33m\"avg_rating\"\u001b[39;49;00m,\u001b[37m\u001b[39;49;00m\n",
       "\u001b[37m      \u001b[39;49;00m\u001b[34mCAST\u001b[39;49;00m(\u001b[33m\"t1\"\u001b[39;49;00m.\u001b[33m\"numVotes\"\u001b[39;49;00m\u001b[37m \u001b[39;49;00m\u001b[34mAS\u001b[39;49;00m\u001b[37m \u001b[39;49;00m\u001b[36mBIGINT\u001b[39;49;00m)\u001b[37m \u001b[39;49;00m\u001b[34mAS\u001b[39;49;00m\u001b[37m \u001b[39;49;00m\u001b[33m\"num_votes\"\u001b[39;49;00m\u001b[37m\u001b[39;49;00m\n",
       "\u001b[37m    \u001b[39;49;00m\u001b[34mFROM\u001b[39;49;00m\u001b[37m \u001b[39;49;00m\u001b[33m\"ratings\"\u001b[39;49;00m\u001b[37m \u001b[39;49;00m\u001b[34mAS\u001b[39;49;00m\u001b[37m \u001b[39;49;00m\u001b[33m\"t1\"\u001b[39;49;00m\u001b[37m\u001b[39;49;00m\n",
       "\u001b[37m  \u001b[39;49;00m)\u001b[37m \u001b[39;49;00m\u001b[34mAS\u001b[39;49;00m\u001b[37m \u001b[39;49;00m\u001b[33m\"t5\"\u001b[39;49;00m\u001b[37m\u001b[39;49;00m\n",
       "\u001b[37m    \u001b[39;49;00m\u001b[34mON\u001b[39;49;00m\u001b[37m \u001b[39;49;00m\u001b[33m\"t4\"\u001b[39;49;00m.\u001b[33m\"tconst\"\u001b[39;49;00m\u001b[37m \u001b[39;49;00m=\u001b[37m \u001b[39;49;00m\u001b[33m\"t5\"\u001b[39;49;00m.\u001b[33m\"tconst\"\u001b[39;49;00m\u001b[37m\u001b[39;49;00m\n",
       ")\u001b[37m \u001b[39;49;00m\u001b[34mAS\u001b[39;49;00m\u001b[37m \u001b[39;49;00m\u001b[33m\"t6\"\u001b[39;49;00m\u001b[37m\u001b[39;49;00m\n",
       "\u001b[34mWHERE\u001b[39;49;00m\u001b[37m\u001b[39;49;00m\n",
       "\u001b[37m  \u001b[39;49;00m\u001b[33m\"t6\"\u001b[39;49;00m.\u001b[33m\"num_votes\"\u001b[39;49;00m\u001b[37m \u001b[39;49;00m>\u001b[37m \u001b[39;49;00m\u001b[34mCAST\u001b[39;49;00m(\u001b[34m1000000\u001b[39;49;00m.\u001b[34m0\u001b[39;49;00m\u001b[37m \u001b[39;49;00m\u001b[34mAS\u001b[39;49;00m\u001b[37m \u001b[39;49;00mDOUBLE)\u001b[37m\u001b[39;49;00m\n",
       "\u001b[34mORDER\u001b[39;49;00m\u001b[37m \u001b[39;49;00m\u001b[34mBY\u001b[39;49;00m\u001b[37m\u001b[39;49;00m\n",
       "\u001b[37m  \u001b[39;49;00m\u001b[33m\"t6\"\u001b[39;49;00m.\u001b[33m\"avg_rating\"\u001b[39;49;00m\u001b[37m \u001b[39;49;00m\u001b[34mDESC\u001b[39;49;00m\u001b[37m\u001b[39;49;00m"
      ]
     },
     "execution_count": 41,
     "metadata": {},
     "output_type": "execute_result"
    }
   ],
   "source": [
    "ibis.to_sql(expr)"
   ]
  },
  {
   "cell_type": "code",
   "execution_count": 42,
   "id": "eb3f05ff-c1e8-4210-9afa-7d8cc61f6283",
   "metadata": {},
   "outputs": [],
   "source": [
    "expr2 = topfilms.select(_.primary_title, jaccard=jaccard(_.primary_title, \"The Gothfather\")).order_by(_.jaccard.desc())"
   ]
  },
  {
   "cell_type": "code",
   "execution_count": 43,
   "id": "5be29a13-e5d1-44dc-86b8-af1fac50d143",
   "metadata": {},
   "outputs": [
    {
     "data": {
      "text/html": [
       "<div>\n",
       "<style scoped>\n",
       "    .dataframe tbody tr th:only-of-type {\n",
       "        vertical-align: middle;\n",
       "    }\n",
       "\n",
       "    .dataframe tbody tr th {\n",
       "        vertical-align: top;\n",
       "    }\n",
       "\n",
       "    .dataframe thead th {\n",
       "        text-align: right;\n",
       "    }\n",
       "</style>\n",
       "<table border=\"1\" class=\"dataframe\">\n",
       "  <thead>\n",
       "    <tr style=\"text-align: right;\">\n",
       "      <th></th>\n",
       "      <th>primary_title</th>\n",
       "      <th>jaccard</th>\n",
       "    </tr>\n",
       "  </thead>\n",
       "  <tbody>\n",
       "    <tr>\n",
       "      <th>0</th>\n",
       "      <td>The Godfather</td>\n",
       "      <td>0.909091</td>\n",
       "    </tr>\n",
       "    <tr>\n",
       "      <th>1</th>\n",
       "      <td>The Godfather Part II</td>\n",
       "      <td>0.769231</td>\n",
       "    </tr>\n",
       "    <tr>\n",
       "      <th>2</th>\n",
       "      <td>The Wolf of Wall Street</td>\n",
       "      <td>0.692308</td>\n",
       "    </tr>\n",
       "    <tr>\n",
       "      <th>3</th>\n",
       "      <td>The Matrix</td>\n",
       "      <td>0.538462</td>\n",
       "    </tr>\n",
       "    <tr>\n",
       "      <th>4</th>\n",
       "      <td>The Departed</td>\n",
       "      <td>0.538462</td>\n",
       "    </tr>\n",
       "    <tr>\n",
       "      <th>5</th>\n",
       "      <td>V for Vendetta</td>\n",
       "      <td>0.538462</td>\n",
       "    </tr>\n",
       "    <tr>\n",
       "      <th>6</th>\n",
       "      <td>Guardians of the Galaxy</td>\n",
       "      <td>0.500000</td>\n",
       "    </tr>\n",
       "    <tr>\n",
       "      <th>7</th>\n",
       "      <td>Raiders of the Lost Ark</td>\n",
       "      <td>0.470588</td>\n",
       "    </tr>\n",
       "    <tr>\n",
       "      <th>8</th>\n",
       "      <td>Back to the Future</td>\n",
       "      <td>0.466667</td>\n",
       "    </tr>\n",
       "    <tr>\n",
       "      <th>9</th>\n",
       "      <td>The Truman Show</td>\n",
       "      <td>0.466667</td>\n",
       "    </tr>\n",
       "  </tbody>\n",
       "</table>\n",
       "</div>"
      ],
      "text/plain": [
       "             primary_title   jaccard\n",
       "0            The Godfather  0.909091\n",
       "1    The Godfather Part II  0.769231\n",
       "2  The Wolf of Wall Street  0.692308\n",
       "3               The Matrix  0.538462\n",
       "4             The Departed  0.538462\n",
       "5           V for Vendetta  0.538462\n",
       "6  Guardians of the Galaxy  0.500000\n",
       "7  Raiders of the Lost Ark  0.470588\n",
       "8       Back to the Future  0.466667\n",
       "9          The Truman Show  0.466667"
      ]
     },
     "execution_count": 43,
     "metadata": {},
     "output_type": "execute_result"
    }
   ],
   "source": [
    "expr2.execute(limit=10)"
   ]
  },
  {
   "cell_type": "markdown",
   "id": "68f2c1a0-7dd8-4043-a735-7caaea55a784",
   "metadata": {},
   "source": [
    "## Connect from other backends"
   ]
  },
  {
   "cell_type": "code",
   "execution_count": 44,
   "id": "a2793a48-b186-43ef-8bd5-252224feafc2",
   "metadata": {},
   "outputs": [],
   "source": [
    "#con2 = ibis.postgres.connect(port=5438, user=\"postgres\", password=\"postgres\") #probably need to change port"
   ]
  },
  {
   "cell_type": "code",
   "execution_count": 45,
   "id": "337f8f6f-6113-46e3-8057-e1539b2a1cdf",
   "metadata": {},
   "outputs": [],
   "source": [
    "#con2.execute(topfilms, limit=10)"
   ]
  },
  {
   "cell_type": "code",
   "execution_count": 46,
   "id": "e27796c1-70f4-49bf-b854-b02fb675d338",
   "metadata": {},
   "outputs": [],
   "source": [
    "#con3 = ibis.sqlite.connect(\"\") or mysql, not sure what we want to show"
   ]
  },
  {
   "cell_type": "code",
   "execution_count": 47,
   "id": "4579bd7e-772f-4eb1-a460-2007a2c0084a",
   "metadata": {},
   "outputs": [],
   "source": [
    "#con3.execute(topfilms, limit=10)"
   ]
  },
  {
   "cell_type": "code",
   "execution_count": null,
   "id": "0e358640-65ab-413d-b9eb-91dbf0c98261",
   "metadata": {},
   "outputs": [],
   "source": []
  }
 ],
 "metadata": {
  "kernelspec": {
   "display_name": "Python 3 (ipykernel)",
   "language": "python",
   "name": "python3"
  },
  "language_info": {
   "codemirror_mode": {
    "name": "ipython",
    "version": 3
   },
   "file_extension": ".py",
   "mimetype": "text/x-python",
   "name": "python",
   "nbconvert_exporter": "python",
   "pygments_lexer": "ipython3",
   "version": "3.11.6"
  }
 },
 "nbformat": 4,
 "nbformat_minor": 5
}
