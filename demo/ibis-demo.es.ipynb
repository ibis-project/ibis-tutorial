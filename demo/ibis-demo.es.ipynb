{
  "cells": [
    {
      "cell_type": "markdown",
      "metadata": {},
      "source": [
        "# Demo de Ibis"
      ]
    },
    {
      "cell_type": "code",
      "metadata": {},
      "source": [
        "!curl -OLsS 'https://storage.googleapis.com/ibis-tutorial-data/imdb/2024-03-22/imdb_title_ratings.parquet'\n",
        "!curl -OLsS 'https://storage.googleapis.com/ibis-tutorial-data/imdb/2024-03-22/imdb_title_basics.parquet'"
      ],
      "execution_count": null,
      "outputs": []
    },
    {
      "cell_type": "markdown",
      "metadata": {},
      "source": [
        "Primero, importar Ibis:"
      ]
    },
    {
      "cell_type": "code",
      "metadata": {},
      "source": [
        "import ibis\n",
        "from ibis import *"
      ],
      "execution_count": null,
      "outputs": []
    },
    {
      "cell_type": "markdown",
      "metadata": {},
      "source": [
        "## Conectar a DuckDB y crear tablas"
      ]
    },
    {
      "cell_type": "code",
      "metadata": {},
      "source": [
        "con = ibis.duckdb.connect()\n",
        "\n",
        "ratings = con.read_parquet(\"imdb_title_ratings.parquet\", table_name=\"imdb_title_ratings\")\n",
        "basics = con.read_parquet(\"imdb_title_basics.parquet\", table_name=\"imdb_title_basics\")"
      ],
      "execution_count": null,
      "outputs": []
    },
    {
      "cell_type": "markdown",
      "metadata": {},
      "source": [
        "Podemos listar los nombres de las tablas"
      ]
    },
    {
      "cell_type": "code",
      "metadata": {},
      "source": [
        "con.list_tables()"
      ],
      "execution_count": null,
      "outputs": []
    },
    {
      "cell_type": "markdown",
      "metadata": {},
      "source": [
        "Y renderizamos un versión abstracta de la expresión con los nombres de las columnas y sus tipos:"
      ]
    },
    {
      "cell_type": "code",
      "metadata": {},
      "source": [
        "ratings"
      ],
      "execution_count": null,
      "outputs": []
    },
    {
      "cell_type": "code",
      "metadata": {},
      "source": [
        "basics"
      ],
      "execution_count": null,
      "outputs": []
    },
    {
      "cell_type": "markdown",
      "metadata": {},
      "source": [
        "Ibis funciona con muchos formatos en memoria, incluyendo Pandas y PyArrow"
      ]
    },
    {
      "cell_type": "code",
      "metadata": {},
      "source": [
        "basics.to_pandas(limit=10)"
      ],
      "execution_count": null,
      "outputs": []
    },
    {
      "cell_type": "code",
      "metadata": {},
      "source": [
        "ratings.to_pyarrow(limit=10)"
      ],
      "execution_count": null,
      "outputs": []
    },
    {
      "cell_type": "markdown",
      "metadata": {},
      "source": [
        "Y Polars con el método `to_polars()`, si ustedes lo tienen instalado."
      ]
    },
    {
      "cell_type": "code",
      "metadata": {},
      "source": [
        "ratings.to_polars(limit=10)"
      ],
      "execution_count": null,
      "outputs": []
    },
    {
      "cell_type": "markdown",
      "metadata": {},
      "source": [
        "## Columnas con nombres adecuados, y modo interactivo.\n",
        "\n",
        "A veces, ustedes tienen columnas que tienen nombres sucios, y así que necesitan limpiarlos.\n",
        "\n",
        "Ibis puede ayudarte con eso."
      ]
    },
    {
      "cell_type": "code",
      "metadata": {},
      "source": [
        "ibis.options.interactive = True"
      ],
      "execution_count": null,
      "outputs": []
    },
    {
      "cell_type": "code",
      "metadata": {},
      "source": [
        "basics = basics.rename(\"snake_case\")"
      ],
      "execution_count": null,
      "outputs": []
    },
    {
      "cell_type": "code",
      "metadata": {},
      "source": [
        "ratings = ratings.rename(\"snake_case\")"
      ],
      "execution_count": null,
      "outputs": []
    },
    {
      "cell_type": "code",
      "metadata": {},
      "source": [
        "ratings"
      ],
      "execution_count": null,
      "outputs": []
    },
    {
      "cell_type": "code",
      "metadata": {},
      "source": [
        "basics"
      ],
      "execution_count": null,
      "outputs": []
    },
    {
      "cell_type": "markdown",
      "metadata": {},
      "source": [
        "## `ibis.to_sql()`\n",
        "\n",
        "Y cuando quiere ver el SQL, tenemos la función `to_sql`:"
      ]
    },
    {
      "cell_type": "code",
      "metadata": {},
      "source": [
        "expr = ratings.average_rating.round().cast(\"float64\").name(\"round\")\n",
        "ibis.to_sql(expr)"
      ],
      "execution_count": null,
      "outputs": []
    },
    {
      "cell_type": "markdown",
      "metadata": {},
      "source": [
        "Podemos usar"
      ]
    },
    {
      "cell_type": "code",
      "metadata": {},
      "source": [
        "ibis.to_sql(expr, dialect=\"postgres\")"
      ],
      "execution_count": null,
      "outputs": []
    },
    {
      "cell_type": "code",
      "metadata": {},
      "source": [
        "ibis.options.interactive = False"
      ],
      "execution_count": null,
      "outputs": []
    },
    {
      "cell_type": "markdown",
      "metadata": {},
      "source": [
        "## `con.sql()`\n",
        "\n",
        "Luego, tenemos el método `.sql()` y este método es para escribir SQL crudo:\n",
        "\n",
        "A veces, usted necesita escribir SQL."
      ]
    },
    {
      "cell_type": "code",
      "metadata": {},
      "source": [
        "con.sql(\"\"\"\n",
        "    SELECT\n",
        "    \"tconst\",\n",
        "    CAST(\"averageRating\" AS VARCHAR) AS \"average_rating\",\n",
        "    CAST(\"numVotes\" AS VARCHAR) AS \"num_votes\"\n",
        "    FROM \"imdb_title_ratings\"\n",
        "\"\"\")"
      ],
      "execution_count": null,
      "outputs": []
    },
    {
      "cell_type": "code",
      "metadata": {},
      "source": [
        "con.sql(\"\"\"\n",
        "    SELECT\n",
        "    \"tconst\",\n",
        "    CAST(\"averageRating\" AS VARCHAR) AS \"average_rating\",\n",
        "    CAST(\"numVotes\" AS VARCHAR) AS \"num_votes\"\n",
        "    FROM \"imdb_title_ratings\"\n",
        "\"\"\").to_pandas()"
      ],
      "execution_count": null,
      "outputs": []
    },
    {
      "cell_type": "code",
      "metadata": {},
      "source": [
        "ibis.options.interactive = True"
      ],
      "execution_count": null,
      "outputs": []
    },
    {
      "cell_type": "code",
      "metadata": {},
      "source": [
        "con.sql(\"\"\"\n",
        "    SELECT\n",
        "    \"tconst\",\n",
        "    CAST(\"averageRating\" AS VARCHAR) AS \"average_rating\",\n",
        "    CAST(\"numVotes\" AS VARCHAR) AS \"num_votes\"\n",
        "    FROM \"imdb_title_ratings\"\n",
        "\"\"\")"
      ],
      "execution_count": null,
      "outputs": []
    },
    {
      "cell_type": "markdown",
      "metadata": {},
      "source": [
        "## Otras operaciones"
      ]
    },
    {
      "cell_type": "code",
      "metadata": {},
      "source": [
        "basics.columns"
      ],
      "execution_count": null,
      "outputs": []
    },
    {
      "cell_type": "markdown",
      "metadata": {},
      "source": [
        "Para \"GROUP BY\" con `count()` tenemos el método `value_counts()`"
      ]
    },
    {
      "cell_type": "code",
      "metadata": {},
      "source": [
        "basics.title_type.value_counts()"
      ],
      "execution_count": null,
      "outputs": []
    },
    {
      "cell_type": "markdown",
      "metadata": {},
      "source": [
        "Para nuestro análisis final, vamos a limipiar unas cosas.\n",
        "\n",
        "Vamos a seleccionar solo títulos con el tipo \"movie\" (película) y desechar las películas adultas.\n",
        "\n",
        "Hacemos esto con una lista de predicados:"
      ]
    },
    {
      "cell_type": "code",
      "metadata": {},
      "source": [
        "basics = (\n",
        "    basics\n",
        "    .filter([basics.title_type == \"movie\", basics.is_adult == 0])\n",
        "    .select(\"tconst\", \"primary_title\")\n",
        ")"
      ],
      "execution_count": null,
      "outputs": []
    },
    {
      "cell_type": "code",
      "metadata": {},
      "source": [
        "basics"
      ],
      "execution_count": null,
      "outputs": []
    },
    {
      "cell_type": "markdown",
      "metadata": {},
      "source": [
        "Ahora, unimos la tabla `basics` y la tabla `ratings` usando la columna `tconst`, y ejecutamos."
      ]
    },
    {
      "cell_type": "code",
      "metadata": {},
      "source": [
        "basics.join(ratings, \"tconst\").to_pandas(limit=10)"
      ],
      "execution_count": null,
      "outputs": []
    },
    {
      "cell_type": "markdown",
      "metadata": {},
      "source": [
        "Ordenamos por `average_rating`"
      ]
    },
    {
      "cell_type": "code",
      "metadata": {},
      "source": [
        "basics.join(ratings, \"tconst\").order_by(_.average_rating.desc())"
      ],
      "execution_count": null,
      "outputs": []
    },
    {
      "cell_type": "markdown",
      "metadata": {},
      "source": [
        "Y filtramos los títulos con votos más que un millón."
      ]
    },
    {
      "cell_type": "code",
      "metadata": {},
      "source": [
        "(\n",
        "    basics.join(ratings, \"tconst\")\n",
        "    .order_by(_.average_rating.desc())\n",
        "    .filter(_.num_votes > 1e6)\n",
        ")"
      ],
      "execution_count": null,
      "outputs": []
    },
    {
      "cell_type": "markdown",
      "metadata": {},
      "source": [
        "## Unión de tablas (`join`)\n",
        "\n",
        "Finalmente, mostramos la expresión entera para computar las diez mejores películas."
      ]
    },
    {
      "cell_type": "code",
      "metadata": {},
      "source": [
        "topfilms = (\n",
        "    basics.join(ratings, \"tconst\")\n",
        "    .order_by(_.average_rating.desc())\n",
        "    .filter(_.num_votes > 1e6)\n",
        ")"
      ],
      "execution_count": null,
      "outputs": []
    },
    {
      "cell_type": "code",
      "metadata": {},
      "source": [
        "ibis.options.interactive = False"
      ],
      "execution_count": null,
      "outputs": []
    },
    {
      "cell_type": "code",
      "metadata": {},
      "source": [
        "topfilms"
      ],
      "execution_count": null,
      "outputs": []
    },
    {
      "cell_type": "code",
      "metadata": {},
      "source": [
        "topfilms.to_pandas(limit=10)"
      ],
      "execution_count": null,
      "outputs": []
    },
    {
      "cell_type": "markdown",
      "metadata": {},
      "source": [
        "## ¡Ejecutamos la misma expresión en Postgres!\n",
        "\n",
        "### Conectar a Postgres con Ibis"
      ]
    },
    {
      "cell_type": "code",
      "metadata": {},
      "source": [
        "pgcon = ibis.postgres.connect()\n",
        "pgcon.list_tables()"
      ],
      "execution_count": null,
      "outputs": []
    },
    {
      "cell_type": "markdown",
      "metadata": {},
      "source": [
        "### Poner los datos adentro de Postgres"
      ]
    },
    {
      "cell_type": "code",
      "metadata": {},
      "source": [
        "!psql < create_imdb.sql\n",
        "!duckdb < load_imdb.sql"
      ],
      "execution_count": null,
      "outputs": []
    },
    {
      "cell_type": "markdown",
      "metadata": {},
      "source": [
        "### Ahora, chequear que las tablas existan"
      ]
    },
    {
      "cell_type": "code",
      "metadata": {},
      "source": [
        "pgcon.list_tables()"
      ],
      "execution_count": null,
      "outputs": []
    },
    {
      "cell_type": "markdown",
      "metadata": {},
      "source": [
        "Ejecutamos la misma expresión en Postgres:"
      ]
    },
    {
      "cell_type": "code",
      "metadata": {},
      "source": [
        "pgcon.to_pandas(topfilms)"
      ],
      "execution_count": null,
      "outputs": []
    },
    {
      "cell_type": "markdown",
      "metadata": {},
      "source": [
        "¡Ya está, y eso es Ibis!\n",
        "\n",
        "Ibis tiene muchos backends como Snowflake, DuckDB (lo que está aquí), y más."
      ]
    }
  ],
  "metadata": {
    "kernelspec": {
      "name": "python3",
      "language": "python",
      "display_name": "Python 3 (ipykernel)"
    }
  },
  "nbformat": 4,
  "nbformat_minor": 4
}