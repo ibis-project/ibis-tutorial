{
  "cells": [
    {
      "cell_type": "markdown",
      "metadata": {},
      "source": [
        "# Ibis and the Python Ecosystem\n",
        "\n",
        "Ibis strives to be a friendly component of the larger Python data science\n",
        "ecosystem. In this notebook we'll walk through a few ways of using Ibis to\n",
        "interact with other tools you may already be using.\n",
        "\n",
        "## Loading In-Memory Data\n",
        "\n",
        "Ibis doesn't only work with existing databases, it can also work with in-memory\n",
        "data too.\n",
        "\n",
        "To load in-memory data into `ibis` you can use `ibis.memtable`. This takes in\n",
        "either an existing dataframe-like object (currently `pandas`, `polars`, and\n",
        "`pyarrow` are supported), or a dict of column-name -> data to use."
      ]
    },
    {
      "cell_type": "code",
      "metadata": {},
      "source": [
        "import ibis\n",
        "\n",
        "ibis.options.interactive = True"
      ],
      "execution_count": null,
      "outputs": []
    },
    {
      "cell_type": "code",
      "metadata": {},
      "source": [
        "# Create a table from a pandas.DataFrame\n",
        "import pandas as pd\n",
        "\n",
        "items = ibis.memtable(\n",
        "    pd.DataFrame(\n",
        "        {\n",
        "            \"item\": [\"apple\", \"banana\", \"orange\"],\n",
        "            \"price\": [0.75, 0.23, 0.92],\n",
        "            \"avg_weight\": [0.120, 0.118, 0.150],\n",
        "        }\n",
        "    )\n",
        ")\n",
        "\n",
        "items"
      ],
      "execution_count": null,
      "outputs": []
    },
    {
      "cell_type": "code",
      "metadata": {},
      "source": [
        "# Create a table from a pyarrow.Table\n",
        "import pyarrow as pa\n",
        "\n",
        "inventory = ibis.memtable(\n",
        "    pa.table(\n",
        "        {\n",
        "            \"item\": [\"apple\", \"banana\", \"orange\"],\n",
        "            \"count\": [212, 125, 90],\n",
        "        }\n",
        "    )\n",
        ")\n",
        "\n",
        "inventory"
      ],
      "execution_count": null,
      "outputs": []
    },
    {
      "cell_type": "code",
      "metadata": {},
      "source": [
        "# Create a table from a polars.DataFrame\n",
        "import polars as pl\n",
        "\n",
        "orders = ibis.memtable(\n",
        "    pl.DataFrame(\n",
        "        {\n",
        "            \"id\": [1234, 1234, 1235, 1235, 1236],\n",
        "            \"item\": [\"apple\", \"orange\", \"banana\", \"orange\", \"banana\"],\n",
        "            \"count\": [5, 3, 4, 10, 6],\n",
        "        }\n",
        "    )\n",
        ")\n",
        "\n",
        "orders"
      ],
      "execution_count": null,
      "outputs": []
    },
    {
      "cell_type": "markdown",
      "metadata": {},
      "source": [
        "These tables can then be queried the same as any other ibis table."
      ]
    },
    {
      "cell_type": "code",
      "metadata": {},
      "source": [
        "# Find the most expensive item\n",
        "items.order_by(ibis.desc(\"price\")).limit(1)"
      ],
      "execution_count": null,
      "outputs": []
    },
    {
      "cell_type": "code",
      "metadata": {},
      "source": [
        "# Find the product with the most items in stock\n",
        "inventory.order_by(ibis.desc(\"count\")).limit(1)"
      ],
      "execution_count": null,
      "outputs": []
    },
    {
      "cell_type": "code",
      "metadata": {},
      "source": [
        "# Find the most expensive item per kg\n",
        "items.mutate(price_per_kg=items.price / items.avg_weight).order_by(ibis.desc(\"price_per_kg\")).limit(1)"
      ],
      "execution_count": null,
      "outputs": []
    },
    {
      "cell_type": "markdown",
      "metadata": {},
      "source": [
        "You can even compose queries that make use of tables of different input types.\n",
        "Here we compose a query that joins a `pandas.DataFrame` with a\n",
        "`polars.DataFrame` (more on joins in a later notebook)."
      ]
    },
    {
      "cell_type": "code",
      "metadata": {},
      "source": [
        "# Compute the total cost of each order\n",
        "order_totals = (\n",
        "    orders.join(items, \"item\")                             # 1. Join orders with items by item name\n",
        "    .group_by(\"id\")                                        # 2. Group By the order id\n",
        "    .agg(total=lambda t: (t[\"price\"] * t[\"count\"]).sum())  # 3. Compute the total cost as sum(price * count) per order\n",
        ")\n",
        "\n",
        "order_totals"
      ],
      "execution_count": null,
      "outputs": []
    },
    {
      "cell_type": "markdown",
      "metadata": {},
      "source": [
        "## Aside: Ibis's magical `_` (\"Deferred\") API\n",
        "\n",
        "Ibis's API is optimized to be able to construct complex queries through method\n",
        "chaining. For example, in the above query we chain a `join`, `group_by` and\n",
        "`agg` call together.\n",
        "\n",
        "Looking closely though, you can see that when constructing the `total`\n",
        "aggregate in the `agg` call we've passed in a `lambda` function. In this case,\n",
        "that `lambda` takes the `ibis.Table` object output by the prior `group_by` call\n",
        "and returns an aggregate value constructed from columns in that table. The\n",
        "`lambda` lets us reference the current table in the chain directly, avoiding\n",
        "the need to create an intermediate python variable.\n",
        "\n",
        "Another way of spelling this (one some might consider nicer syntax) is through\n",
        "the usage of ibis's `_` API. This is a \"magical\" object that constructs \"deferred\n",
        "expressions\". Everywhere you see `_` in the expression you should read \"the\n",
        "current table (`self`) in the method being called\".\n",
        "\n",
        "For example, all of these calls do the same thing:"
      ]
    },
    {
      "cell_type": "code",
      "metadata": {},
      "source": [
        "from ibis import _"
      ],
      "execution_count": null,
      "outputs": []
    },
    {
      "cell_type": "code",
      "metadata": {},
      "source": [
        "# Explicitly referencing `items.price` and `items.avg_weight`\n",
        "t1 = items.mutate(price_per_kg=items.price / items.avg_weight)\n",
        "\n",
        "t1"
      ],
      "execution_count": null,
      "outputs": []
    },
    {
      "cell_type": "code",
      "metadata": {},
      "source": [
        "# Using a lambda function\n",
        "t2 = items.mutate(price_per_kg=lambda t: t.price / t.avg_weight)\n",
        "\n",
        "t2"
      ],
      "execution_count": null,
      "outputs": []
    },
    {
      "cell_type": "code",
      "metadata": {},
      "source": [
        "# Using deferred expressions (the `_` object)\n",
        "t3 = items.mutate(price_per_kg=_.price / _.avg_weight)\n",
        "\n",
        "t3"
      ],
      "execution_count": null,
      "outputs": []
    },
    {
      "cell_type": "markdown",
      "metadata": {},
      "source": [
        "We can even check that they're the same by asserting that the expressions\n",
        "backing each `ibis.Table` are identical (remember, `ibis` uses a lazy\n",
        "expression API behind the scenes):"
      ]
    },
    {
      "cell_type": "code",
      "metadata": {},
      "source": [
        "assert t1.equals(t2)  # assert the expressions backing t1 and t2 are equivalent\n",
        "assert t2.equals(t3)  # assert the expressions backing t2 and t3 are equivalent"
      ],
      "execution_count": null,
      "outputs": []
    },
    {
      "cell_type": "markdown",
      "metadata": {},
      "source": [
        "### Exercise 1: Using Deferred Expressions\n",
        "\n",
        "Putting this all together, we can now rewrite the `join -> group_by -> agg`\n",
        "operation from above using a deferred expression.\n",
        "\n",
        "Your job is to rewrite `order_totals` (duplicated below) using a deferred\n",
        "expression instead of a `lambda` function:"
      ]
    },
    {
      "cell_type": "code",
      "metadata": {},
      "source": [
        "# Compute the total cost of each order\n",
        "order_totals = (\n",
        "    orders.join(items, \"item\")\n",
        "    .group_by(\"id\")\n",
        "    .agg(total=lambda t: (t[\"price\"] * t[\"count\"]).sum())  # <- use `_` here instead of a `lambda` function\n",
        ")\n",
        "\n",
        "order_totals"
      ],
      "execution_count": null,
      "outputs": []
    },
    {
      "cell_type": "markdown",
      "metadata": {},
      "source": [
        "Note that you don't have to use deferred expressions if you don't want to!\n",
        "Queries using deferred expressions may always be expressed without them (using\n",
        "either a `lambda` function, or an intermediate python variable) - they're there\n",
        "as friendly \"syntactic sugar\" to ease writing complex queries when you need\n",
        "them.\n",
        "\n",
        "#### Solution"
      ]
    },
    {
      "cell_type": "code",
      "metadata": {},
      "source": [
        "%load solutions/nb02_ex01.py"
      ],
      "execution_count": null,
      "outputs": []
    },
    {
      "cell_type": "markdown",
      "metadata": {},
      "source": [
        "## Mixing memtables with database tables\n",
        "\n",
        "When querying a `memtable`, `ibis` will use the current default backend\n",
        "(`duckdb` by default), _unless_ the query also makes use of a table attached to\n",
        "some other database. This means that memtables may be used as efficient lookup\n",
        "tables when composing queries against external systems.\n",
        "\n",
        "Here we load the same `penguins` dataset as in notebook 1:"
      ]
    },
    {
      "cell_type": "code",
      "metadata": {},
      "source": [
        "con = ibis.duckdb.connect(\"palmer_penguins.ddb\", read_only=True)\n",
        "penguins = con.table(\"penguins\")\n",
        "\n",
        "penguins"
      ],
      "execution_count": null,
      "outputs": []
    },
    {
      "cell_type": "code",
      "metadata": {},
      "source": [
        "coordinates = ibis.memtable(\n",
        "    {\n",
        "        \"island\": [\"Biscoe\", \"Dream\", \"Torgersen\"],\n",
        "        \"latitude\": [-65.433333, -64.733333, -64.766667],\n",
        "        \"longitude\": [-65.5, -64.233333, -64.083333],\n",
        "    }\n",
        ")\n",
        "\n",
        "coordinates"
      ],
      "execution_count": null,
      "outputs": []
    },
    {
      "cell_type": "code",
      "metadata": {},
      "source": [
        "penguins.join(coordinates, \"island\")"
      ],
      "execution_count": null,
      "outputs": []
    },
    {
      "cell_type": "markdown",
      "metadata": {},
      "source": [
        "### Exercise 2: Add a Column for Scientific Name\n",
        "\n",
        "Like all species, the penguins here have scientific names. These are available\n",
        "in the `penguin_species.jsonl` file in the tutorial repo."
      ]
    },
    {
      "cell_type": "code",
      "metadata": {},
      "source": [
        "!cat penguin_species.jsonl"
      ],
      "execution_count": null,
      "outputs": []
    },
    {
      "cell_type": "markdown",
      "metadata": {},
      "source": [
        "Ibis currently doesn't have a `read_json` method. No worries though, since this\n",
        "dataset is small we can read the data using a different tool and pass it to\n",
        "`ibis` as a memtable.\n",
        "\n",
        "Your job is to:\n",
        "- Read in the `penguin_species.jsonl` file. You might find the\n",
        "  `pandas.read_json` function useful (note you'll need to pass in `lines=True`)\n",
        "- Coerce it to a `memtable`.\n",
        "- Join the original `penguins` table with the new `species` memtable to label\n",
        "  every row with its proper scientific name.\n",
        "\n",
        "#### Solution"
      ]
    },
    {
      "cell_type": "code",
      "metadata": {},
      "source": [
        "%load solutions/nb02_ex02.py"
      ],
      "execution_count": null,
      "outputs": []
    },
    {
      "cell_type": "markdown",
      "metadata": {},
      "source": [
        "## Exporting In-memory Data\n",
        "\n",
        "Similar to how `ibis` can consume multiple in-memory data formats, we also can\n",
        "return queries in multiple input formats using one of the various `to_*`\n",
        "methods:\n",
        "\n",
        "- `query.to_pandas()`: returns results as a `pandas.DataFrame`\n",
        "- `query.to_polars()`: returns results as a `polars.DataFrame`\n",
        "- `query.to_pyarrow()`: returns results as a `pyarrow.Table`\n",
        "- `query.to_pyarrow_batches()`: returns results as a `pyarrow.RecordBatchReader`\n",
        "- `query.to_torch()`: returns results as a `dict` of `torch.Tensor`s\n",
        "\n",
        "Supporting multiple output formats lets you efficiently compose ibis with\n",
        "existing systems. Have some downstream code that expects a `pandas.DataFrame`?\n",
        "Use ibis to do some initial processing then hand off the result to your\n",
        "existing code. Our wide support for popular Python data tools means `ibis` can\n",
        "often fit nicely in to existing workflows without forcing all code be ported to\n",
        "use `ibis`."
      ]
    },
    {
      "cell_type": "code",
      "metadata": {},
      "source": [
        "mean_mass = penguins.group_by(\"species\").body_mass_g.mean()\n",
        "mean_mass"
      ],
      "execution_count": null,
      "outputs": []
    },
    {
      "cell_type": "code",
      "metadata": {},
      "source": [
        "# Get results as a pandas DataFrame\n",
        "df = mean_mass.to_pandas()\n",
        "\n",
        "print(type(df))\n",
        "\n",
        "df"
      ],
      "execution_count": null,
      "outputs": []
    },
    {
      "cell_type": "code",
      "metadata": {},
      "source": [
        "# Get results as a polars DataFrame\n",
        "mean_mass.to_polars()"
      ],
      "execution_count": null,
      "outputs": []
    },
    {
      "cell_type": "code",
      "metadata": {},
      "source": [
        "# Get results as a pyarrow Table\n",
        "mean_mass.to_pyarrow()"
      ],
      "execution_count": null,
      "outputs": []
    },
    {
      "cell_type": "markdown",
      "metadata": {},
      "source": [
        "## Integrating Ibis with Downstream Tools\n",
        "\n",
        "Some downstream tools may be able to accept `ibis.Table` objects directly as\n",
        "inputs without requiring you to manually call one of the `.to_*` methods to\n",
        "convert a query to an in-memory format.\n",
        "\n",
        "Depending on the library, this may work through a few mechanisms:\n",
        "\n",
        "- Using the `__array__` protocol. Libraries expecting `numpy` arrays often also\n",
        "  accept objects implementing this method.\n",
        "- Using the `__dataframe__` protocol. This is a newer protocol, but is accepted\n",
        "  by some libraries (a popular one is the plotting library `altair`)\n",
        "- Using the `__arrow_c_stream__` protocol. This is also a new protocol for\n",
        "  tooling passing around arrow tables."
      ]
    },
    {
      "cell_type": "markdown",
      "metadata": {},
      "source": [
        "---\n",
        "\n",
        "For example, here we demonstrate passing an `ibis.Table` to the `altair` plotting\n",
        "library. Notice that you don't have to manually call any of the `to_*` methods\n",
        "yourself! This is because `altair` supports anything that implements the `__dataframe__`\n",
        "protocol as input, which means it can accept an `ibis.Table` directly."
      ]
    },
    {
      "cell_type": "code",
      "metadata": {},
      "source": [
        "import altair as alt"
      ],
      "execution_count": null,
      "outputs": []
    },
    {
      "cell_type": "code",
      "metadata": {},
      "source": [
        "# Make a scatterplot of bill length x bill depth for each penguin species\n",
        "chart = (\n",
        "    alt.Chart(penguins)  # <- here we pass in an `ibis.Table` directly\n",
        "        .mark_circle(size=60)\n",
        "        .encode(\n",
        "            x=alt.X('bill_length_mm', scale=alt.Scale(zero=False)),\n",
        "            y=alt.Y('bill_depth_mm', scale=alt.Scale(zero=False)),\n",
        "            color=alt.Color('species'),\n",
        "            tooltip=['species', 'sex', 'island']\n",
        "        )\n",
        ")\n",
        "\n",
        "chart"
      ],
      "execution_count": null,
      "outputs": []
    }
  ],
  "metadata": {
    "kernelspec": {
      "name": "python3",
      "language": "python",
      "display_name": "Python 3 (ipykernel)"
    }
  },
  "nbformat": 4,
  "nbformat_minor": 4
}