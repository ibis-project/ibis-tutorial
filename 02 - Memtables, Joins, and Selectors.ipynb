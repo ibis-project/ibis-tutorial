{
 "cells": [
  {
   "attachments": {},
   "cell_type": "markdown",
   "id": "0d76b90f-8ab4-445e-a1a8-f2f297ad6deb",
   "metadata": {},
   "source": [
    "# Memtables, Joins and, Selectors, oh my!"
   ]
  },
  {
   "cell_type": "markdown",
   "id": "774f8b15-bd5f-42ba-b513-5d9c3deede9f",
   "metadata": {},
   "source": [
    "## Memtables\n",
    "\n",
    "`ibis.memtable` is a convenient way to take data you already have in-memory and use it within one of the Ibis backends.\n",
    "\n",
    "**Note**: for very large tables, there are performance implications depending on the backend you use."
   ]
  },
  {
   "cell_type": "code",
   "execution_count": null,
   "id": "481d1d17-aa78-4863-96ef-6c47decb1772",
   "metadata": {},
   "outputs": [],
   "source": [
    "import ibis\n",
    "import pandas as pd\n",
    "import pyarrow as pa"
   ]
  },
  {
   "cell_type": "code",
   "execution_count": null,
   "id": "6cdc6f37-bda1-441d-9731-31d38b4d9ead",
   "metadata": {},
   "outputs": [],
   "source": [
    "ibis.options.interactive = True"
   ]
  },
  {
   "cell_type": "code",
   "execution_count": null,
   "id": "5f847831-26a9-48e5-86f8-53cd492b5783",
   "metadata": {},
   "outputs": [],
   "source": [
    "plain_dict = {\n",
    "    \"name\": [\"Gil\", \"Phillip\", \"Jim\", \"Krisztián\", \"Wes\"],\n",
    "    \"committed\": [176, 2680, 158, 288, 387],\n",
    "    \"aliases\": [\n",
    "        \"Schemata Eldritch\",\n",
    "        \"Chuckles\",\n",
    "        \"Minnesota Fats\",\n",
    "        \"Szűcs\",\n",
    "        \"Goldeneye\",\n",
    "    ],\n",
    "}\n",
    "pat = pa.Table.from_pydict(\n",
    "    {\n",
    "        \"name\": [\"Gil\", \"Phillip\", \"Jim\", \"Krisztián\", \"Wes\"],\n",
    "        \"pickleCount\": [9.22, 5.123, 6.242, 22.47, None],\n",
    "    },\n",
    ")\n",
    "\n",
    "df = pd.DataFrame(\n",
    "    {\n",
    "        \"name\": [\"Gil\", \"Phillip\", \"Jim\", \"Krisztián\", \"Wes\"],\n",
    "        \"committed\": [True, True, True, True, True],\n",
    "        \"first_commit\": [\n",
    "            \"b0f4f44a1\",\n",
    "            \"2cd935599\",\n",
    "            \"67037d099\",\n",
    "            \"3324d1f2d\",\n",
    "            \"84d043583\",\n",
    "        ],\n",
    "    }\n",
    ")"
   ]
  },
  {
   "cell_type": "markdown",
   "id": "4792072c-00ba-44d6-b73a-313feb90ba7e",
   "metadata": {},
   "source": [
    "You can construct a memtable from a dictionary, a Pandas DataFrame, or a PyArrow Table"
   ]
  },
  {
   "cell_type": "code",
   "execution_count": null,
   "id": "5fa147d6-462a-4757-9eb6-e6d4fa3881c1",
   "metadata": {},
   "outputs": [],
   "source": [
    "t1 = ibis.memtable(plain_dict)\n",
    "t2 = ibis.memtable(pat)\n",
    "t3 = ibis.memtable(df)"
   ]
  },
  {
   "cell_type": "code",
   "execution_count": null,
   "id": "ae53a98a-91d5-407c-97e3-0392d2af8ac3",
   "metadata": {},
   "outputs": [],
   "source": [
    "t1"
   ]
  },
  {
   "cell_type": "code",
   "execution_count": null,
   "id": "931ee771-a528-4adf-9889-dcf70b109c95",
   "metadata": {},
   "outputs": [],
   "source": [
    "print(pat.schema)\n",
    "t2"
   ]
  },
  {
   "cell_type": "code",
   "execution_count": null,
   "id": "38ee28f5-78e8-4cb7-9955-06c1cfced954",
   "metadata": {},
   "outputs": [],
   "source": [
    "print(df.dtypes)\n",
    "t3"
   ]
  },
  {
   "cell_type": "markdown",
   "id": "692bb93d-0e8d-404c-8741-9f6290780d40",
   "metadata": {},
   "source": [
    "If a `memtable` is created from a plain dictionary (or if a `pandas.Series` is of `object` dtype), `ibis` will infer the dtype. Well-typed columns will have their datatypes preserved (modulo some possible small name differences, e.g. `uint` vs. `uinteger`)"
   ]
  },
  {
   "cell_type": "code",
   "execution_count": null,
   "id": "5cea6364-8265-498f-80f4-bc7bb061e04f",
   "metadata": {},
   "outputs": [],
   "source": [
    "t2 = ibis.memtable(pat)"
   ]
  },
  {
   "cell_type": "code",
   "execution_count": null,
   "id": "e00a3743-131b-4a47-bafd-5c4f0371bbca",
   "metadata": {},
   "outputs": [],
   "source": [
    "t2"
   ]
  },
  {
   "cell_type": "markdown",
   "id": "e20abd0c-a9dc-4f15-b6dc-a04778966ecf",
   "metadata": {},
   "source": [
    "## Joins\n",
    "\n",
    "Many interesting datasets (and also boring ones!) are stored in separate tables.  To perform analysis on these data, we have to join the separate tables togther.\n",
    "\n",
    "Let's start with some Ibis maintainer data:"
   ]
  },
  {
   "cell_type": "code",
   "execution_count": null,
   "id": "c639b277-eeff-4207-a326-4946eb9b5187",
   "metadata": {},
   "outputs": [],
   "source": [
    "t1.join(t2, \"name\")"
   ]
  },
  {
   "cell_type": "markdown",
   "id": "6038a422-444a-4ac4-bbba-388ba3d75bf3",
   "metadata": {},
   "source": [
    "By default, we perform an inner join.  If the join column has the same name in both tables, you can pass in the column name as a string.\n",
    "\n",
    "If they are different, or you care to specify it, you can also provide the columns more explicitly:"
   ]
  },
  {
   "cell_type": "code",
   "execution_count": null,
   "id": "107a193c-5256-417b-8a67-92238c324801",
   "metadata": {},
   "outputs": [],
   "source": [
    "t1.join(t2, t1.name == t2.name)"
   ]
  },
  {
   "cell_type": "markdown",
   "id": "dd8587e5-ecf5-4641-805f-b2ecef764657",
   "metadata": {},
   "source": [
    "### Name collisions"
   ]
  },
  {
   "cell_type": "markdown",
   "id": "7b2c7bc2-b71c-4e9d-8796-b4632a140e3e",
   "metadata": {},
   "source": [
    "If the tables share more than just the join column in common, Ibis will rename columns as needed:"
   ]
  },
  {
   "cell_type": "code",
   "execution_count": null,
   "id": "751fda60-32e0-4c48-aa4c-f5af80416662",
   "metadata": {},
   "outputs": [],
   "source": [
    "t1.join(t3, \"name\")"
   ]
  },
  {
   "cell_type": "markdown",
   "id": "f0c89eed-7b16-42f6-a387-5495e8f8a931",
   "metadata": {},
   "source": [
    "But you can also specify different naming schemes:"
   ]
  },
  {
   "cell_type": "code",
   "execution_count": null,
   "id": "aff54a52-9e75-48b9-b4b7-6e446d258e2c",
   "metadata": {},
   "outputs": [],
   "source": [
    "t1.join(t3, \"name\", lname=\"{name}_left\")"
   ]
  },
  {
   "cell_type": "code",
   "execution_count": null,
   "id": "afff4004-d40d-4282-be25-6bd42b0ade60",
   "metadata": {},
   "outputs": [],
   "source": [
    "t1.join(t3, \"name\", rname=\"right_{name}\")"
   ]
  },
  {
   "cell_type": "markdown",
   "id": "516ff81d-c335-4144-b277-6e157d3016f7",
   "metadata": {},
   "source": [
    "### Other Joins"
   ]
  },
  {
   "cell_type": "markdown",
   "id": "1034dab3-815e-4e3e-8cdf-f9a3ed18448f",
   "metadata": {},
   "source": [
    "The default join in Ibis is an inner-join, but you can specify several other types of join using the `how` keyword:"
   ]
  },
  {
   "cell_type": "code",
   "execution_count": null,
   "id": "f867c53f-c4e6-46fd-a04d-0a99239d9078",
   "metadata": {},
   "outputs": [],
   "source": [
    "t1.join(t3, t1.name == t3.first_commit, how=\"outer\")"
   ]
  },
  {
   "cell_type": "markdown",
   "id": "98b6049e-f9c5-4d6b-9679-99250aca3ef5",
   "metadata": {},
   "source": [
    "There are also join-specific methods for each type of join:"
   ]
  },
  {
   "cell_type": "code",
   "execution_count": null,
   "id": "9e220a2c-70c7-464e-b6ee-c30306fe9b5d",
   "metadata": {},
   "outputs": [],
   "source": [
    "t1.outer_join(t3, t1.name == t3.first_commit)"
   ]
  },
  {
   "cell_type": "markdown",
   "id": "3f5d4a67-db63-447b-9b7f-52955f905806",
   "metadata": {},
   "source": [
    "### Chaining Joins"
   ]
  },
  {
   "cell_type": "markdown",
   "id": "b742cb44-49c3-4aab-9c7e-a03050942ed2",
   "metadata": {},
   "source": [
    "You can also chain multiple joins, for instance:"
   ]
  },
  {
   "cell_type": "code",
   "execution_count": null,
   "id": "508e303a-c2a6-492b-a9e0-f0e37e37d7d8",
   "metadata": {},
   "outputs": [],
   "source": [
    "t1.join(t2, \"name\").join(t3, \"name\")"
   ]
  },
  {
   "cell_type": "markdown",
   "id": "7dee0dc4-52ed-47ae-b0cd-18410538e88b",
   "metadata": {},
   "source": [
    "## Deferred operator"
   ]
  },
  {
   "cell_type": "markdown",
   "id": "d68f72ee-27af-40cc-8a3a-03834183d530",
   "metadata": {},
   "source": [
    "Let's consider again the output of one of the joins above:"
   ]
  },
  {
   "cell_type": "code",
   "execution_count": null,
   "id": "27f71c29-529f-48db-9057-18edabe6a1b1",
   "metadata": {},
   "outputs": [],
   "source": [
    "t1.join(t3, \"name\")"
   ]
  },
  {
   "cell_type": "markdown",
   "id": "860b9f2d-0bb4-4780-8363-95db79ca24ec",
   "metadata": {},
   "source": [
    "Let's say we want to filter on the contents of the `committed_right` column (admittedly, a bit silly, since it is all `True`) -- how do we refer to that column?"
   ]
  },
  {
   "cell_type": "markdown",
   "id": "330d9f1f-03fc-4df6-899c-f5d4c85ad882",
   "metadata": {},
   "source": [
    "We've so far used the `table_variable.column_name` construction, so let's try that:"
   ]
  },
  {
   "cell_type": "code",
   "execution_count": null,
   "id": "5adc76d3-e511-4980-838b-906f767ba19d",
   "metadata": {},
   "outputs": [],
   "source": [
    "t1.join(t3, \"name\").filter([t1.committed_right == True])"
   ]
  },
  {
   "cell_type": "markdown",
   "id": "259d8573-b127-44c6-adfe-18d5b49b99e9",
   "metadata": {},
   "source": [
    "Maybe a lambda function?"
   ]
  },
  {
   "cell_type": "code",
   "execution_count": null,
   "id": "7f313974-f492-4660-bb96-60a84cc031cd",
   "metadata": {},
   "outputs": [],
   "source": [
    "t1.join(t3, \"name\").filter(lambda x: x.committed_right == True)"
   ]
  },
  {
   "cell_type": "markdown",
   "id": "f5b70683-8d15-446d-bf13-af207eee8896",
   "metadata": {},
   "source": [
    "A lambda function works, but it can be a little awkward to constantly write lambda functions.  To help with this, Ibis provides a deferred operator."
   ]
  },
  {
   "cell_type": "code",
   "execution_count": null,
   "id": "7d177add-c860-43a7-b478-55756a5f109a",
   "metadata": {},
   "outputs": [],
   "source": [
    "from ibis import _"
   ]
  },
  {
   "cell_type": "markdown",
   "id": "2b259540-2381-41b4-90d4-5e957c4c59b6",
   "metadata": {},
   "source": [
    "The `_` serves as a shorthand for representing the entire chained expression up to the most recent chained method call.\n",
    "\n",
    "---\n",
    "\n",
    "**Note**: Yes, this does collide with the convention of having `_` refer to the output of the most recent REPL command.  If this is a deal-breaker you can assign it to a different name, e.g.\n",
    "\n",
    "```python\n",
    "from ibis import deferred as C\n",
    "```\n",
    "\n",
    "---\n",
    "\n",
    "Instead of writing a lambda function (not that those are bad!), we can write:"
   ]
  },
  {
   "cell_type": "code",
   "execution_count": null,
   "id": "d99cd910-7c72-46bf-a232-c5aa19fde006",
   "metadata": {},
   "outputs": [],
   "source": [
    "t1.join(t3, \"name\").filter(_.committed_right == True)"
   ]
  },
  {
   "cell_type": "markdown",
   "id": "fbe739df-838d-4c2c-aae1-b8c6fc6012b6",
   "metadata": {},
   "source": [
    "And we can continue chaining more methods and use the underscore to simplify our typing."
   ]
  },
  {
   "cell_type": "code",
   "execution_count": null,
   "id": "75cbc30a-8fb1-4607-9c6a-70fd5afb30ef",
   "metadata": {},
   "outputs": [],
   "source": [
    "(\n",
    "    t1.join(t3, \"name\").relabel({\"committed_right\": \"has_committed\"})\n",
    "    # _ is the table with the relabeled column\n",
    "    .filter(_.has_committed == True)\n",
    "    # _ is the relabeled, filtered table\n",
    "    .mutate(commit_percent=_.committed / _.committed.sum() * 100)\n",
    "    # _ is the relabeled, filtered, mutated table\n",
    "    .order_by(_.commit_percent.desc())\n",
    ")"
   ]
  },
  {
   "cell_type": "markdown",
   "id": "9e923ae6-b812-4a62-a25b-3aff617482db",
   "metadata": {},
   "source": [
    "We think this is very convenient!  And its use isn't limited to chained methods -- it can also be convenient in simpler calls:"
   ]
  },
  {
   "cell_type": "code",
   "execution_count": null,
   "id": "19adad8b-e067-4a87-9d3c-6a61dcaa740c",
   "metadata": {},
   "outputs": [],
   "source": [
    "a_long_name_for_a_table = ibis.memtable(plain_dict)\n",
    "a_long_name_for_a_table"
   ]
  },
  {
   "cell_type": "code",
   "execution_count": null,
   "id": "5388377d-713e-4fe5-a21e-caf903a3f159",
   "metadata": {},
   "outputs": [],
   "source": [
    "a_long_name_for_a_table[a_long_name_for_a_table.aliases.startswith(\"S\")]"
   ]
  },
  {
   "cell_type": "code",
   "execution_count": null,
   "id": "fd25e77d-8a2e-4d35-9fe1-19b6d13762e7",
   "metadata": {},
   "outputs": [],
   "source": [
    "a_long_name_for_a_table[_.aliases.startswith(\"S\")]"
   ]
  },
  {
   "cell_type": "markdown",
   "id": "42925b88-f32b-4fa6-a9db-5c83cf7b07e7",
   "metadata": {},
   "source": [
    "## More interesting data"
   ]
  },
  {
   "cell_type": "markdown",
   "id": "09b128d0-c953-4c18-a360-724d15d9b259",
   "metadata": {},
   "source": [
    "For this section, we'll use some of Ibis' built-in example datasets, specifically, some IMDB data."
   ]
  },
  {
   "cell_type": "markdown",
   "id": "9d8b8748-19c8-46cf-89ff-ff7e58c4eb18",
   "metadata": {},
   "source": [
    "---\n",
    "\n",
    "**Note**: the full data for both of these tables is available in `ibis.examples.imdb_title_ratings` and `ibis.examples.imdb_title_basics`, but we're not using those in-person to avoid everyone downloading the same 250mb file at once.\n",
    "\n",
    "---"
   ]
  },
  {
   "cell_type": "code",
   "execution_count": null,
   "id": "16cc7d32-665c-4e68-9af3-1582cdba2f4c",
   "metadata": {},
   "outputs": [],
   "source": [
    "from pathlib import Path\n",
    "\n",
    "filenames = [\n",
    "    \"imdb_basics_sample_5.parquet\",\n",
    "    \"imdb_ratings.parquet\",\n",
    "]\n",
    "\n",
    "folder = Path(\"imdb_smol\")\n",
    "folder.mkdir(exist_ok=True)"
   ]
  },
  {
   "cell_type": "code",
   "execution_count": null,
   "id": "e768c5cc-9df5-4d91-a0bd-7aec3baf14ac",
   "metadata": {},
   "outputs": [],
   "source": [
    "for filename in filenames:\n",
    "    path = folder / filename\n",
    "    if not path.exists():\n",
    "        import urllib.request\n",
    "\n",
    "        urllib.request.urlretrieve(\n",
    "            f\"https://storage.googleapis.com/ibis-tutorial-data/imdb_smol/{filename}\",\n",
    "            path,\n",
    "        )"
   ]
  },
  {
   "cell_type": "code",
   "execution_count": null,
   "id": "e6f2cbb8-b437-4d25-b290-a53c1d179359",
   "metadata": {},
   "outputs": [],
   "source": [
    "con = ibis.duckdb.connect()"
   ]
  },
  {
   "cell_type": "code",
   "execution_count": null,
   "id": "b3d76b85-0712-448a-a54a-3f21d8ca60f2",
   "metadata": {},
   "outputs": [],
   "source": [
    "basics = con.read_parquet(\"imdb_smol/imdb_basics_sample_5.parquet\", table_name=\"basics\")"
   ]
  },
  {
   "cell_type": "code",
   "execution_count": null,
   "id": "4fa9e906-b885-41be-adde-14f3fc89a0e6",
   "metadata": {},
   "outputs": [],
   "source": [
    "ratings = con.read_parquet(\"imdb_smol/imdb_ratings.parquet\", table_name=\"ratings\")"
   ]
  },
  {
   "cell_type": "code",
   "execution_count": null,
   "id": "0c986fa4-3e46-4f33-8936-4d56490e4e5d",
   "metadata": {},
   "outputs": [],
   "source": [
    "ratings"
   ]
  },
  {
   "cell_type": "code",
   "execution_count": null,
   "id": "fea8f93e-1f38-42c3-93e4-82c5f2308eb1",
   "metadata": {
    "scrolled": true
   },
   "outputs": [],
   "source": [
    "basics"
   ]
  },
  {
   "cell_type": "markdown",
   "id": "df5da2cb-47a3-441f-b196-45d30a78c4e9",
   "metadata": {},
   "source": [
    "## Exercises"
   ]
  },
  {
   "cell_type": "markdown",
   "id": "42b1c1dd-cfd4-44ba-a9c4-65db6566b67e",
   "metadata": {},
   "source": [
    "### Exercise 1\n",
    "\n",
    "Join `basics` with `ratings` on the `tconst` column."
   ]
  },
  {
   "cell_type": "code",
   "execution_count": null,
   "id": "42b456be-f284-4ddb-a847-791997079442",
   "metadata": {
    "scrolled": true
   },
   "outputs": [],
   "source": []
  },
  {
   "cell_type": "markdown",
   "id": "6545769e",
   "metadata": {},
   "source": [
    "#### Solution"
   ]
  },
  {
   "cell_type": "code",
   "execution_count": null,
   "id": "d3ce815f",
   "metadata": {
    "scrolled": true
   },
   "outputs": [],
   "source": [
    "%load solutions/nb02-ex01.py"
   ]
  },
  {
   "cell_type": "markdown",
   "id": "b775445e-e79f-4b60-a776-e695663144c4",
   "metadata": {},
   "source": [
    "### Exercise 2\n",
    "\n",
    "Join `basics` with `ratings` on `tconst`, and select out only the `titleType`, `primaryTitle`, `numVotes`, and `averageRating` columns."
   ]
  },
  {
   "cell_type": "code",
   "execution_count": null,
   "id": "67770903-9428-4502-b5c6-51b89cbff53e",
   "metadata": {},
   "outputs": [],
   "source": []
  },
  {
   "cell_type": "markdown",
   "id": "6bde14d3",
   "metadata": {},
   "source": [
    "#### Solution"
   ]
  },
  {
   "cell_type": "code",
   "execution_count": null,
   "id": "32016261",
   "metadata": {},
   "outputs": [],
   "source": [
    "%load solutions/nb02-ex02.py"
   ]
  },
  {
   "cell_type": "markdown",
   "id": "71bb876d",
   "metadata": {},
   "source": [
    "### Exercise 3\n",
    "\n",
    "Those `camelCase` column names aren't [PEP 8](https://peps.python.org/pep-0008/) compliant, and feel a bit clunky to use. Modify the above to change them to `snake_case` (for example, rename `titleType` to `title_type`).\n",
    "\n",
    "There are two ways you might achieve this:\n",
    "\n",
    "- Using the `Table.relabel` method\n",
    "- Or by modifying the `.select` used above to do the relabeling in one step."
   ]
  },
  {
   "cell_type": "code",
   "execution_count": null,
   "id": "ebcd2d05-85ae-4808-86b6-4e5ce42cace8",
   "metadata": {
    "scrolled": true
   },
   "outputs": [],
   "source": []
  },
  {
   "cell_type": "markdown",
   "id": "be758761",
   "metadata": {},
   "source": [
    "#### Solution"
   ]
  },
  {
   "cell_type": "code",
   "execution_count": null,
   "id": "f7d53044",
   "metadata": {},
   "outputs": [],
   "source": [
    "%load solutions/nb02-ex03-relabel.py"
   ]
  },
  {
   "cell_type": "code",
   "execution_count": null,
   "id": "cb86d9eb",
   "metadata": {},
   "outputs": [],
   "source": [
    "%load solutions/nb02-ex03-select.py"
   ]
  },
  {
   "cell_type": "markdown",
   "id": "243e325f-86a0-4b13-9a59-fd90f36f82fe",
   "metadata": {},
   "source": [
    "### Exercise 4\n",
    "\n",
    "Using the above joined table, compute the 10 non-adult movies with the highest average rating having received at least 100,000 votes."
   ]
  },
  {
   "cell_type": "code",
   "execution_count": null,
   "id": "203ad7a5-a926-4db7-8d6a-d8cc2292422c",
   "metadata": {},
   "outputs": [],
   "source": []
  },
  {
   "cell_type": "markdown",
   "id": "86a6ea38",
   "metadata": {},
   "source": [
    "#### Solution"
   ]
  },
  {
   "cell_type": "code",
   "execution_count": null,
   "id": "1bbdf0c2",
   "metadata": {},
   "outputs": [],
   "source": [
    "%load solutions/nb02-ex04.py"
   ]
  },
  {
   "cell_type": "markdown",
   "id": "48b929a9-3d53-48a8-92e3-e72247f9a76e",
   "metadata": {},
   "source": [
    "## Selectors\n"
   ]
  },
  {
   "cell_type": "markdown",
   "id": "22a8fb28-f2d0-4832-a951-93a1ea5e0865",
   "metadata": {},
   "source": [
    "Selectors are a helper to concisely express operations across groups of columns -- let's dive in!"
   ]
  },
  {
   "cell_type": "code",
   "execution_count": null,
   "id": "c8e01c92-7d44-46a3-a7bd-861b531629d4",
   "metadata": {},
   "outputs": [],
   "source": [
    "from ibis import selectors as s"
   ]
  },
  {
   "cell_type": "markdown",
   "id": "3e177c56-045c-432a-9b6e-4370eaa27460",
   "metadata": {},
   "source": [
    "We'll return to the penguins data we looked at in the first notebook."
   ]
  },
  {
   "cell_type": "code",
   "execution_count": null,
   "id": "d9894682",
   "metadata": {},
   "outputs": [],
   "source": [
    "con = ibis.duckdb.connect(\"palmer_penguins.ddb\")"
   ]
  },
  {
   "cell_type": "code",
   "execution_count": null,
   "id": "98c82271-a2a3-4ca7-86d8-be497ac49247",
   "metadata": {},
   "outputs": [],
   "source": [
    "penguins = con.table(\"penguins\")\n",
    "\n",
    "penguins"
   ]
  },
  {
   "cell_type": "markdown",
   "id": "0ff7f974-7bc0-4793-bf9b-e25256221592",
   "metadata": {},
   "source": [
    "Selectors let you select columns based on some criteria, for instance:"
   ]
  },
  {
   "cell_type": "code",
   "execution_count": null,
   "id": "b9dd8ef0-aa51-4bc0-997e-eba50531bc21",
   "metadata": {},
   "outputs": [],
   "source": [
    "penguins[s.numeric()]"
   ]
  },
  {
   "cell_type": "code",
   "execution_count": null,
   "id": "89a11de2-1637-4e74-97bd-5d4c68088d3e",
   "metadata": {},
   "outputs": [],
   "source": [
    "penguins[s.of_type(\"int64\")]"
   ]
  },
  {
   "cell_type": "code",
   "execution_count": null,
   "id": "fb316564-6b4f-4bec-a038-241f67374a62",
   "metadata": {},
   "outputs": [],
   "source": [
    "penguins[s.endswith(\"_mm\")]"
   ]
  },
  {
   "cell_type": "markdown",
   "id": "fb6a3474-53bf-4861-b7bb-adb9a1f86351",
   "metadata": {},
   "source": [
    "That's pretty useful already, but we can also use selectors to perform operations across the selected columns!\n",
    "\n",
    "For instance, to compute the Z-score ($\\frac{x - \\mu}{\\sigma}$) of the numeric columns in the penguins data, we can do the following (with help from our friend the `_`):"
   ]
  },
  {
   "cell_type": "code",
   "execution_count": null,
   "id": "edd6ad9e-c88f-4855-81c2-68c37539cb25",
   "metadata": {},
   "outputs": [],
   "source": [
    "penguins.mutate(s.across(s.numeric(), (_ - _.mean()) / _.std()))"
   ]
  },
  {
   "cell_type": "markdown",
   "id": "2534ef05-127a-47b9-b492-e67bb8ebef91",
   "metadata": {},
   "source": [
    "And just like that, we've computed the z-score across every numeric column! \n",
    "\n",
    "TODO: explain more\n",
    "\n",
    "It might've been weird to compute the z-score of the `year`, though.  We should remove that.  But that's not hard, because selectors are composable!"
   ]
  },
  {
   "cell_type": "code",
   "execution_count": null,
   "id": "fbaaed49-afcf-4285-bdc5-b919942a12f7",
   "metadata": {},
   "outputs": [],
   "source": [
    "penguins.mutate(s.across(s.numeric() & ~s.c(\"year\"), (_ - _.mean()) / _.std()))"
   ]
  },
  {
   "cell_type": "markdown",
   "id": "bbbd6901-49b2-41d0-aa90-692e6f1307fb",
   "metadata": {},
   "source": [
    "And we've compute the z-score for all of our penguins vital statistics and avoided mangling the year column."
   ]
  },
  {
   "cell_type": "markdown",
   "id": "5475c8c5-227b-490e-bc3b-e21c4361807e",
   "metadata": {},
   "source": [
    "### Exercise 5\n",
    "\n",
    "We might want to ensure uniformity in our labeling.  Lowercase all of the string values across all of the string columns."
   ]
  },
  {
   "cell_type": "code",
   "execution_count": null,
   "id": "45ee086e-798c-4fce-9004-91350c12fc60",
   "metadata": {},
   "outputs": [],
   "source": []
  },
  {
   "cell_type": "markdown",
   "id": "8e824746",
   "metadata": {},
   "source": [
    "#### Solution"
   ]
  },
  {
   "cell_type": "code",
   "execution_count": null,
   "id": "06139305",
   "metadata": {},
   "outputs": [],
   "source": [
    "%load solutions/nb02-ex05.py"
   ]
  },
  {
   "cell_type": "markdown",
   "id": "4ac87c84",
   "metadata": {},
   "source": [
    "### Exercise 6\n",
    "\n",
    "We computed the z-score for a given column across every penguin on every island -- but we might instead want to compute those same statistics on a species-by-species basis.  Try to compute the same normalization, but where the computation takes place over each species of penguin individually."
   ]
  },
  {
   "cell_type": "code",
   "execution_count": null,
   "id": "3e84e8ef-6580-4c45-b374-8ac69ea1ebd5",
   "metadata": {},
   "outputs": [],
   "source": []
  },
  {
   "cell_type": "markdown",
   "id": "5410420c",
   "metadata": {},
   "source": [
    "#### Solution"
   ]
  },
  {
   "cell_type": "code",
   "execution_count": null,
   "id": "bedc749d",
   "metadata": {},
   "outputs": [],
   "source": [
    "%load solutions/nb02-ex06.py"
   ]
  }
 ],
 "metadata": {
  "kernelspec": {
   "display_name": "Python 3 (ipykernel)",
   "language": "python",
   "name": "python3"
  },
  "language_info": {
   "codemirror_mode": {
    "name": "ipython",
    "version": 3
   },
   "file_extension": ".py",
   "mimetype": "text/x-python",
   "name": "python",
   "nbconvert_exporter": "python",
   "pygments_lexer": "ipython3",
   "version": "3.10.10"
  }
 },
 "nbformat": 4,
 "nbformat_minor": 5
}
