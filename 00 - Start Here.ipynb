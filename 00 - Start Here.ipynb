{
  "cells": [
    {
      "cell_type": "markdown",
      "metadata": {},
      "source": [
        "# Welcome to the Ibis tutorial!\n",
        "\n",
        "On the left 👈 there is a file browser open with the tutorial notebooks.\n",
        "\n",
        "For convenience they're also linked below 👇\n",
        "\n",
        "1. [Getting Started](./01%20-%20Getting%20Started.ipynb)\n",
        "1. [Importing and Exporting Data](./02%20-%20Importing%20and%20Exporting%20Data.ipynb)\n",
        "1. [Switching Backends](./03%20-%20Switching%20Backends.ipynb)\n",
        "1. [Playing with PyPI](./04%20-%20Playing%20with%20PyPI.ipynb)\n",
        "\n",
        "\n",
        "This tutorial will make use of several datasets (and databases!). Before we\n",
        "start we need to download some data and setup some databases."
      ]
    },
    {
      "cell_type": "code",
      "metadata": {},
      "source": [
        "from setup_data import setup\n",
        "\n",
        "setup()"
      ],
      "execution_count": null,
      "outputs": []
    }
  ],
  "metadata": {
    "kernelspec": {
      "name": "python3",
      "language": "python",
      "display_name": "Python 3 (ipykernel)"
    }
  },
  "nbformat": 4,
  "nbformat_minor": 4
}