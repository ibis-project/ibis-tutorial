{
  "cells": [
    {
      "cell_type": "markdown",
      "metadata": {},
      "source": [
        "# Welcome to the Ibis tutorial!\n",
        "\n",
        "On the left 👈 there is a file browser open with the tutorial notebooks.\n",
        "\n",
        "For convenience they're also linked below 👇\n",
        "\n",
        "1. [Getting Started](./01%20-%20Getting%20Started.ipynb)\n",
        "1. [Memtables, Joins, and Selectors](./02%20-%20Memtables,%20Joins,%20and%20Selectors.ipynb)\n",
        "1. [Playing with PyPI](./03%20-%20Playing%20with%20PyPI.ipynb)\n",
        "\n",
        "\n",
        "First, let's kick off a download of some PyPI maintainer data, we'll use this later on."
      ]
    },
    {
      "cell_type": "code",
      "metadata": {},
      "source": [
        "import urllib.request\n",
        "from pathlib import Path\n",
        "\n",
        "## Download PyPI maintainer data from Ibis Tutorial bucket\n",
        "\n",
        "filenames = [\n",
        "    \"deps.parquet\",\n",
        "    \"maintainers.parquet\",\n",
        "    \"package_urls.parquet\",\n",
        "    \"packages.parquet\",\n",
        "    \"scorecard_checks.parquet\",\n",
        "    \"wheels.parquet\",\n",
        "]\n",
        "\n",
        "folder = Path(\"pypi\")\n",
        "folder.mkdir(exist_ok=True)\n",
        "\n",
        "for filename in filenames:\n",
        "    path = folder / filename\n",
        "    if not path.exists():\n",
        "        print(f\"Downloading {filename} to {path}\")\n",
        "        urllib.request.urlretrieve(\n",
        "            f\"https://storage.googleapis.com/ibis-tutorial-data/pypi/2024-04-24/{filename}\",\n",
        "            path,\n",
        "        )"
      ],
      "execution_count": null,
      "outputs": []
    },
    {
      "cell_type": "markdown",
      "metadata": {},
      "source": [
        "Let's continue by loading some IMDB ratings data into a local PostgreSQL database!\n",
        "We will do this using DuckDB, yes you can do that!"
      ]
    },
    {
      "cell_type": "code",
      "metadata": {},
      "source": [
        "!curl -OLsS 'https://storage.googleapis.com/ibis-tutorial-data/imdb/2024-03-22/imdb_title_ratings.parquet'\n",
        "!curl -OLsS 'https://storage.googleapis.com/ibis-tutorial-data/imdb/2024-03-22/imdb_title_basics.parquet'\n",
        "!psql < demo/create_imdb.sql\n",
        "!duckdb < load_imdb.sql"
      ],
      "execution_count": null,
      "outputs": []
    },
    {
      "cell_type": "markdown",
      "metadata": {},
      "source": [
        "And we'll confirm that our PostgreSQL database contains the tables we just loaded."
      ]
    },
    {
      "cell_type": "code",
      "metadata": {},
      "source": [
        "!psql <<< '\\dt'\n",
        "!psql < verify.sql"
      ],
      "execution_count": null,
      "outputs": []
    }
  ],
  "metadata": {
    "kernelspec": {
      "name": "python3",
      "language": "python",
      "display_name": "Python 3 (ipykernel)"
    }
  },
  "nbformat": 4,
  "nbformat_minor": 4
}