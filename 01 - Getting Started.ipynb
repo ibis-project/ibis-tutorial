{
  "cells": [
    {
      "cell_type": "raw",
      "metadata": {},
      "source": [
        "---\n",
        "allow_errors: true\n",
        "---"
      ]
    },
    {
      "cell_type": "markdown",
      "metadata": {},
      "source": [
        "# Getting started\n",
        "\n",
        "## Installation\n",
        "\n",
        "See the [README](https://github.com/ibis-project/ibis-tutorial#setup) for up-to-date installation instructions!\n",
        "\n",
        "## Download some data\n",
        "\n",
        "There are other ways to get example data, but we'll start by downloading the penguins dataset.\n",
        "$^1$."
      ]
    },
    {
      "cell_type": "code",
      "metadata": {},
      "source": [
        "from pathlib import Path\n",
        "\n",
        "import duckdb\n",
        "from packaging.version import parse as vparse\n",
        "\n",
        "duck_version = vparse(duckdb.__version__)\n",
        "\n",
        "ddb_file = Path(\"palmer_penguins.ddb\")\n",
        "\n",
        "\n",
        "if not ddb_file.exists():\n",
        "    import urllib.request\n",
        "\n",
        "    urllib.request.urlretrieve(\n",
        "        f\"https://storage.googleapis.com/ibis-tutorial-data/penguins/0.{duck_version.minor}/palmer_penguins.ddb\",\n",
        "        ddb_file,\n",
        "    )"
      ],
      "execution_count": null,
      "outputs": []
    },
    {
      "cell_type": "markdown",
      "metadata": {},
      "source": [
        "DuckDB is similar to sqlite -- we have a single file on disk (or an in-memory\n",
        "connection) that we can operate on.\n",
        "\n",
        "## Intro\n",
        "\n",
        "We can begin by importing Ibis and firing up a connection to DuckDB! (DuckDB is\n",
        "fast and runs locally, so it's handy for lots of use-cases, including\n",
        "tutorials)."
      ]
    },
    {
      "cell_type": "code",
      "metadata": {},
      "source": [
        "import ibis\n",
        "\n",
        "con = ibis.duckdb.connect(\"palmer_penguins.ddb\", read_only=True)"
      ],
      "execution_count": null,
      "outputs": []
    },
    {
      "cell_type": "markdown",
      "metadata": {},
      "source": [
        "**Note**: when you connect to a DuckDB database file, DuckDB will create a\n",
        "  lock-file to prevent data corruption.  If you see a `palmer_penguins.ddb.wal`\n",
        "  file, you can safely ignore it. It will get cleaned up automatically.\n",
        "\n",
        "\n",
        "Now we have a connection, we can start by looking around.  Are there any tables\n",
        "in this database (one would hope)?\n"
      ]
    },
    {
      "cell_type": "code",
      "metadata": {},
      "source": [
        "con.list_tables()"
      ],
      "execution_count": null,
      "outputs": []
    },
    {
      "cell_type": "markdown",
      "metadata": {},
      "source": [
        "Yep, there's a table called `penguins`. Let's take a look at it."
      ]
    },
    {
      "cell_type": "code",
      "metadata": {},
      "source": [
        "penguins = con.table(\"penguins\")"
      ],
      "execution_count": null,
      "outputs": []
    },
    {
      "cell_type": "markdown",
      "metadata": {},
      "source": [
        "By default, you'll get a `repr` showing the schema of the table, the column\n",
        "names and the dtype of each column."
      ]
    },
    {
      "cell_type": "code",
      "metadata": {},
      "source": [
        "penguins"
      ],
      "execution_count": null,
      "outputs": []
    },
    {
      "cell_type": "markdown",
      "metadata": {},
      "source": [
        "If we run `head` to peek at the data, you'll notice that we don't actually see\n",
        "data (yet), what's going on?"
      ]
    },
    {
      "cell_type": "code",
      "metadata": {},
      "source": [
        "penguins.head()"
      ],
      "execution_count": null,
      "outputs": []
    },
    {
      "cell_type": "markdown",
      "metadata": {},
      "source": [
        "Ibis has a deferred execution model.  It builds up expressions based on what you\n",
        "ask it to do, and then executes those expressions on request.\n",
        "\n",
        "In this case, our query isn't too involved, we want to see the first few rows of\n",
        "the `penguins` table.\n",
        "\n",
        "We can do that by asking for the results of this query as a `pandas.DataFrame`:"
      ]
    },
    {
      "cell_type": "code",
      "metadata": {},
      "source": [
        "penguins.head().to_pandas()"
      ],
      "execution_count": null,
      "outputs": []
    },
    {
      "cell_type": "markdown",
      "metadata": {},
      "source": [
        "Or a `pyarrow.Table`:"
      ]
    },
    {
      "cell_type": "code",
      "metadata": {},
      "source": [
        "penguins.head().to_pyarrow()"
      ],
      "execution_count": null,
      "outputs": []
    },
    {
      "cell_type": "markdown",
      "metadata": {},
      "source": [
        "Or a `polars.DataFrame`:"
      ]
    },
    {
      "cell_type": "code",
      "metadata": {},
      "source": [
        "penguins.head().to_polars()"
      ],
      "execution_count": null,
      "outputs": []
    },
    {
      "cell_type": "markdown",
      "metadata": {},
      "source": [
        "We'll get into more detail about what Ibis is doing a bit later on.  For now,\n",
        "the important point is that Ibis is deferred.\n",
        "\n",
        "## Interactive Mode\n",
        "\n",
        "Remember when we said Ibis is deferred? Sometimes you want eager execution so\n",
        "you can explore a dataset.  For most of this tutorial, we'll turn on\n",
        "`interactive` mode, where Ibis will eagerly execute as much of the query as it\n",
        "needs to in order to show you the first 10 rows of the result."
      ]
    },
    {
      "cell_type": "code",
      "metadata": {},
      "source": [
        "ibis.options.interactive = True"
      ],
      "execution_count": null,
      "outputs": []
    },
    {
      "cell_type": "markdown",
      "metadata": {},
      "source": [
        "In interactive mode, we use `rich` to render the output inline:"
      ]
    },
    {
      "cell_type": "code",
      "metadata": {},
      "source": [
        "penguins.head()"
      ],
      "execution_count": null,
      "outputs": []
    },
    {
      "cell_type": "markdown",
      "metadata": {},
      "source": [
        "## Tables and Columns\n",
        "\n",
        "`penguins` is a table!  A table is a collection of one or more columns, each with a specific datatype."
      ]
    },
    {
      "cell_type": "code",
      "metadata": {},
      "source": [
        "penguins.head()"
      ],
      "execution_count": null,
      "outputs": []
    },
    {
      "cell_type": "code",
      "metadata": {},
      "source": [
        "type(penguins)"
      ],
      "execution_count": null,
      "outputs": []
    },
    {
      "cell_type": "markdown",
      "metadata": {},
      "source": [
        "We can look at a single column of that table using the column name as an attribute:"
      ]
    },
    {
      "cell_type": "code",
      "metadata": {},
      "source": [
        "penguins.species"
      ],
      "execution_count": null,
      "outputs": []
    },
    {
      "cell_type": "markdown",
      "metadata": {},
      "source": [
        "What kind of column is `species`? It's a `StringColumn`!"
      ]
    },
    {
      "cell_type": "code",
      "metadata": {},
      "source": [
        "type(penguins.species)"
      ],
      "execution_count": null,
      "outputs": []
    },
    {
      "cell_type": "markdown",
      "metadata": {},
      "source": [
        "## Ibis \"verbs\", or, stuff you can do to a table\n",
        "\n",
        "The rest of this notebook covers some of the general methods you can use to\n",
        "alter the output of a particular table.\n",
        "\n",
        "We'll cover, in order, `filter`, `select`, `drop`, `mutate`, `order_by`,\n",
        "`aggregate`, and `group_by`. Time to dive in!\n",
        "\n",
        "## Filter\n",
        "\n",
        "A filter allows you to view a subset of the rows in a table, based on some condition.\n",
        "\n",
        "For instance, we might want to only view penguin data for the Adelie species:"
      ]
    },
    {
      "cell_type": "code",
      "metadata": {},
      "source": [
        "penguins.filter(penguins.species == \"Adelie\")"
      ],
      "execution_count": null,
      "outputs": []
    },
    {
      "cell_type": "markdown",
      "metadata": {},
      "source": [
        "You can also combine multiple filters, across multiple columns.\n",
        "\n",
        "We can subset the data down to Adelie penguins residing on the island of Dream:"
      ]
    },
    {
      "cell_type": "code",
      "metadata": {
        "scrolled": true
      },
      "source": [
        "expr = penguins.filter((penguins.island == \"Dream\") & (penguins.species == \"Adelie\"))\n",
        "expr"
      ],
      "execution_count": null,
      "outputs": []
    },
    {
      "cell_type": "markdown",
      "metadata": {},
      "source": [
        "Above we combined two filters using `&`, you can also pass them in as individual arguments:"
      ]
    },
    {
      "cell_type": "code",
      "metadata": {},
      "source": [
        "expr = penguins.filter(\n",
        "        penguins.island == \"Dream\",\n",
        "        penguins.species == \"Adelie\",\n",
        ")\n",
        "expr"
      ],
      "execution_count": null,
      "outputs": []
    },
    {
      "cell_type": "code",
      "metadata": {},
      "source": [
        "ibis.to_sql(expr)"
      ],
      "execution_count": null,
      "outputs": []
    },
    {
      "cell_type": "markdown",
      "metadata": {},
      "source": [
        "## Select\n",
        "\n",
        "Filter filters, Select selects (there's a pattern here).\n",
        "If you only want a subset of the columns in the original table, you can select\n",
        "those columns explicitly.\n",
        "\n",
        "You can refer to the columns using strings:"
      ]
    },
    {
      "cell_type": "code",
      "metadata": {},
      "source": [
        "penguins.select(\"species\", \"island\", \"year\")"
      ],
      "execution_count": null,
      "outputs": []
    },
    {
      "cell_type": "markdown",
      "metadata": {},
      "source": [
        "Or you can use explicit references to the `Column` objects:"
      ]
    },
    {
      "cell_type": "code",
      "metadata": {},
      "source": [
        "penguins.select(penguins.species, penguins.island, penguins.year)"
      ],
      "execution_count": null,
      "outputs": []
    },
    {
      "cell_type": "markdown",
      "metadata": {},
      "source": [
        "Or you can mix and match:"
      ]
    },
    {
      "cell_type": "code",
      "metadata": {},
      "source": [
        "penguins.select(\"species\", \"island\", penguins.year)"
      ],
      "execution_count": null,
      "outputs": []
    },
    {
      "cell_type": "markdown",
      "metadata": {},
      "source": [
        "## Drop\n",
        "\n",
        "Drop is nearly the same as Select, but rather than explicitly choosing the\n",
        "columns to display, we explicitly choose the columns to _not_ display.\n",
        "\n",
        "And as with `select`, you can specify the columns as strings:"
      ]
    },
    {
      "cell_type": "code",
      "metadata": {},
      "source": [
        "penguins.drop(\"sex\", \"year\")"
      ],
      "execution_count": null,
      "outputs": []
    },
    {
      "cell_type": "markdown",
      "metadata": {},
      "source": [
        "Or you can use explicit references to the `Column` objects:"
      ]
    },
    {
      "cell_type": "code",
      "metadata": {},
      "source": [
        "penguins.drop(penguins.sex, penguins.year)"
      ],
      "execution_count": null,
      "outputs": []
    },
    {
      "cell_type": "markdown",
      "metadata": {},
      "source": [
        "Or you can mix and match:"
      ]
    },
    {
      "cell_type": "code",
      "metadata": {},
      "source": [
        "penguins.drop(\"sex\", penguins.year)"
      ],
      "execution_count": null,
      "outputs": []
    },
    {
      "cell_type": "markdown",
      "metadata": {},
      "source": [
        "## Mutate\n",
        "\n",
        "Everything we've seen so far has been subtractive -- removing rows or columns.\n",
        "What about _adding_ columns?\n",
        "\n",
        "That's what `mutate` is for! You can create a new column -- either as a\n",
        "function of other existing columns (for example, converting units):"
      ]
    },
    {
      "cell_type": "code",
      "metadata": {},
      "source": [
        "penguins.mutate(bill_length_cm=penguins.bill_length_mm / 10)"
      ],
      "execution_count": null,
      "outputs": []
    },
    {
      "cell_type": "markdown",
      "metadata": {},
      "source": [
        "Or you can create a new column and populate it with some literal value:"
      ]
    },
    {
      "cell_type": "code",
      "metadata": {},
      "source": [
        "penguins.mutate(my_favorite_number=ibis.literal(41))"
      ],
      "execution_count": null,
      "outputs": []
    },
    {
      "cell_type": "markdown",
      "metadata": {},
      "source": [
        "## On immutability\n",
        "\n",
        "We've filtered, selected, dropped, and mutated this `penguins` table quite a bit."
      ]
    },
    {
      "cell_type": "code",
      "metadata": {},
      "source": [
        "penguins"
      ],
      "execution_count": null,
      "outputs": []
    },
    {
      "cell_type": "markdown",
      "metadata": {},
      "source": [
        "And yet, notice that none of our changes persist -- the base table for our query isn't altered.\n",
        "The query (or expression) is a recipe of things to do with the base table (`penguins`).\n",
        "\n",
        "If you want to keep an expression around, you can assign it to a variable:"
      ]
    },
    {
      "cell_type": "code",
      "metadata": {},
      "source": [
        "expr = penguins.select(\"species\", \"island\")\n",
        "expr"
      ],
      "execution_count": null,
      "outputs": []
    },
    {
      "cell_type": "markdown",
      "metadata": {},
      "source": [
        "**Note**: Every time you execute an expression (via interactive mode, or\n",
        "  `to_pandas`, or similar), the entire expression gets executed, starting from\n",
        "  the base table.  DuckDB is very fast and this dataset is very small, so the\n",
        "  delay is unnoticeable, but for very large datasets, it might become more\n",
        "  pronounced.  There is functionality to `cache` intermediate results that isn't\n",
        "  covered in this tutorial, but you can read more about it in [the\n",
        "  docs](https://ibis-project.org/reference/expression-tables.html#ibis.expr.types.relations.Table.cache).\n",
        "\n",
        "## Method chaining\n",
        "\n",
        "You can build up complicated queries by chaining together Ibis methods. The\n",
        "output of many Ibis methods is a table (just like `penguins`!) and we can\n",
        "continue calling table methods until we're satisfied.  Or until we end up with\n",
        "something that _isn't_ a table.  More on that later."
      ]
    },
    {
      "cell_type": "code",
      "metadata": {},
      "source": [
        "penguins.select(\"species\", \"island\", \"year\", \"bill_length_mm\").drop(\"year\")"
      ],
      "execution_count": null,
      "outputs": []
    },
    {
      "cell_type": "markdown",
      "metadata": {},
      "source": [
        "Not the most staggeringly complicated query, but we'll see more soon.\n",
        "\n",
        "### Exercise 1\n",
        "\n",
        "Your PI is a cranky American biologist who thinks the metric system is for\n",
        "suckers (oh no).\n",
        "\n",
        "He demands that we convert all of the existing measurements (`mm` and `g`) to\n",
        "inches and lbs, respectively (I am so sorry). The PI is extra cranky this\n",
        "morning, so we had better make sure that ONLY the silly units are visible in the\n",
        "output.\n",
        "\n",
        "Some ~helpful~ cursed conversion factors:\n",
        "\n",
        "|  |  |\n",
        "| -- | -- |\n",
        "| mm -> in | divide by 25.4 |\n",
        "| g -> lb | divide by 453.6 |\n",
        "\n",
        "Two ways you might accomplish this:\n",
        "- Chaining `.mutate` to create new columns and `.drop` to drop the old metric columns\n",
        "- Using a single `.select` to create the new columns as well as select the relevant older columns\n",
        "\n",
        "Try both ways below! How do they compare?"
      ]
    },
    {
      "cell_type": "code",
      "metadata": {},
      "source": [
        "# Convert the metric units to imperial, and drop the metric columns.\n",
        "# Try this using a `.mutate` and `.drop` call.\n",
        "penguins_imperial_mutate_drop = penguins"
      ],
      "execution_count": null,
      "outputs": []
    },
    {
      "cell_type": "code",
      "metadata": {},
      "source": [
        "# Convert the metric units to imperial, and drop the metric columns.\n",
        "# Try this using a single `.select` call.\n",
        "penguins_imperial_select = penguins"
      ],
      "execution_count": null,
      "outputs": []
    },
    {
      "cell_type": "markdown",
      "metadata": {},
      "source": [
        "#### Solutions"
      ]
    },
    {
      "cell_type": "code",
      "metadata": {},
      "source": [
        "%load solutions/nb01_ex01_mutate_drop.py"
      ],
      "execution_count": null,
      "outputs": []
    },
    {
      "cell_type": "code",
      "metadata": {},
      "source": [
        "%load solutions/nb01_ex01_select.py"
      ],
      "execution_count": null,
      "outputs": []
    },
    {
      "cell_type": "markdown",
      "metadata": {},
      "source": [
        "### Does it matter which method you choose?\n",
        "\n",
        "In this case, no.  Sometimes, there might be a small difference in the generated\n",
        "SQL but they will be semantically equivalent.."
      ]
    },
    {
      "cell_type": "code",
      "metadata": {},
      "source": [
        "ibis.to_sql(penguins_imperial_mutate_drop)"
      ],
      "execution_count": null,
      "outputs": []
    },
    {
      "cell_type": "code",
      "metadata": {},
      "source": [
        "ibis.to_sql(penguins_imperial_select)"
      ],
      "execution_count": null,
      "outputs": []
    },
    {
      "cell_type": "markdown",
      "metadata": {},
      "source": [
        "In practice, small differences in the generated SQL don't make a difference.\n",
        "Any modern SQL execution engine will optimize variations to the same set of\n",
        "operations and there will be no measurable performance difference.\n",
        "\n",
        "## Order By\n",
        "\n",
        "Want to order your data by a given column or columns?  Use `order_by`!\n",
        "\n",
        "The default ordering direction is ascending:"
      ]
    },
    {
      "cell_type": "code",
      "metadata": {},
      "source": [
        "penguins.order_by(penguins.flipper_length_mm)"
      ],
      "execution_count": null,
      "outputs": []
    },
    {
      "cell_type": "markdown",
      "metadata": {},
      "source": [
        "We can ask Ibis to sort in descending order, too."
      ]
    },
    {
      "cell_type": "code",
      "metadata": {
        "scrolled": true
      },
      "source": [
        "penguins.order_by(penguins.flipper_length_mm.desc())"
      ],
      "execution_count": null,
      "outputs": []
    },
    {
      "cell_type": "markdown",
      "metadata": {},
      "source": [
        "Let's select out a subset of the columns to keep this a bit tidier."
      ]
    },
    {
      "cell_type": "code",
      "metadata": {},
      "source": [
        "penguins.order_by(penguins.flipper_length_mm.desc()).select(\n",
        "    \"species\", \"island\", \"flipper_length_mm\"\n",
        ")"
      ],
      "execution_count": null,
      "outputs": []
    },
    {
      "cell_type": "markdown",
      "metadata": {},
      "source": [
        "You can also call `ibis.desc` on the column name to set the order direction:"
      ]
    },
    {
      "cell_type": "code",
      "metadata": {},
      "source": [
        "penguins.order_by(ibis.desc(\"flipper_length_mm\")).select(\"species\", \"island\", \"flipper_length_mm\")"
      ],
      "execution_count": null,
      "outputs": []
    },
    {
      "cell_type": "markdown",
      "metadata": {},
      "source": [
        "## Aggregate\n",
        "\n",
        "Ibis has several aggregate functions available to help summarize data.  All the\n",
        "old favorites are there: `mean`, `max`, `min`, `count`, `sum`...\n",
        "\n",
        "You can aggregate a column by calling the method on that column:"
      ]
    },
    {
      "cell_type": "code",
      "metadata": {},
      "source": [
        "penguins.flipper_length_mm.mean()"
      ],
      "execution_count": null,
      "outputs": []
    },
    {
      "cell_type": "markdown",
      "metadata": {},
      "source": [
        "Or you can compute multiple aggregates using the `aggregate` method (also\n",
        "available as `agg` for faster typing):"
      ]
    },
    {
      "cell_type": "code",
      "metadata": {},
      "source": [
        "penguins.agg([penguins.flipper_length_mm.mean(), penguins.bill_depth_mm.max()])"
      ],
      "execution_count": null,
      "outputs": []
    },
    {
      "cell_type": "markdown",
      "metadata": {},
      "source": [
        "But aggregates really shine when paired with a `group_by`!\n",
        "\n",
        "## Group By\n",
        "\n",
        "`group_by` creates groupings of rows that have the same value for one or more columns.\n",
        "\n",
        "But it doesn't do much on its own -- you can pair it with aggregate to get a result."
      ]
    },
    {
      "cell_type": "code",
      "metadata": {},
      "source": [
        "penguins.group_by(\"species\").agg()"
      ],
      "execution_count": null,
      "outputs": []
    },
    {
      "cell_type": "markdown",
      "metadata": {},
      "source": [
        "Without any `aggregate` function specified, we get the distinct values of the grouped-column.\n",
        "\n",
        "We can add a second column to the `group_by` to get the distinct pairs across both columns:"
      ]
    },
    {
      "cell_type": "code",
      "metadata": {},
      "source": [
        "penguins.group_by([\"species\", \"island\"]).agg()"
      ],
      "execution_count": null,
      "outputs": []
    },
    {
      "cell_type": "markdown",
      "metadata": {},
      "source": [
        "Now, if we add an aggregation function to that, we start to really open things up."
      ]
    },
    {
      "cell_type": "code",
      "metadata": {},
      "source": [
        "penguins.group_by([\"species\", \"island\"]).agg(penguins.bill_length_mm.mean())"
      ],
      "execution_count": null,
      "outputs": []
    },
    {
      "cell_type": "markdown",
      "metadata": {},
      "source": [
        "By adding that `mean` to the `aggregate`, we now have a concise way to calculate\n",
        "aggregates over each of the distinct groups in the `group_by`. And we can\n",
        "calculate as many aggregates as we need."
      ]
    },
    {
      "cell_type": "code",
      "metadata": {},
      "source": [
        "penguins.group_by([\"species\", \"island\"]).agg(\n",
        "    [penguins.bill_length_mm.mean(), penguins.flipper_length_mm.max()]\n",
        ")"
      ],
      "execution_count": null,
      "outputs": []
    },
    {
      "cell_type": "markdown",
      "metadata": {},
      "source": [
        "If we need more specific groups, we can add to the `group_by`."
      ]
    },
    {
      "cell_type": "code",
      "metadata": {},
      "source": [
        "penguins.group_by([\"species\", \"island\", \"sex\"]).agg(\n",
        "        [penguins.bill_length_mm.mean(), penguins.flipper_length_mm.max()]\n",
        "    )"
      ],
      "execution_count": null,
      "outputs": []
    },
    {
      "cell_type": "markdown",
      "metadata": {},
      "source": [
        "## Exercises\n",
        "\n",
        "Time to use what we've learned to answer some penguin questions.\n",
        "\n",
        "### Exercise 2\n",
        "\n",
        "What was the largest female penguin (by body mass) on each island in the year 2008?\n",
        "\n",
        "\n",
        "#### Solution\n",
        "\n",
        "Note that there are several ways these queries could be written - it's fine if\n",
        "your solution doesn't look like ours, what's important is that the results are\n",
        "the same."
      ]
    },
    {
      "cell_type": "code",
      "metadata": {},
      "source": [
        "%load solutions/nb01_ex02.py"
      ],
      "execution_count": null,
      "outputs": []
    },
    {
      "cell_type": "markdown",
      "metadata": {},
      "source": [
        "### Exercise 3\n",
        "\n",
        "What was the largest male penguin (by body mass) on each island for each year of\n",
        "data collection?\n",
        "\n",
        "\n",
        "#### Solution"
      ]
    },
    {
      "cell_type": "code",
      "metadata": {},
      "source": [
        "%load solutions/nb01_ex03.py"
      ],
      "execution_count": null,
      "outputs": []
    },
    {
      "cell_type": "markdown",
      "metadata": {},
      "source": [
        "## A brief digression on the SQL Ibis generates\n",
        "\n",
        "Maybe you've heard that SQL has a standard?  This is true, and also misleading.\n",
        "The SQL standard is more of a suggestion, and there are myriad SQL _dialects_.\n",
        "\n",
        "Ibis compiles expressions into the appropriate SQL dialect for the backend you are using.\n",
        "In this case, we started with a DuckDB table, so we get DuckDB SQL:"
      ]
    },
    {
      "cell_type": "code",
      "metadata": {},
      "source": [
        "ibis.to_sql(expr)"
      ],
      "execution_count": null,
      "outputs": []
    },
    {
      "cell_type": "markdown",
      "metadata": {},
      "source": [
        "But if you want to use a _different_ dialect, you can pass the dialect name:"
      ]
    },
    {
      "cell_type": "code",
      "metadata": {},
      "source": [
        "ibis.to_sql(expr, dialect=\"postgres\")"
      ],
      "execution_count": null,
      "outputs": []
    },
    {
      "cell_type": "markdown",
      "metadata": {},
      "source": [
        "## Some useful extras\n",
        "\n",
        "### `cast`\n",
        "\n",
        "Sometimes when you parse data, _especially_ from CSVs, the types get a bit\n",
        "messed up. Or you might be loading in a `parquet` file where everything is\n",
        "defined as a `string`.  We can clean that up pretty quickly.\n",
        "\n",
        "You can cast from floats to ints:"
      ]
    },
    {
      "cell_type": "code",
      "metadata": {},
      "source": [
        "penguins.bill_length_mm.cast(\"int32\")"
      ],
      "execution_count": null,
      "outputs": []
    },
    {
      "cell_type": "markdown",
      "metadata": {},
      "source": [
        "And from ints to floats:"
      ]
    },
    {
      "cell_type": "code",
      "metadata": {},
      "source": [
        "penguins.year.cast(\"float64\")  # this is a terrible idea"
      ],
      "execution_count": null,
      "outputs": []
    },
    {
      "cell_type": "markdown",
      "metadata": {},
      "source": [
        "You can cast numeric columns to strings:"
      ]
    },
    {
      "cell_type": "code",
      "metadata": {},
      "source": [
        "penguins.year.cast(\"str\")  # or \"string\""
      ],
      "execution_count": null,
      "outputs": []
    },
    {
      "cell_type": "markdown",
      "metadata": {},
      "source": [
        "And numeric strings to numbers:"
      ]
    },
    {
      "cell_type": "code",
      "metadata": {},
      "source": [
        "penguins.year.cast(\"str\").cast(\"int64\")"
      ],
      "execution_count": null,
      "outputs": []
    },
    {
      "cell_type": "markdown",
      "metadata": {},
      "source": [
        "But `ibis` will yell if you try to cast a non-numeric string to a number:"
      ]
    },
    {
      "cell_type": "code",
      "metadata": {
        "scrolled": true
      },
      "source": [
        "penguins.species.cast(\"int32\")"
      ],
      "execution_count": null,
      "outputs": []
    },
    {
      "cell_type": "markdown",
      "metadata": {},
      "source": [
        "### dropna\n",
        "\n",
        "Does what it says on the box -- drop the `NULL`s from a dataset."
      ]
    },
    {
      "cell_type": "code",
      "metadata": {},
      "source": [
        "penguins.dropna()"
      ],
      "execution_count": null,
      "outputs": []
    },
    {
      "cell_type": "markdown",
      "metadata": {},
      "source": [
        "1: Horst AM, Hill AP, Gorman KB (2020). palmerpenguins: Palmer Archipelago\n",
        "(Antarctica) penguin data. R package version 0.1.0.\n",
        "https://allisonhorst.github.io/palmerpenguins/. doi: 10.5281/zenodo.3960218."
      ]
    }
  ],
  "metadata": {
    "kernelspec": {
      "name": "python3",
      "language": "python",
      "display_name": "Python 3 (ipykernel)"
    }
  },
  "nbformat": 4,
  "nbformat_minor": 4
}