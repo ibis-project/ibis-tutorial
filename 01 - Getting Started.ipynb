{
 "cells": [
  {
   "cell_type": "markdown",
   "id": "2caaae68-998a-491c-94b8-da1e2ae29a6c",
   "metadata": {},
   "source": [
    "# Getting started"
   ]
  },
  {
   "cell_type": "markdown",
   "id": "d42a06b2-6d7c-4f61-95eb-13c8ea3fbb04",
   "metadata": {},
   "source": [
    "## Installation"
   ]
  },
  {
   "cell_type": "markdown",
   "id": "97774050-d45e-45e6-972d-224a824f6c76",
   "metadata": {},
   "source": [
    "See the [README](https://github.com/ibis-project/ibis-tutorial#setup) for up-to-date installation instructions!"
   ]
  },
  {
   "cell_type": "markdown",
   "id": "63b9cd1f-592d-4539-bf12-3b939ba81fb4",
   "metadata": {},
   "source": [
    "## Download some data\n",
    "\n",
    "There are other ways to get example data, but we'll start by downloading the penguins dataset\n",
    "$^1$.\n",
    "\n"
   ]
  },
  {
   "cell_type": "code",
   "execution_count": null,
   "id": "fd17c2eb-84c8-490f-a619-897be2d36eea",
   "metadata": {},
   "outputs": [],
   "source": [
    "from pathlib import Path\n",
    "\n",
    "ddb_file = Path(\"palmer_penguins.ddb\")\n",
    "\n",
    "if not ddb_file.exists():\n",
    "    import urllib.request\n",
    "\n",
    "    urllib.request.urlretrieve(\n",
    "        \"https://storage.googleapis.com/ibis-tutorial-data/palmer_penguins.ddb\",\n",
    "        ddb_file,\n",
    "    )"
   ]
  },
  {
   "cell_type": "markdown",
   "id": "37369ef4-5e2d-443b-a22c-19a2e14508cc",
   "metadata": {},
   "source": [
    "DuckDB is similar to sqlite -- we have a single file on disk (or an in-memory connection) that we can operate on."
   ]
  },
  {
   "cell_type": "code",
   "execution_count": null,
   "id": "73add95a-6fce-498f-a50a-7c5fcf6d378a",
   "metadata": {},
   "outputs": [],
   "source": [
    "import ibis\n",
    "\n",
    "con = ibis.duckdb.connect(\"palmer_penguins.ddb\", read_only=True)"
   ]
  },
  {
   "cell_type": "markdown",
   "id": "0e7a70bb-4890-4d76-b1d6-a7199ec32106",
   "metadata": {},
   "source": [
    "**Note**: when you connect to a DuckDB database file, DuckDB will create a lock-file to prevent data corruption.  If you see a `palmer_penguins.ddb.wal` file, you can safely ignore it. It will get cleaned up automatically."
   ]
  },
  {
   "cell_type": "code",
   "execution_count": null,
   "id": "43fb9e80-36e8-4ebf-8207-e0d5ff57e138",
   "metadata": {},
   "outputs": [],
   "source": [
    "con.list_tables()"
   ]
  },
  {
   "cell_type": "code",
   "execution_count": null,
   "id": "7e512258-8db3-4a04-bbf3-5855b6a2d930",
   "metadata": {},
   "outputs": [],
   "source": [
    "penguins = con.table(\"penguins\")"
   ]
  },
  {
   "cell_type": "code",
   "execution_count": null,
   "id": "d73a3f9d-c689-46e0-97cc-1b62e4099b6f",
   "metadata": {},
   "outputs": [],
   "source": [
    "penguins"
   ]
  },
  {
   "cell_type": "code",
   "execution_count": null,
   "id": "3253f5d3-5047-4003-b969-b57e579fa6e7",
   "metadata": {},
   "outputs": [],
   "source": [
    "penguins.head().to_pandas()"
   ]
  },
  {
   "cell_type": "code",
   "execution_count": null,
   "id": "884e9532-2c3c-4dce-ac51-a3940fef6f7d",
   "metadata": {},
   "outputs": [],
   "source": [
    "penguins.head().to_pyarrow()"
   ]
  },
  {
   "cell_type": "code",
   "execution_count": null,
   "id": "a693f3e6-a926-45d5-be89-5ff6a606f573",
   "metadata": {},
   "outputs": [],
   "source": [
    "penguins.head()"
   ]
  },
  {
   "cell_type": "markdown",
   "id": "28fdfbc1-9ecd-4d0f-b26d-d047ead9a797",
   "metadata": {},
   "source": [
    "## Interactive Mode"
   ]
  },
  {
   "cell_type": "code",
   "execution_count": null,
   "id": "b135df4c-399a-472a-ad92-1fbd48671a6e",
   "metadata": {},
   "outputs": [],
   "source": [
    "ibis.options.interactive = True"
   ]
  },
  {
   "cell_type": "code",
   "execution_count": null,
   "id": "a9a1b4c8-ed6a-4adc-a3d3-c21096aac53e",
   "metadata": {},
   "outputs": [],
   "source": [
    "penguins.head()"
   ]
  },
  {
   "cell_type": "markdown",
   "id": "204d331e-bd6f-4722-805f-51b9840e5503",
   "metadata": {},
   "source": [
    "## Tables and Columns"
   ]
  },
  {
   "cell_type": "markdown",
   "id": "5fb95871-7397-4a27-a29f-5bc19d8f20f5",
   "metadata": {},
   "source": [
    "`penguins` is a table!  A table is a collection of one or more columns, each with a specific datatype."
   ]
  },
  {
   "cell_type": "code",
   "execution_count": null,
   "id": "7c802c06-7701-4f55-ae41-99636d3ef3b2",
   "metadata": {},
   "outputs": [],
   "source": [
    "penguins.head()"
   ]
  },
  {
   "cell_type": "code",
   "execution_count": null,
   "id": "39b7a7ba-36ee-48c9-9f00-1d9cab81c343",
   "metadata": {},
   "outputs": [],
   "source": [
    "type(penguins)"
   ]
  },
  {
   "cell_type": "markdown",
   "id": "ee924831-2a43-44f2-8060-1c6d411b4533",
   "metadata": {},
   "source": [
    "We can look at a single column of that table using the column name as an attribute:"
   ]
  },
  {
   "cell_type": "code",
   "execution_count": null,
   "id": "26f39e37-1e9c-4135-9dd6-dd62c2908d55",
   "metadata": {},
   "outputs": [],
   "source": [
    "penguins.species"
   ]
  },
  {
   "cell_type": "code",
   "execution_count": null,
   "id": "5b75456f-6ea8-4689-a19a-dfae57d8e9ec",
   "metadata": {},
   "outputs": [],
   "source": [
    "type(penguins.species)"
   ]
  },
  {
   "cell_type": "markdown",
   "id": "43a83975-187a-4dca-beb8-c87fa00dc9b8",
   "metadata": {},
   "source": [
    "## Filter"
   ]
  },
  {
   "cell_type": "code",
   "execution_count": null,
   "id": "b4e5e71b-e606-429c-a674-da6097e49281",
   "metadata": {},
   "outputs": [],
   "source": [
    "penguins.filter(penguins.species == \"Adelie\")"
   ]
  },
  {
   "cell_type": "code",
   "execution_count": null,
   "id": "8afb33ea-cb3d-451d-8d58-5205f72d6e78",
   "metadata": {
    "scrolled": true
   },
   "outputs": [],
   "source": [
    "penguins.filter((penguins.island == \"Dream\") & (penguins.species == \"Adelie\"))"
   ]
  },
  {
   "cell_type": "code",
   "execution_count": null,
   "id": "2af61f03-e53b-4a17-988b-007e195bb1ac",
   "metadata": {},
   "outputs": [],
   "source": [
    "penguins.filter(\n",
    "    [\n",
    "        penguins.island == \"Dream\",\n",
    "        penguins.species == \"Adelie\",\n",
    "    ]\n",
    ")"
   ]
  },
  {
   "cell_type": "code",
   "execution_count": null,
   "id": "5c4e669a-7a83-4ea7-9dc1-d9da8187b3f2",
   "metadata": {},
   "outputs": [],
   "source": [
    "ibis.to_sql(\n",
    "    penguins.filter(\n",
    "    [\n",
    "        penguins.island == \"Dream\",\n",
    "        penguins.species == \"Adelie\",\n",
    "    ]\n",
    ")\n",
    ")"
   ]
  },
  {
   "cell_type": "markdown",
   "id": "f656267b-1e19-4dcf-ae90-3e886778c51c",
   "metadata": {},
   "source": [
    "## Select"
   ]
  },
  {
   "cell_type": "code",
   "execution_count": null,
   "id": "be380f10-5f99-486a-9a0c-de3d51946b2e",
   "metadata": {},
   "outputs": [],
   "source": [
    "penguins.select(\"species\", \"island\", \"year\")"
   ]
  },
  {
   "cell_type": "code",
   "execution_count": null,
   "id": "120f9a44-5e19-42e5-a687-a82a701270aa",
   "metadata": {},
   "outputs": [],
   "source": [
    "penguins.select(penguins.species, penguins.island, penguins.year)"
   ]
  },
  {
   "cell_type": "code",
   "execution_count": null,
   "id": "40188eb1-3f8a-445f-9f25-de9efb795bcd",
   "metadata": {},
   "outputs": [],
   "source": [
    "penguins.select(\"species\", \"island\", penguins.year)"
   ]
  },
  {
   "cell_type": "markdown",
   "id": "62c40f00-23eb-4930-8d6b-b00f7a46ec8b",
   "metadata": {},
   "source": [
    "## Drop"
   ]
  },
  {
   "cell_type": "code",
   "execution_count": null,
   "id": "3458eb77-9d07-4396-84ff-05a68a8c4792",
   "metadata": {},
   "outputs": [],
   "source": [
    "penguins.drop(\"sex\", \"year\")"
   ]
  },
  {
   "cell_type": "code",
   "execution_count": null,
   "id": "9c8044ce-f287-4e49-8520-6dd6fb088d8d",
   "metadata": {},
   "outputs": [],
   "source": [
    "penguins.drop(penguins.sex, penguins.year)"
   ]
  },
  {
   "cell_type": "code",
   "execution_count": null,
   "id": "01c7d2a3-0b39-4a69-b9e6-0bce1bee97db",
   "metadata": {},
   "outputs": [],
   "source": [
    "penguins.drop(\"sex\", penguins.year)"
   ]
  },
  {
   "cell_type": "markdown",
   "id": "13154e27-dfa0-4ad1-ba19-e08ea1eb6043",
   "metadata": {},
   "source": [
    "## Mutate"
   ]
  },
  {
   "cell_type": "markdown",
   "id": "162467b7-69d2-4fc0-8633-6d1dfa28d145",
   "metadata": {},
   "source": [
    "Everything we've seen so far has been subtractive -- removing rows or columns.  What about _adding_ columns?"
   ]
  },
  {
   "cell_type": "code",
   "execution_count": null,
   "id": "ea5d2653-6c9d-4f6e-ac85-7bf2f5073710",
   "metadata": {},
   "outputs": [],
   "source": [
    "penguins.mutate(bill_length_cm=penguins.bill_length_mm / 10)"
   ]
  },
  {
   "cell_type": "markdown",
   "id": "41da5e0a-e72f-4c35-87d9-4c2286f636cb",
   "metadata": {},
   "source": [
    "## Method chaining"
   ]
  },
  {
   "cell_type": "markdown",
   "id": "535b34d1-c8e5-4b0d-933e-794906a8f860",
   "metadata": {},
   "source": [
    "You can build up complicated queries by chaining together Ibis methods. The output of many Ibis methods is a table (just like `penguins`!) and we can continue calling table methods until we're satisfied.  Or until we end up with something that _isn't_ a table.  More on that later."
   ]
  },
  {
   "cell_type": "code",
   "execution_count": null,
   "id": "93c8f135-9926-4595-bf66-4b80ea279ccb",
   "metadata": {},
   "outputs": [],
   "source": [
    "penguins.select(\"species\", \"island\", \"year\", \"bill_length_mm\").drop(\"year\")"
   ]
  },
  {
   "cell_type": "markdown",
   "id": "a80ad826-ee34-4538-92c9-3549c38a3bf9",
   "metadata": {},
   "source": [
    "Not the most staggeringly complicated query, but we'll see more soon."
   ]
  },
  {
   "cell_type": "markdown",
   "id": "ed38a0aa-c7f2-4da1-8caf-c60a70e1686b",
   "metadata": {},
   "source": [
    "### Exercise 1\n",
    "\n",
    "Your PI is a cranky American biologist who thinks the metric system is for suckers (oh no).\n",
    "\n",
    "He demands that we convert all of the existing measurements (`mm` and `g`) to inches and lbs, respectively (I am so sorry). The PI is extra cranky this morning, so we had better make sure that ONLY the silly units are visible in the output.\n",
    "\n",
    "Some ~helpful~ cursed conversion factors:\n",
    "\n",
    "|  |  |\n",
    "| -- | -- |\n",
    "| mm -> in | divide by 25.4 |\n",
    "| g -> lb | divide by 453.6 |\n",
    "\n",
    "Two ways you might accomplish this:\n",
    "- Chaining `.mutate` to create new columns and `.drop` to drop the old metric columns\n",
    "- Using a single `.select` to create the new columns as well as select the relevant older columns\n",
    "\n",
    "Try both ways below! How do they compare?"
   ]
  },
  {
   "cell_type": "code",
   "execution_count": null,
   "id": "fb031827",
   "metadata": {},
   "outputs": [],
   "source": [
    "# Convert the metric units to imperial, and drop the metric columns.\n",
    "# Try this using a `.mutate` and `.drop` call.\n",
    "penguins_imperial_mutate_drop = ..."
   ]
  },
  {
   "cell_type": "code",
   "execution_count": null,
   "id": "a0f6d6e3",
   "metadata": {},
   "outputs": [],
   "source": [
    "# Convert the metric units to imperial, and drop the metric columns.\n",
    "# Try this using a single `.select` call.\n",
    "penguins_imperial_select = ..."
   ]
  },
  {
   "cell_type": "markdown",
   "id": "66b5cf2c",
   "metadata": {},
   "source": [
    "#### Solutions"
   ]
  },
  {
   "cell_type": "code",
   "execution_count": null,
   "id": "90345bf7",
   "metadata": {},
   "outputs": [],
   "source": [
    "%load solutions/nb01-ex01-mutate-drop.py"
   ]
  },
  {
   "cell_type": "code",
   "execution_count": null,
   "id": "2c3f1135",
   "metadata": {},
   "outputs": [],
   "source": [
    "%load solutions/nb01-ex01-select.py"
   ]
  },
  {
   "cell_type": "markdown",
   "id": "2b98fc5b-1872-4cd4-831e-3a9ccc5167cb",
   "metadata": {},
   "source": [
    "### Does it matter which method you choose?\n",
    "\n",
    "In this case, no.  Sometimes, there might be a small difference in the generated SQL."
   ]
  },
  {
   "cell_type": "code",
   "execution_count": null,
   "id": "39704c4f-2050-42b1-a738-dc01c8246374",
   "metadata": {},
   "outputs": [],
   "source": [
    "ibis.to_sql(penguins_imperial_mutate_drop)"
   ]
  },
  {
   "cell_type": "code",
   "execution_count": null,
   "id": "f6e6c2c8-ecbe-4360-a06c-87870a276b41",
   "metadata": {},
   "outputs": [],
   "source": [
    "ibis.to_sql(penguins_imperial_select)"
   ]
  },
  {
   "cell_type": "markdown",
   "id": "6a3fc8d1-54ce-41e9-a9b9-86f72c0efd07",
   "metadata": {},
   "source": [
    "But, in practice, this doesn't make a difference.  Any modern SQL execution engine will optimize these two variations to the same set of operations and there will be no measureable performance difference."
   ]
  },
  {
   "cell_type": "markdown",
   "id": "b8c078e1-a25f-4f5c-b0de-3ec207deec6a",
   "metadata": {},
   "source": [
    "## Order By"
   ]
  },
  {
   "cell_type": "markdown",
   "id": "a117adf1-7222-4afd-8e9d-56c376f2ea6f",
   "metadata": {},
   "source": [
    "Want to order your data by a given column or columns?  Use `order_by`!"
   ]
  },
  {
   "cell_type": "markdown",
   "id": "5e28adfd-f887-4915-b6f2-415f2290426f",
   "metadata": {},
   "source": [
    "The default ordering direction is ascending:"
   ]
  },
  {
   "cell_type": "code",
   "execution_count": null,
   "id": "2e387ef2-553f-48dd-a424-d05f0986e8cc",
   "metadata": {},
   "outputs": [],
   "source": [
    "penguins.order_by(penguins.flipper_length_mm)"
   ]
  },
  {
   "cell_type": "code",
   "execution_count": null,
   "id": "189dc6dc-e574-4cb1-bf74-bdf2fc0265b4",
   "metadata": {},
   "outputs": [],
   "source": [
    "penguins.order_by(penguins.flipper_length_mm.desc())"
   ]
  },
  {
   "cell_type": "markdown",
   "id": "a82ed81f-0e7b-47f8-9400-3f590d280f12",
   "metadata": {},
   "source": [
    "Let's select out a subset of the columns to keep this a bit tidier."
   ]
  },
  {
   "cell_type": "code",
   "execution_count": null,
   "id": "c0de6bf5-e6b9-40bb-8196-aa50ecaa1235",
   "metadata": {},
   "outputs": [],
   "source": [
    "penguins.order_by(penguins.flipper_length_mm.desc()).select(\n",
    "    \"species\", \"island\", \"flipper_length_mm\"\n",
    ")"
   ]
  },
  {
   "cell_type": "markdown",
   "id": "7a574c34-0f66-4f1d-8549-850bae067a73",
   "metadata": {},
   "source": [
    "You can also call `ibis.desc` on the column name to set the order direction:"
   ]
  },
  {
   "cell_type": "code",
   "execution_count": null,
   "id": "2fa74a0c-beb8-45be-9211-0c0b4cb3bc60",
   "metadata": {},
   "outputs": [],
   "source": [
    "penguins.order_by(ibis.desc(\"flipper_length_mm\")).select(\"species\", \"island\", \"flipper_length_mm\")"
   ]
  },
  {
   "cell_type": "markdown",
   "id": "59ec4b25-6f22-468d-93d7-68ac9a59c73c",
   "metadata": {},
   "source": [
    "## Aggregate"
   ]
  },
  {
   "cell_type": "markdown",
   "id": "2d86fd37-60a2-4bcf-94cc-b2fb6447c8a1",
   "metadata": {},
   "source": [
    "Ibis has several aggregate functions available to help summarize data.  All the old favorites are there: `mean`, `max`, `min`, `count`, `sum`...\n",
    "\n",
    "You can aggregate a column by calling the method on that column:"
   ]
  },
  {
   "cell_type": "code",
   "execution_count": null,
   "id": "8a3d2b57-140d-4fd3-afa8-927c62fc4337",
   "metadata": {},
   "outputs": [],
   "source": [
    "penguins.flipper_length_mm.mean()"
   ]
  },
  {
   "cell_type": "markdown",
   "id": "6d70c7fa-a71e-4144-a90c-a7e0914cb347",
   "metadata": {},
   "source": [
    "Or you can compute multiple aggregates using the `aggregate` method (also available as `agg` for faster typing):"
   ]
  },
  {
   "cell_type": "code",
   "execution_count": null,
   "id": "9ec7694b-44c5-4a67-be60-c0548e935765",
   "metadata": {},
   "outputs": [],
   "source": [
    "penguins.agg([penguins.flipper_length_mm.mean(), penguins.bill_depth_mm.max()])"
   ]
  },
  {
   "cell_type": "markdown",
   "id": "94d06cf3-1708-406e-8f8a-31fe7a7a52f2",
   "metadata": {},
   "source": [
    "But aggregates really shine when paired with a `group_by`!"
   ]
  },
  {
   "cell_type": "markdown",
   "id": "1e814f5e-6c10-4fc9-a662-81031c93ea8f",
   "metadata": {},
   "source": [
    "## Group By\n",
    "\n",
    "`group_by` creates groupings of rows that have the same value for one or more columns.\n",
    "\n",
    "But it doesn't do much on its own -- you can pair it with aggregate to get a result."
   ]
  },
  {
   "cell_type": "code",
   "execution_count": null,
   "id": "1983da84-e168-4cf9-9e1f-ee63465e869d",
   "metadata": {},
   "outputs": [],
   "source": [
    "penguins.group_by(\"species\").agg()"
   ]
  },
  {
   "cell_type": "markdown",
   "id": "f392f266-1c37-4983-94c9-f91752681ff8",
   "metadata": {},
   "source": [
    "Without any `aggregate` function specified, we get the distinct values of the grouped-column.\n",
    "\n",
    "We can add a second column to the `group_by` to get the distinct pairs across both columns:"
   ]
  },
  {
   "cell_type": "code",
   "execution_count": null,
   "id": "af5336da-5de4-41ac-9d66-e585fad04c5c",
   "metadata": {},
   "outputs": [],
   "source": [
    "penguins.group_by([\"species\", \"island\"]).agg()"
   ]
  },
  {
   "cell_type": "markdown",
   "id": "9a81fa79-637c-4f0d-9f6d-ba4f80ee22a7",
   "metadata": {},
   "source": [
    "Now, if we add an aggregation function to that, we start to really open things up."
   ]
  },
  {
   "cell_type": "code",
   "execution_count": null,
   "id": "c6fd9a18-f302-45d3-9fad-62dc72e39679",
   "metadata": {},
   "outputs": [],
   "source": [
    "penguins.group_by([\"species\", \"island\"]).agg(penguins.bill_length_mm.mean())"
   ]
  },
  {
   "cell_type": "markdown",
   "id": "79f183e0-cf3a-4f28-acb3-a021f333c20d",
   "metadata": {},
   "source": [
    "By adding that `mean` to the `aggregate`, we now have a concise way to calculate aggregates over each of the distinct groups in the `group_by`. And we can calculate as many aggregates as we need."
   ]
  },
  {
   "cell_type": "code",
   "execution_count": null,
   "id": "1cfea125-3481-4732-a827-259f71a68b04",
   "metadata": {},
   "outputs": [],
   "source": [
    "penguins.group_by([\"species\", \"island\"]).agg(\n",
    "    [penguins.bill_length_mm.mean(), penguins.flipper_length_mm.max()]\n",
    ")"
   ]
  },
  {
   "cell_type": "markdown",
   "id": "f61ad11a-cad7-4224-a338-ca4b02aece83",
   "metadata": {},
   "source": [
    "If we need more specific groups, we can add to the `group_by`."
   ]
  },
  {
   "cell_type": "code",
   "execution_count": null,
   "id": "e8368631-3751-4ff4-af5d-426dccc02ed4",
   "metadata": {},
   "outputs": [],
   "source": [
    "penguins.group_by([\"species\", \"island\", \"sex\"]).agg(\n",
    "        [penguins.bill_length_mm.mean(), penguins.flipper_length_mm.max()]\n",
    "    )"
   ]
  },
  {
   "cell_type": "markdown",
   "id": "65ab02e6-17d6-4014-b5bd-e306d8a05046",
   "metadata": {},
   "source": [
    "## Exercises\n",
    "\n",
    "Time to use what we've learned to answer some penguin questions."
   ]
  },
  {
   "cell_type": "markdown",
   "id": "899237e9-6376-4bff-908c-5a1d163d3c3c",
   "metadata": {},
   "source": [
    "### Exercise 2\n",
    "\n",
    "What was the largest female penguin (by body mass) on each island in the year 2008?"
   ]
  },
  {
   "cell_type": "code",
   "execution_count": null,
   "id": "eda8ee1b",
   "metadata": {},
   "outputs": [],
   "source": []
  },
  {
   "cell_type": "markdown",
   "id": "97a83eb9",
   "metadata": {},
   "source": [
    "#### Solution\n",
    "\n",
    "Note that there are several ways these queries could be written - it's fine if your solution doesn't look like ours, what's important is that the results are the same."
   ]
  },
  {
   "cell_type": "code",
   "execution_count": null,
   "id": "ef097744",
   "metadata": {},
   "outputs": [],
   "source": [
    "%load solutions/nb01-ex02.py"
   ]
  },
  {
   "cell_type": "markdown",
   "id": "1c4625b4-25dd-45b5-b151-4e42a77638d1",
   "metadata": {},
   "source": [
    "### Exercise 3\n",
    "\n",
    "What was the largest male penguin (by body mass) on each island for each year of data collection?"
   ]
  },
  {
   "cell_type": "code",
   "execution_count": null,
   "id": "9ffe89c3",
   "metadata": {},
   "outputs": [],
   "source": []
  },
  {
   "cell_type": "markdown",
   "id": "9aa56930",
   "metadata": {},
   "source": [
    "#### Solution"
   ]
  },
  {
   "cell_type": "code",
   "execution_count": null,
   "id": "23451783",
   "metadata": {},
   "outputs": [],
   "source": [
    "%load solutions/nb01-ex03.py"
   ]
  },
  {
   "cell_type": "markdown",
   "id": "9762b81c-0208-41e6-a0db-7a2e1ef9c9db",
   "metadata": {},
   "source": [
    "## Some useful extras for staying sane"
   ]
  },
  {
   "cell_type": "markdown",
   "id": "a567824d-f172-4277-9dd8-53d977310ad5",
   "metadata": {},
   "source": [
    "### `cast`\n",
    "\n",
    "Sometimes when you parse data, _especially_ from CSVs, the types get a bit messed up. Or you might be loading in a `parquet` file where everything is defined as a `string`.  We can clean that up pretty quickly.\n",
    "\n",
    "You can cast from floats to ints:"
   ]
  },
  {
   "cell_type": "code",
   "execution_count": null,
   "id": "7376f3e3-018c-4e50-a1ab-1c2ae8bc5ac2",
   "metadata": {},
   "outputs": [],
   "source": [
    "penguins.bill_length_mm.cast(\"int32\")"
   ]
  },
  {
   "cell_type": "markdown",
   "id": "093645e7-2d83-47ed-9ee1-3f8c30a89f60",
   "metadata": {},
   "source": [
    "And from ints to floats:"
   ]
  },
  {
   "cell_type": "code",
   "execution_count": null,
   "id": "aa5a1966-b8d0-429f-899c-d86b2a66814a",
   "metadata": {},
   "outputs": [],
   "source": [
    "penguins.year.cast(\"float64\")  # this is a terrible idea"
   ]
  },
  {
   "cell_type": "markdown",
   "id": "2cabdd79-4f72-47f4-a197-cfc00e7399f9",
   "metadata": {},
   "source": [
    "You can cast numeric columns to strings:"
   ]
  },
  {
   "cell_type": "code",
   "execution_count": null,
   "id": "1a92e2dc-c3c4-4a5c-b8d2-fc161a09ab0e",
   "metadata": {},
   "outputs": [],
   "source": [
    "penguins.year.cast(\"str\")  # or \"string\""
   ]
  },
  {
   "cell_type": "markdown",
   "id": "f1e7324c-6455-4727-bfd3-f39073247607",
   "metadata": {},
   "source": [
    "And numeric strings to numbers:"
   ]
  },
  {
   "cell_type": "code",
   "execution_count": null,
   "id": "876b00eb-12b9-4878-b55f-2afc91c7b4ba",
   "metadata": {},
   "outputs": [],
   "source": [
    "penguins.year.cast(\"str\").cast(\"int64\")"
   ]
  },
  {
   "cell_type": "markdown",
   "id": "34aa4a7d-c8db-4ff9-833a-fd47b33a5a90",
   "metadata": {},
   "source": [
    "But `ibis` will yell if you try to cast a non-numeric string to a number:"
   ]
  },
  {
   "cell_type": "code",
   "execution_count": null,
   "id": "ca2f4c4a-ac34-43d8-88c3-d9486fa308e2",
   "metadata": {
    "scrolled": true
   },
   "outputs": [],
   "source": [
    "penguins.species.cast(\"int32\")"
   ]
  },
  {
   "cell_type": "markdown",
   "id": "1fc7a05a-a1f9-4f22-bdad-29b3d92d1103",
   "metadata": {},
   "source": [
    "### dropna\n",
    "\n",
    "Does what it says on the box -- drop the `NULL`s from a dataset."
   ]
  },
  {
   "cell_type": "code",
   "execution_count": null,
   "id": "cdb8c204-3239-43d8-bc40-534e6409097b",
   "metadata": {},
   "outputs": [],
   "source": [
    "penguins.dropna()"
   ]
  },
  {
   "cell_type": "markdown",
   "id": "a5b031f9-e20e-4387-b9ee-10a6c06fef18",
   "metadata": {},
   "source": [
    "1: Horst AM, Hill AP, Gorman KB (2020). palmerpenguins: Palmer Archipelago (Antarctica) penguin data. R package version 0.1.0. https://allisonhorst.github.io/palmerpenguins/. doi: 10.5281/zenodo.3960218."
   ]
  }
 ],
 "metadata": {
  "kernelspec": {
   "display_name": "Python 3 (ipykernel)",
   "language": "python",
   "name": "python3"
  },
  "language_info": {
   "codemirror_mode": {
    "name": "ipython",
    "version": 3
   },
   "file_extension": ".py",
   "mimetype": "text/x-python",
   "name": "python",
   "nbconvert_exporter": "python",
   "pygments_lexer": "ipython3",
   "version": "3.11.6"
  }
 },
 "nbformat": 4,
 "nbformat_minor": 5
}
